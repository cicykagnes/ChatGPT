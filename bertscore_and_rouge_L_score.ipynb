{
  "nbformat": 4,
  "nbformat_minor": 0,
  "metadata": {
    "colab": {
      "provenance": [],
      "gpuType": "T4",
      "authorship_tag": "ABX9TyOGZhYseMS/SAAC2F0BvQwd"
    },
    "kernelspec": {
      "name": "python3",
      "display_name": "Python 3"
    },
    "language_info": {
      "name": "python"
    },
    "accelerator": "GPU",
    "gpuClass": "standard",
    "widgets": {
      "application/vnd.jupyter.widget-state+json": {
        "aa15d9ebfde94ee6a9938a4e55442134": {
          "model_module": "@jupyter-widgets/controls",
          "model_name": "HBoxModel",
          "model_module_version": "1.5.0",
          "state": {
            "_dom_classes": [],
            "_model_module": "@jupyter-widgets/controls",
            "_model_module_version": "1.5.0",
            "_model_name": "HBoxModel",
            "_view_count": null,
            "_view_module": "@jupyter-widgets/controls",
            "_view_module_version": "1.5.0",
            "_view_name": "HBoxView",
            "box_style": "",
            "children": [
              "IPY_MODEL_79b2ec4d392046de95bc78da2fde6b11",
              "IPY_MODEL_6c37ff0283c04dcfb0139128269498f6",
              "IPY_MODEL_66aded6fef5b4754af4d83c00c45013a"
            ],
            "layout": "IPY_MODEL_85c0a872c1074da0ac6b4036544574d1"
          }
        },
        "79b2ec4d392046de95bc78da2fde6b11": {
          "model_module": "@jupyter-widgets/controls",
          "model_name": "HTMLModel",
          "model_module_version": "1.5.0",
          "state": {
            "_dom_classes": [],
            "_model_module": "@jupyter-widgets/controls",
            "_model_module_version": "1.5.0",
            "_model_name": "HTMLModel",
            "_view_count": null,
            "_view_module": "@jupyter-widgets/controls",
            "_view_module_version": "1.5.0",
            "_view_name": "HTMLView",
            "description": "",
            "description_tooltip": null,
            "layout": "IPY_MODEL_7a626697af514d43b55492fdac41211d",
            "placeholder": "​",
            "style": "IPY_MODEL_ff3c875948124e09824983026b1b8778",
            "value": "Downloading (…)lve/main/config.json: 100%"
          }
        },
        "6c37ff0283c04dcfb0139128269498f6": {
          "model_module": "@jupyter-widgets/controls",
          "model_name": "FloatProgressModel",
          "model_module_version": "1.5.0",
          "state": {
            "_dom_classes": [],
            "_model_module": "@jupyter-widgets/controls",
            "_model_module_version": "1.5.0",
            "_model_name": "FloatProgressModel",
            "_view_count": null,
            "_view_module": "@jupyter-widgets/controls",
            "_view_module_version": "1.5.0",
            "_view_name": "ProgressView",
            "bar_style": "success",
            "description": "",
            "description_tooltip": null,
            "layout": "IPY_MODEL_4e472bba7fcf408ead0e4ffeafa10811",
            "max": 482,
            "min": 0,
            "orientation": "horizontal",
            "style": "IPY_MODEL_57a264ec17584a718509164f2614008b",
            "value": 482
          }
        },
        "66aded6fef5b4754af4d83c00c45013a": {
          "model_module": "@jupyter-widgets/controls",
          "model_name": "HTMLModel",
          "model_module_version": "1.5.0",
          "state": {
            "_dom_classes": [],
            "_model_module": "@jupyter-widgets/controls",
            "_model_module_version": "1.5.0",
            "_model_name": "HTMLModel",
            "_view_count": null,
            "_view_module": "@jupyter-widgets/controls",
            "_view_module_version": "1.5.0",
            "_view_name": "HTMLView",
            "description": "",
            "description_tooltip": null,
            "layout": "IPY_MODEL_0a253e2040424afb80820d485340b3b5",
            "placeholder": "​",
            "style": "IPY_MODEL_e8c6bd81895a4c6986617ac13b6d64d2",
            "value": " 482/482 [00:00&lt;00:00, 26.4kB/s]"
          }
        },
        "85c0a872c1074da0ac6b4036544574d1": {
          "model_module": "@jupyter-widgets/base",
          "model_name": "LayoutModel",
          "model_module_version": "1.2.0",
          "state": {
            "_model_module": "@jupyter-widgets/base",
            "_model_module_version": "1.2.0",
            "_model_name": "LayoutModel",
            "_view_count": null,
            "_view_module": "@jupyter-widgets/base",
            "_view_module_version": "1.2.0",
            "_view_name": "LayoutView",
            "align_content": null,
            "align_items": null,
            "align_self": null,
            "border": null,
            "bottom": null,
            "display": null,
            "flex": null,
            "flex_flow": null,
            "grid_area": null,
            "grid_auto_columns": null,
            "grid_auto_flow": null,
            "grid_auto_rows": null,
            "grid_column": null,
            "grid_gap": null,
            "grid_row": null,
            "grid_template_areas": null,
            "grid_template_columns": null,
            "grid_template_rows": null,
            "height": null,
            "justify_content": null,
            "justify_items": null,
            "left": null,
            "margin": null,
            "max_height": null,
            "max_width": null,
            "min_height": null,
            "min_width": null,
            "object_fit": null,
            "object_position": null,
            "order": null,
            "overflow": null,
            "overflow_x": null,
            "overflow_y": null,
            "padding": null,
            "right": null,
            "top": null,
            "visibility": null,
            "width": null
          }
        },
        "7a626697af514d43b55492fdac41211d": {
          "model_module": "@jupyter-widgets/base",
          "model_name": "LayoutModel",
          "model_module_version": "1.2.0",
          "state": {
            "_model_module": "@jupyter-widgets/base",
            "_model_module_version": "1.2.0",
            "_model_name": "LayoutModel",
            "_view_count": null,
            "_view_module": "@jupyter-widgets/base",
            "_view_module_version": "1.2.0",
            "_view_name": "LayoutView",
            "align_content": null,
            "align_items": null,
            "align_self": null,
            "border": null,
            "bottom": null,
            "display": null,
            "flex": null,
            "flex_flow": null,
            "grid_area": null,
            "grid_auto_columns": null,
            "grid_auto_flow": null,
            "grid_auto_rows": null,
            "grid_column": null,
            "grid_gap": null,
            "grid_row": null,
            "grid_template_areas": null,
            "grid_template_columns": null,
            "grid_template_rows": null,
            "height": null,
            "justify_content": null,
            "justify_items": null,
            "left": null,
            "margin": null,
            "max_height": null,
            "max_width": null,
            "min_height": null,
            "min_width": null,
            "object_fit": null,
            "object_position": null,
            "order": null,
            "overflow": null,
            "overflow_x": null,
            "overflow_y": null,
            "padding": null,
            "right": null,
            "top": null,
            "visibility": null,
            "width": null
          }
        },
        "ff3c875948124e09824983026b1b8778": {
          "model_module": "@jupyter-widgets/controls",
          "model_name": "DescriptionStyleModel",
          "model_module_version": "1.5.0",
          "state": {
            "_model_module": "@jupyter-widgets/controls",
            "_model_module_version": "1.5.0",
            "_model_name": "DescriptionStyleModel",
            "_view_count": null,
            "_view_module": "@jupyter-widgets/base",
            "_view_module_version": "1.2.0",
            "_view_name": "StyleView",
            "description_width": ""
          }
        },
        "4e472bba7fcf408ead0e4ffeafa10811": {
          "model_module": "@jupyter-widgets/base",
          "model_name": "LayoutModel",
          "model_module_version": "1.2.0",
          "state": {
            "_model_module": "@jupyter-widgets/base",
            "_model_module_version": "1.2.0",
            "_model_name": "LayoutModel",
            "_view_count": null,
            "_view_module": "@jupyter-widgets/base",
            "_view_module_version": "1.2.0",
            "_view_name": "LayoutView",
            "align_content": null,
            "align_items": null,
            "align_self": null,
            "border": null,
            "bottom": null,
            "display": null,
            "flex": null,
            "flex_flow": null,
            "grid_area": null,
            "grid_auto_columns": null,
            "grid_auto_flow": null,
            "grid_auto_rows": null,
            "grid_column": null,
            "grid_gap": null,
            "grid_row": null,
            "grid_template_areas": null,
            "grid_template_columns": null,
            "grid_template_rows": null,
            "height": null,
            "justify_content": null,
            "justify_items": null,
            "left": null,
            "margin": null,
            "max_height": null,
            "max_width": null,
            "min_height": null,
            "min_width": null,
            "object_fit": null,
            "object_position": null,
            "order": null,
            "overflow": null,
            "overflow_x": null,
            "overflow_y": null,
            "padding": null,
            "right": null,
            "top": null,
            "visibility": null,
            "width": null
          }
        },
        "57a264ec17584a718509164f2614008b": {
          "model_module": "@jupyter-widgets/controls",
          "model_name": "ProgressStyleModel",
          "model_module_version": "1.5.0",
          "state": {
            "_model_module": "@jupyter-widgets/controls",
            "_model_module_version": "1.5.0",
            "_model_name": "ProgressStyleModel",
            "_view_count": null,
            "_view_module": "@jupyter-widgets/base",
            "_view_module_version": "1.2.0",
            "_view_name": "StyleView",
            "bar_color": null,
            "description_width": ""
          }
        },
        "0a253e2040424afb80820d485340b3b5": {
          "model_module": "@jupyter-widgets/base",
          "model_name": "LayoutModel",
          "model_module_version": "1.2.0",
          "state": {
            "_model_module": "@jupyter-widgets/base",
            "_model_module_version": "1.2.0",
            "_model_name": "LayoutModel",
            "_view_count": null,
            "_view_module": "@jupyter-widgets/base",
            "_view_module_version": "1.2.0",
            "_view_name": "LayoutView",
            "align_content": null,
            "align_items": null,
            "align_self": null,
            "border": null,
            "bottom": null,
            "display": null,
            "flex": null,
            "flex_flow": null,
            "grid_area": null,
            "grid_auto_columns": null,
            "grid_auto_flow": null,
            "grid_auto_rows": null,
            "grid_column": null,
            "grid_gap": null,
            "grid_row": null,
            "grid_template_areas": null,
            "grid_template_columns": null,
            "grid_template_rows": null,
            "height": null,
            "justify_content": null,
            "justify_items": null,
            "left": null,
            "margin": null,
            "max_height": null,
            "max_width": null,
            "min_height": null,
            "min_width": null,
            "object_fit": null,
            "object_position": null,
            "order": null,
            "overflow": null,
            "overflow_x": null,
            "overflow_y": null,
            "padding": null,
            "right": null,
            "top": null,
            "visibility": null,
            "width": null
          }
        },
        "e8c6bd81895a4c6986617ac13b6d64d2": {
          "model_module": "@jupyter-widgets/controls",
          "model_name": "DescriptionStyleModel",
          "model_module_version": "1.5.0",
          "state": {
            "_model_module": "@jupyter-widgets/controls",
            "_model_module_version": "1.5.0",
            "_model_name": "DescriptionStyleModel",
            "_view_count": null,
            "_view_module": "@jupyter-widgets/base",
            "_view_module_version": "1.2.0",
            "_view_name": "StyleView",
            "description_width": ""
          }
        },
        "96b6fe14cf7a467f94701dec37e14167": {
          "model_module": "@jupyter-widgets/controls",
          "model_name": "HBoxModel",
          "model_module_version": "1.5.0",
          "state": {
            "_dom_classes": [],
            "_model_module": "@jupyter-widgets/controls",
            "_model_module_version": "1.5.0",
            "_model_name": "HBoxModel",
            "_view_count": null,
            "_view_module": "@jupyter-widgets/controls",
            "_view_module_version": "1.5.0",
            "_view_name": "HBoxView",
            "box_style": "",
            "children": [
              "IPY_MODEL_cfa04ddb62ca434b90fb1fc923a1c3ee",
              "IPY_MODEL_e7e753c4c4914acea21003a691c9ca21",
              "IPY_MODEL_c5a5811c3e8b490b94c4291cfeb54581"
            ],
            "layout": "IPY_MODEL_a91087b92aed4f4d88b7e2187fbb063d"
          }
        },
        "cfa04ddb62ca434b90fb1fc923a1c3ee": {
          "model_module": "@jupyter-widgets/controls",
          "model_name": "HTMLModel",
          "model_module_version": "1.5.0",
          "state": {
            "_dom_classes": [],
            "_model_module": "@jupyter-widgets/controls",
            "_model_module_version": "1.5.0",
            "_model_name": "HTMLModel",
            "_view_count": null,
            "_view_module": "@jupyter-widgets/controls",
            "_view_module_version": "1.5.0",
            "_view_name": "HTMLView",
            "description": "",
            "description_tooltip": null,
            "layout": "IPY_MODEL_8ac243282fa14c248976f2c9e285b827",
            "placeholder": "​",
            "style": "IPY_MODEL_a4ba5d6bec9346d786494be1c3e50ede",
            "value": "Downloading (…)olve/main/vocab.json: 100%"
          }
        },
        "e7e753c4c4914acea21003a691c9ca21": {
          "model_module": "@jupyter-widgets/controls",
          "model_name": "FloatProgressModel",
          "model_module_version": "1.5.0",
          "state": {
            "_dom_classes": [],
            "_model_module": "@jupyter-widgets/controls",
            "_model_module_version": "1.5.0",
            "_model_name": "FloatProgressModel",
            "_view_count": null,
            "_view_module": "@jupyter-widgets/controls",
            "_view_module_version": "1.5.0",
            "_view_name": "ProgressView",
            "bar_style": "success",
            "description": "",
            "description_tooltip": null,
            "layout": "IPY_MODEL_fa86057cc5ba4bdabc469f27ce366971",
            "max": 898823,
            "min": 0,
            "orientation": "horizontal",
            "style": "IPY_MODEL_f3c6522b45ae415daa78a1c0c551b5cc",
            "value": 898823
          }
        },
        "c5a5811c3e8b490b94c4291cfeb54581": {
          "model_module": "@jupyter-widgets/controls",
          "model_name": "HTMLModel",
          "model_module_version": "1.5.0",
          "state": {
            "_dom_classes": [],
            "_model_module": "@jupyter-widgets/controls",
            "_model_module_version": "1.5.0",
            "_model_name": "HTMLModel",
            "_view_count": null,
            "_view_module": "@jupyter-widgets/controls",
            "_view_module_version": "1.5.0",
            "_view_name": "HTMLView",
            "description": "",
            "description_tooltip": null,
            "layout": "IPY_MODEL_54834e8c33e14cb798fb8badb19107bf",
            "placeholder": "​",
            "style": "IPY_MODEL_97e2b14cae1b444f8232889dee290779",
            "value": " 899k/899k [00:00&lt;00:00, 20.3MB/s]"
          }
        },
        "a91087b92aed4f4d88b7e2187fbb063d": {
          "model_module": "@jupyter-widgets/base",
          "model_name": "LayoutModel",
          "model_module_version": "1.2.0",
          "state": {
            "_model_module": "@jupyter-widgets/base",
            "_model_module_version": "1.2.0",
            "_model_name": "LayoutModel",
            "_view_count": null,
            "_view_module": "@jupyter-widgets/base",
            "_view_module_version": "1.2.0",
            "_view_name": "LayoutView",
            "align_content": null,
            "align_items": null,
            "align_self": null,
            "border": null,
            "bottom": null,
            "display": null,
            "flex": null,
            "flex_flow": null,
            "grid_area": null,
            "grid_auto_columns": null,
            "grid_auto_flow": null,
            "grid_auto_rows": null,
            "grid_column": null,
            "grid_gap": null,
            "grid_row": null,
            "grid_template_areas": null,
            "grid_template_columns": null,
            "grid_template_rows": null,
            "height": null,
            "justify_content": null,
            "justify_items": null,
            "left": null,
            "margin": null,
            "max_height": null,
            "max_width": null,
            "min_height": null,
            "min_width": null,
            "object_fit": null,
            "object_position": null,
            "order": null,
            "overflow": null,
            "overflow_x": null,
            "overflow_y": null,
            "padding": null,
            "right": null,
            "top": null,
            "visibility": null,
            "width": null
          }
        },
        "8ac243282fa14c248976f2c9e285b827": {
          "model_module": "@jupyter-widgets/base",
          "model_name": "LayoutModel",
          "model_module_version": "1.2.0",
          "state": {
            "_model_module": "@jupyter-widgets/base",
            "_model_module_version": "1.2.0",
            "_model_name": "LayoutModel",
            "_view_count": null,
            "_view_module": "@jupyter-widgets/base",
            "_view_module_version": "1.2.0",
            "_view_name": "LayoutView",
            "align_content": null,
            "align_items": null,
            "align_self": null,
            "border": null,
            "bottom": null,
            "display": null,
            "flex": null,
            "flex_flow": null,
            "grid_area": null,
            "grid_auto_columns": null,
            "grid_auto_flow": null,
            "grid_auto_rows": null,
            "grid_column": null,
            "grid_gap": null,
            "grid_row": null,
            "grid_template_areas": null,
            "grid_template_columns": null,
            "grid_template_rows": null,
            "height": null,
            "justify_content": null,
            "justify_items": null,
            "left": null,
            "margin": null,
            "max_height": null,
            "max_width": null,
            "min_height": null,
            "min_width": null,
            "object_fit": null,
            "object_position": null,
            "order": null,
            "overflow": null,
            "overflow_x": null,
            "overflow_y": null,
            "padding": null,
            "right": null,
            "top": null,
            "visibility": null,
            "width": null
          }
        },
        "a4ba5d6bec9346d786494be1c3e50ede": {
          "model_module": "@jupyter-widgets/controls",
          "model_name": "DescriptionStyleModel",
          "model_module_version": "1.5.0",
          "state": {
            "_model_module": "@jupyter-widgets/controls",
            "_model_module_version": "1.5.0",
            "_model_name": "DescriptionStyleModel",
            "_view_count": null,
            "_view_module": "@jupyter-widgets/base",
            "_view_module_version": "1.2.0",
            "_view_name": "StyleView",
            "description_width": ""
          }
        },
        "fa86057cc5ba4bdabc469f27ce366971": {
          "model_module": "@jupyter-widgets/base",
          "model_name": "LayoutModel",
          "model_module_version": "1.2.0",
          "state": {
            "_model_module": "@jupyter-widgets/base",
            "_model_module_version": "1.2.0",
            "_model_name": "LayoutModel",
            "_view_count": null,
            "_view_module": "@jupyter-widgets/base",
            "_view_module_version": "1.2.0",
            "_view_name": "LayoutView",
            "align_content": null,
            "align_items": null,
            "align_self": null,
            "border": null,
            "bottom": null,
            "display": null,
            "flex": null,
            "flex_flow": null,
            "grid_area": null,
            "grid_auto_columns": null,
            "grid_auto_flow": null,
            "grid_auto_rows": null,
            "grid_column": null,
            "grid_gap": null,
            "grid_row": null,
            "grid_template_areas": null,
            "grid_template_columns": null,
            "grid_template_rows": null,
            "height": null,
            "justify_content": null,
            "justify_items": null,
            "left": null,
            "margin": null,
            "max_height": null,
            "max_width": null,
            "min_height": null,
            "min_width": null,
            "object_fit": null,
            "object_position": null,
            "order": null,
            "overflow": null,
            "overflow_x": null,
            "overflow_y": null,
            "padding": null,
            "right": null,
            "top": null,
            "visibility": null,
            "width": null
          }
        },
        "f3c6522b45ae415daa78a1c0c551b5cc": {
          "model_module": "@jupyter-widgets/controls",
          "model_name": "ProgressStyleModel",
          "model_module_version": "1.5.0",
          "state": {
            "_model_module": "@jupyter-widgets/controls",
            "_model_module_version": "1.5.0",
            "_model_name": "ProgressStyleModel",
            "_view_count": null,
            "_view_module": "@jupyter-widgets/base",
            "_view_module_version": "1.2.0",
            "_view_name": "StyleView",
            "bar_color": null,
            "description_width": ""
          }
        },
        "54834e8c33e14cb798fb8badb19107bf": {
          "model_module": "@jupyter-widgets/base",
          "model_name": "LayoutModel",
          "model_module_version": "1.2.0",
          "state": {
            "_model_module": "@jupyter-widgets/base",
            "_model_module_version": "1.2.0",
            "_model_name": "LayoutModel",
            "_view_count": null,
            "_view_module": "@jupyter-widgets/base",
            "_view_module_version": "1.2.0",
            "_view_name": "LayoutView",
            "align_content": null,
            "align_items": null,
            "align_self": null,
            "border": null,
            "bottom": null,
            "display": null,
            "flex": null,
            "flex_flow": null,
            "grid_area": null,
            "grid_auto_columns": null,
            "grid_auto_flow": null,
            "grid_auto_rows": null,
            "grid_column": null,
            "grid_gap": null,
            "grid_row": null,
            "grid_template_areas": null,
            "grid_template_columns": null,
            "grid_template_rows": null,
            "height": null,
            "justify_content": null,
            "justify_items": null,
            "left": null,
            "margin": null,
            "max_height": null,
            "max_width": null,
            "min_height": null,
            "min_width": null,
            "object_fit": null,
            "object_position": null,
            "order": null,
            "overflow": null,
            "overflow_x": null,
            "overflow_y": null,
            "padding": null,
            "right": null,
            "top": null,
            "visibility": null,
            "width": null
          }
        },
        "97e2b14cae1b444f8232889dee290779": {
          "model_module": "@jupyter-widgets/controls",
          "model_name": "DescriptionStyleModel",
          "model_module_version": "1.5.0",
          "state": {
            "_model_module": "@jupyter-widgets/controls",
            "_model_module_version": "1.5.0",
            "_model_name": "DescriptionStyleModel",
            "_view_count": null,
            "_view_module": "@jupyter-widgets/base",
            "_view_module_version": "1.2.0",
            "_view_name": "StyleView",
            "description_width": ""
          }
        },
        "3ff988da54d5497d9d1abbcaeade1f41": {
          "model_module": "@jupyter-widgets/controls",
          "model_name": "HBoxModel",
          "model_module_version": "1.5.0",
          "state": {
            "_dom_classes": [],
            "_model_module": "@jupyter-widgets/controls",
            "_model_module_version": "1.5.0",
            "_model_name": "HBoxModel",
            "_view_count": null,
            "_view_module": "@jupyter-widgets/controls",
            "_view_module_version": "1.5.0",
            "_view_name": "HBoxView",
            "box_style": "",
            "children": [
              "IPY_MODEL_ef0d044f297a4af9b3b49a35d9891522",
              "IPY_MODEL_9af201fed9404c3fa9491942ded5decc",
              "IPY_MODEL_1050761af1f74f25b37fc9e5421fdbd7"
            ],
            "layout": "IPY_MODEL_e3f4c1208a0340c3b6bd6e0f8985026d"
          }
        },
        "ef0d044f297a4af9b3b49a35d9891522": {
          "model_module": "@jupyter-widgets/controls",
          "model_name": "HTMLModel",
          "model_module_version": "1.5.0",
          "state": {
            "_dom_classes": [],
            "_model_module": "@jupyter-widgets/controls",
            "_model_module_version": "1.5.0",
            "_model_name": "HTMLModel",
            "_view_count": null,
            "_view_module": "@jupyter-widgets/controls",
            "_view_module_version": "1.5.0",
            "_view_name": "HTMLView",
            "description": "",
            "description_tooltip": null,
            "layout": "IPY_MODEL_0f2f7bc23caa4a24aac5010df7e71d3e",
            "placeholder": "​",
            "style": "IPY_MODEL_f9022c3739714308b07ae50aad13bc85",
            "value": "Downloading (…)olve/main/merges.txt: 100%"
          }
        },
        "9af201fed9404c3fa9491942ded5decc": {
          "model_module": "@jupyter-widgets/controls",
          "model_name": "FloatProgressModel",
          "model_module_version": "1.5.0",
          "state": {
            "_dom_classes": [],
            "_model_module": "@jupyter-widgets/controls",
            "_model_module_version": "1.5.0",
            "_model_name": "FloatProgressModel",
            "_view_count": null,
            "_view_module": "@jupyter-widgets/controls",
            "_view_module_version": "1.5.0",
            "_view_name": "ProgressView",
            "bar_style": "success",
            "description": "",
            "description_tooltip": null,
            "layout": "IPY_MODEL_43107a33bb8e409dab1654e1d31a182e",
            "max": 456318,
            "min": 0,
            "orientation": "horizontal",
            "style": "IPY_MODEL_be1f401044144426916a02789260b8b4",
            "value": 456318
          }
        },
        "1050761af1f74f25b37fc9e5421fdbd7": {
          "model_module": "@jupyter-widgets/controls",
          "model_name": "HTMLModel",
          "model_module_version": "1.5.0",
          "state": {
            "_dom_classes": [],
            "_model_module": "@jupyter-widgets/controls",
            "_model_module_version": "1.5.0",
            "_model_name": "HTMLModel",
            "_view_count": null,
            "_view_module": "@jupyter-widgets/controls",
            "_view_module_version": "1.5.0",
            "_view_name": "HTMLView",
            "description": "",
            "description_tooltip": null,
            "layout": "IPY_MODEL_327305f893c241b5945c2b1d41ff1249",
            "placeholder": "​",
            "style": "IPY_MODEL_d9d73a58f3f14e6b9710ba730d66e7a3",
            "value": " 456k/456k [00:00&lt;00:00, 724kB/s]"
          }
        },
        "e3f4c1208a0340c3b6bd6e0f8985026d": {
          "model_module": "@jupyter-widgets/base",
          "model_name": "LayoutModel",
          "model_module_version": "1.2.0",
          "state": {
            "_model_module": "@jupyter-widgets/base",
            "_model_module_version": "1.2.0",
            "_model_name": "LayoutModel",
            "_view_count": null,
            "_view_module": "@jupyter-widgets/base",
            "_view_module_version": "1.2.0",
            "_view_name": "LayoutView",
            "align_content": null,
            "align_items": null,
            "align_self": null,
            "border": null,
            "bottom": null,
            "display": null,
            "flex": null,
            "flex_flow": null,
            "grid_area": null,
            "grid_auto_columns": null,
            "grid_auto_flow": null,
            "grid_auto_rows": null,
            "grid_column": null,
            "grid_gap": null,
            "grid_row": null,
            "grid_template_areas": null,
            "grid_template_columns": null,
            "grid_template_rows": null,
            "height": null,
            "justify_content": null,
            "justify_items": null,
            "left": null,
            "margin": null,
            "max_height": null,
            "max_width": null,
            "min_height": null,
            "min_width": null,
            "object_fit": null,
            "object_position": null,
            "order": null,
            "overflow": null,
            "overflow_x": null,
            "overflow_y": null,
            "padding": null,
            "right": null,
            "top": null,
            "visibility": null,
            "width": null
          }
        },
        "0f2f7bc23caa4a24aac5010df7e71d3e": {
          "model_module": "@jupyter-widgets/base",
          "model_name": "LayoutModel",
          "model_module_version": "1.2.0",
          "state": {
            "_model_module": "@jupyter-widgets/base",
            "_model_module_version": "1.2.0",
            "_model_name": "LayoutModel",
            "_view_count": null,
            "_view_module": "@jupyter-widgets/base",
            "_view_module_version": "1.2.0",
            "_view_name": "LayoutView",
            "align_content": null,
            "align_items": null,
            "align_self": null,
            "border": null,
            "bottom": null,
            "display": null,
            "flex": null,
            "flex_flow": null,
            "grid_area": null,
            "grid_auto_columns": null,
            "grid_auto_flow": null,
            "grid_auto_rows": null,
            "grid_column": null,
            "grid_gap": null,
            "grid_row": null,
            "grid_template_areas": null,
            "grid_template_columns": null,
            "grid_template_rows": null,
            "height": null,
            "justify_content": null,
            "justify_items": null,
            "left": null,
            "margin": null,
            "max_height": null,
            "max_width": null,
            "min_height": null,
            "min_width": null,
            "object_fit": null,
            "object_position": null,
            "order": null,
            "overflow": null,
            "overflow_x": null,
            "overflow_y": null,
            "padding": null,
            "right": null,
            "top": null,
            "visibility": null,
            "width": null
          }
        },
        "f9022c3739714308b07ae50aad13bc85": {
          "model_module": "@jupyter-widgets/controls",
          "model_name": "DescriptionStyleModel",
          "model_module_version": "1.5.0",
          "state": {
            "_model_module": "@jupyter-widgets/controls",
            "_model_module_version": "1.5.0",
            "_model_name": "DescriptionStyleModel",
            "_view_count": null,
            "_view_module": "@jupyter-widgets/base",
            "_view_module_version": "1.2.0",
            "_view_name": "StyleView",
            "description_width": ""
          }
        },
        "43107a33bb8e409dab1654e1d31a182e": {
          "model_module": "@jupyter-widgets/base",
          "model_name": "LayoutModel",
          "model_module_version": "1.2.0",
          "state": {
            "_model_module": "@jupyter-widgets/base",
            "_model_module_version": "1.2.0",
            "_model_name": "LayoutModel",
            "_view_count": null,
            "_view_module": "@jupyter-widgets/base",
            "_view_module_version": "1.2.0",
            "_view_name": "LayoutView",
            "align_content": null,
            "align_items": null,
            "align_self": null,
            "border": null,
            "bottom": null,
            "display": null,
            "flex": null,
            "flex_flow": null,
            "grid_area": null,
            "grid_auto_columns": null,
            "grid_auto_flow": null,
            "grid_auto_rows": null,
            "grid_column": null,
            "grid_gap": null,
            "grid_row": null,
            "grid_template_areas": null,
            "grid_template_columns": null,
            "grid_template_rows": null,
            "height": null,
            "justify_content": null,
            "justify_items": null,
            "left": null,
            "margin": null,
            "max_height": null,
            "max_width": null,
            "min_height": null,
            "min_width": null,
            "object_fit": null,
            "object_position": null,
            "order": null,
            "overflow": null,
            "overflow_x": null,
            "overflow_y": null,
            "padding": null,
            "right": null,
            "top": null,
            "visibility": null,
            "width": null
          }
        },
        "be1f401044144426916a02789260b8b4": {
          "model_module": "@jupyter-widgets/controls",
          "model_name": "ProgressStyleModel",
          "model_module_version": "1.5.0",
          "state": {
            "_model_module": "@jupyter-widgets/controls",
            "_model_module_version": "1.5.0",
            "_model_name": "ProgressStyleModel",
            "_view_count": null,
            "_view_module": "@jupyter-widgets/base",
            "_view_module_version": "1.2.0",
            "_view_name": "StyleView",
            "bar_color": null,
            "description_width": ""
          }
        },
        "327305f893c241b5945c2b1d41ff1249": {
          "model_module": "@jupyter-widgets/base",
          "model_name": "LayoutModel",
          "model_module_version": "1.2.0",
          "state": {
            "_model_module": "@jupyter-widgets/base",
            "_model_module_version": "1.2.0",
            "_model_name": "LayoutModel",
            "_view_count": null,
            "_view_module": "@jupyter-widgets/base",
            "_view_module_version": "1.2.0",
            "_view_name": "LayoutView",
            "align_content": null,
            "align_items": null,
            "align_self": null,
            "border": null,
            "bottom": null,
            "display": null,
            "flex": null,
            "flex_flow": null,
            "grid_area": null,
            "grid_auto_columns": null,
            "grid_auto_flow": null,
            "grid_auto_rows": null,
            "grid_column": null,
            "grid_gap": null,
            "grid_row": null,
            "grid_template_areas": null,
            "grid_template_columns": null,
            "grid_template_rows": null,
            "height": null,
            "justify_content": null,
            "justify_items": null,
            "left": null,
            "margin": null,
            "max_height": null,
            "max_width": null,
            "min_height": null,
            "min_width": null,
            "object_fit": null,
            "object_position": null,
            "order": null,
            "overflow": null,
            "overflow_x": null,
            "overflow_y": null,
            "padding": null,
            "right": null,
            "top": null,
            "visibility": null,
            "width": null
          }
        },
        "d9d73a58f3f14e6b9710ba730d66e7a3": {
          "model_module": "@jupyter-widgets/controls",
          "model_name": "DescriptionStyleModel",
          "model_module_version": "1.5.0",
          "state": {
            "_model_module": "@jupyter-widgets/controls",
            "_model_module_version": "1.5.0",
            "_model_name": "DescriptionStyleModel",
            "_view_count": null,
            "_view_module": "@jupyter-widgets/base",
            "_view_module_version": "1.2.0",
            "_view_name": "StyleView",
            "description_width": ""
          }
        },
        "35f47fa4dfb8454a92c0961dcef180ac": {
          "model_module": "@jupyter-widgets/controls",
          "model_name": "HBoxModel",
          "model_module_version": "1.5.0",
          "state": {
            "_dom_classes": [],
            "_model_module": "@jupyter-widgets/controls",
            "_model_module_version": "1.5.0",
            "_model_name": "HBoxModel",
            "_view_count": null,
            "_view_module": "@jupyter-widgets/controls",
            "_view_module_version": "1.5.0",
            "_view_name": "HBoxView",
            "box_style": "",
            "children": [
              "IPY_MODEL_b4782b6b882143738c97010b5e862b01",
              "IPY_MODEL_c3fa4eba680b42abace1eecfd577c80e",
              "IPY_MODEL_a9e175bc8025436b9e15ee19d6a0ee40"
            ],
            "layout": "IPY_MODEL_b04a58801a0142b5acaf362abca1b4ed"
          }
        },
        "b4782b6b882143738c97010b5e862b01": {
          "model_module": "@jupyter-widgets/controls",
          "model_name": "HTMLModel",
          "model_module_version": "1.5.0",
          "state": {
            "_dom_classes": [],
            "_model_module": "@jupyter-widgets/controls",
            "_model_module_version": "1.5.0",
            "_model_name": "HTMLModel",
            "_view_count": null,
            "_view_module": "@jupyter-widgets/controls",
            "_view_module_version": "1.5.0",
            "_view_name": "HTMLView",
            "description": "",
            "description_tooltip": null,
            "layout": "IPY_MODEL_d2bc4dc93529407d9d4547a5614ad31c",
            "placeholder": "​",
            "style": "IPY_MODEL_267262b42fda4a46a134e461e4ada0b2",
            "value": "Downloading pytorch_model.bin: 100%"
          }
        },
        "c3fa4eba680b42abace1eecfd577c80e": {
          "model_module": "@jupyter-widgets/controls",
          "model_name": "FloatProgressModel",
          "model_module_version": "1.5.0",
          "state": {
            "_dom_classes": [],
            "_model_module": "@jupyter-widgets/controls",
            "_model_module_version": "1.5.0",
            "_model_name": "FloatProgressModel",
            "_view_count": null,
            "_view_module": "@jupyter-widgets/controls",
            "_view_module_version": "1.5.0",
            "_view_name": "ProgressView",
            "bar_style": "success",
            "description": "",
            "description_tooltip": null,
            "layout": "IPY_MODEL_fed0fda6e2184f7ba00621002a781a8e",
            "max": 1425941629,
            "min": 0,
            "orientation": "horizontal",
            "style": "IPY_MODEL_9bb1c8197ae24245ba969b8539bb4f66",
            "value": 1425941629
          }
        },
        "a9e175bc8025436b9e15ee19d6a0ee40": {
          "model_module": "@jupyter-widgets/controls",
          "model_name": "HTMLModel",
          "model_module_version": "1.5.0",
          "state": {
            "_dom_classes": [],
            "_model_module": "@jupyter-widgets/controls",
            "_model_module_version": "1.5.0",
            "_model_name": "HTMLModel",
            "_view_count": null,
            "_view_module": "@jupyter-widgets/controls",
            "_view_module_version": "1.5.0",
            "_view_name": "HTMLView",
            "description": "",
            "description_tooltip": null,
            "layout": "IPY_MODEL_0ad27987029445f19aeb5f135a2142be",
            "placeholder": "​",
            "style": "IPY_MODEL_0c6807acaebf46339a34dbc8abbb4c6b",
            "value": " 1.43G/1.43G [00:06&lt;00:00, 164MB/s]"
          }
        },
        "b04a58801a0142b5acaf362abca1b4ed": {
          "model_module": "@jupyter-widgets/base",
          "model_name": "LayoutModel",
          "model_module_version": "1.2.0",
          "state": {
            "_model_module": "@jupyter-widgets/base",
            "_model_module_version": "1.2.0",
            "_model_name": "LayoutModel",
            "_view_count": null,
            "_view_module": "@jupyter-widgets/base",
            "_view_module_version": "1.2.0",
            "_view_name": "LayoutView",
            "align_content": null,
            "align_items": null,
            "align_self": null,
            "border": null,
            "bottom": null,
            "display": null,
            "flex": null,
            "flex_flow": null,
            "grid_area": null,
            "grid_auto_columns": null,
            "grid_auto_flow": null,
            "grid_auto_rows": null,
            "grid_column": null,
            "grid_gap": null,
            "grid_row": null,
            "grid_template_areas": null,
            "grid_template_columns": null,
            "grid_template_rows": null,
            "height": null,
            "justify_content": null,
            "justify_items": null,
            "left": null,
            "margin": null,
            "max_height": null,
            "max_width": null,
            "min_height": null,
            "min_width": null,
            "object_fit": null,
            "object_position": null,
            "order": null,
            "overflow": null,
            "overflow_x": null,
            "overflow_y": null,
            "padding": null,
            "right": null,
            "top": null,
            "visibility": null,
            "width": null
          }
        },
        "d2bc4dc93529407d9d4547a5614ad31c": {
          "model_module": "@jupyter-widgets/base",
          "model_name": "LayoutModel",
          "model_module_version": "1.2.0",
          "state": {
            "_model_module": "@jupyter-widgets/base",
            "_model_module_version": "1.2.0",
            "_model_name": "LayoutModel",
            "_view_count": null,
            "_view_module": "@jupyter-widgets/base",
            "_view_module_version": "1.2.0",
            "_view_name": "LayoutView",
            "align_content": null,
            "align_items": null,
            "align_self": null,
            "border": null,
            "bottom": null,
            "display": null,
            "flex": null,
            "flex_flow": null,
            "grid_area": null,
            "grid_auto_columns": null,
            "grid_auto_flow": null,
            "grid_auto_rows": null,
            "grid_column": null,
            "grid_gap": null,
            "grid_row": null,
            "grid_template_areas": null,
            "grid_template_columns": null,
            "grid_template_rows": null,
            "height": null,
            "justify_content": null,
            "justify_items": null,
            "left": null,
            "margin": null,
            "max_height": null,
            "max_width": null,
            "min_height": null,
            "min_width": null,
            "object_fit": null,
            "object_position": null,
            "order": null,
            "overflow": null,
            "overflow_x": null,
            "overflow_y": null,
            "padding": null,
            "right": null,
            "top": null,
            "visibility": null,
            "width": null
          }
        },
        "267262b42fda4a46a134e461e4ada0b2": {
          "model_module": "@jupyter-widgets/controls",
          "model_name": "DescriptionStyleModel",
          "model_module_version": "1.5.0",
          "state": {
            "_model_module": "@jupyter-widgets/controls",
            "_model_module_version": "1.5.0",
            "_model_name": "DescriptionStyleModel",
            "_view_count": null,
            "_view_module": "@jupyter-widgets/base",
            "_view_module_version": "1.2.0",
            "_view_name": "StyleView",
            "description_width": ""
          }
        },
        "fed0fda6e2184f7ba00621002a781a8e": {
          "model_module": "@jupyter-widgets/base",
          "model_name": "LayoutModel",
          "model_module_version": "1.2.0",
          "state": {
            "_model_module": "@jupyter-widgets/base",
            "_model_module_version": "1.2.0",
            "_model_name": "LayoutModel",
            "_view_count": null,
            "_view_module": "@jupyter-widgets/base",
            "_view_module_version": "1.2.0",
            "_view_name": "LayoutView",
            "align_content": null,
            "align_items": null,
            "align_self": null,
            "border": null,
            "bottom": null,
            "display": null,
            "flex": null,
            "flex_flow": null,
            "grid_area": null,
            "grid_auto_columns": null,
            "grid_auto_flow": null,
            "grid_auto_rows": null,
            "grid_column": null,
            "grid_gap": null,
            "grid_row": null,
            "grid_template_areas": null,
            "grid_template_columns": null,
            "grid_template_rows": null,
            "height": null,
            "justify_content": null,
            "justify_items": null,
            "left": null,
            "margin": null,
            "max_height": null,
            "max_width": null,
            "min_height": null,
            "min_width": null,
            "object_fit": null,
            "object_position": null,
            "order": null,
            "overflow": null,
            "overflow_x": null,
            "overflow_y": null,
            "padding": null,
            "right": null,
            "top": null,
            "visibility": null,
            "width": null
          }
        },
        "9bb1c8197ae24245ba969b8539bb4f66": {
          "model_module": "@jupyter-widgets/controls",
          "model_name": "ProgressStyleModel",
          "model_module_version": "1.5.0",
          "state": {
            "_model_module": "@jupyter-widgets/controls",
            "_model_module_version": "1.5.0",
            "_model_name": "ProgressStyleModel",
            "_view_count": null,
            "_view_module": "@jupyter-widgets/base",
            "_view_module_version": "1.2.0",
            "_view_name": "StyleView",
            "bar_color": null,
            "description_width": ""
          }
        },
        "0ad27987029445f19aeb5f135a2142be": {
          "model_module": "@jupyter-widgets/base",
          "model_name": "LayoutModel",
          "model_module_version": "1.2.0",
          "state": {
            "_model_module": "@jupyter-widgets/base",
            "_model_module_version": "1.2.0",
            "_model_name": "LayoutModel",
            "_view_count": null,
            "_view_module": "@jupyter-widgets/base",
            "_view_module_version": "1.2.0",
            "_view_name": "LayoutView",
            "align_content": null,
            "align_items": null,
            "align_self": null,
            "border": null,
            "bottom": null,
            "display": null,
            "flex": null,
            "flex_flow": null,
            "grid_area": null,
            "grid_auto_columns": null,
            "grid_auto_flow": null,
            "grid_auto_rows": null,
            "grid_column": null,
            "grid_gap": null,
            "grid_row": null,
            "grid_template_areas": null,
            "grid_template_columns": null,
            "grid_template_rows": null,
            "height": null,
            "justify_content": null,
            "justify_items": null,
            "left": null,
            "margin": null,
            "max_height": null,
            "max_width": null,
            "min_height": null,
            "min_width": null,
            "object_fit": null,
            "object_position": null,
            "order": null,
            "overflow": null,
            "overflow_x": null,
            "overflow_y": null,
            "padding": null,
            "right": null,
            "top": null,
            "visibility": null,
            "width": null
          }
        },
        "0c6807acaebf46339a34dbc8abbb4c6b": {
          "model_module": "@jupyter-widgets/controls",
          "model_name": "DescriptionStyleModel",
          "model_module_version": "1.5.0",
          "state": {
            "_model_module": "@jupyter-widgets/controls",
            "_model_module_version": "1.5.0",
            "_model_name": "DescriptionStyleModel",
            "_view_count": null,
            "_view_module": "@jupyter-widgets/base",
            "_view_module_version": "1.2.0",
            "_view_name": "StyleView",
            "description_width": ""
          }
        },
        "dc3706d6048a410dbe5cf25288db27ee": {
          "model_module": "@jupyter-widgets/controls",
          "model_name": "HBoxModel",
          "model_module_version": "1.5.0",
          "state": {
            "_dom_classes": [],
            "_model_module": "@jupyter-widgets/controls",
            "_model_module_version": "1.5.0",
            "_model_name": "HBoxModel",
            "_view_count": null,
            "_view_module": "@jupyter-widgets/controls",
            "_view_module_version": "1.5.0",
            "_view_name": "HBoxView",
            "box_style": "",
            "children": [
              "IPY_MODEL_3ef686be8af94e4face22e25da14975a",
              "IPY_MODEL_fce5665b6a944ddc84032f9f832139fb",
              "IPY_MODEL_889140444de34e819510195f2827e5f1"
            ],
            "layout": "IPY_MODEL_a11cef88098945bb801d2990803d5d6b"
          }
        },
        "3ef686be8af94e4face22e25da14975a": {
          "model_module": "@jupyter-widgets/controls",
          "model_name": "HTMLModel",
          "model_module_version": "1.5.0",
          "state": {
            "_dom_classes": [],
            "_model_module": "@jupyter-widgets/controls",
            "_model_module_version": "1.5.0",
            "_model_name": "HTMLModel",
            "_view_count": null,
            "_view_module": "@jupyter-widgets/controls",
            "_view_module_version": "1.5.0",
            "_view_name": "HTMLView",
            "description": "",
            "description_tooltip": null,
            "layout": "IPY_MODEL_fffb6e6e517b40848945c153f7529eb8",
            "placeholder": "​",
            "style": "IPY_MODEL_2b6a1f0ce70040d0a8d054b2d195e813",
            "value": "100%"
          }
        },
        "fce5665b6a944ddc84032f9f832139fb": {
          "model_module": "@jupyter-widgets/controls",
          "model_name": "FloatProgressModel",
          "model_module_version": "1.5.0",
          "state": {
            "_dom_classes": [],
            "_model_module": "@jupyter-widgets/controls",
            "_model_module_version": "1.5.0",
            "_model_name": "FloatProgressModel",
            "_view_count": null,
            "_view_module": "@jupyter-widgets/controls",
            "_view_module_version": "1.5.0",
            "_view_name": "ProgressView",
            "bar_style": "success",
            "description": "",
            "description_tooltip": null,
            "layout": "IPY_MODEL_4c89bfc699b647929c40770e955044b2",
            "max": 1,
            "min": 0,
            "orientation": "horizontal",
            "style": "IPY_MODEL_06f69d488bf343b0980c1d6112b15a69",
            "value": 1
          }
        },
        "889140444de34e819510195f2827e5f1": {
          "model_module": "@jupyter-widgets/controls",
          "model_name": "HTMLModel",
          "model_module_version": "1.5.0",
          "state": {
            "_dom_classes": [],
            "_model_module": "@jupyter-widgets/controls",
            "_model_module_version": "1.5.0",
            "_model_name": "HTMLModel",
            "_view_count": null,
            "_view_module": "@jupyter-widgets/controls",
            "_view_module_version": "1.5.0",
            "_view_name": "HTMLView",
            "description": "",
            "description_tooltip": null,
            "layout": "IPY_MODEL_73711bd2b95d42db958d22530421892f",
            "placeholder": "​",
            "style": "IPY_MODEL_133788757a0445279ec8481d2ebde392",
            "value": " 1/1 [00:06&lt;00:00,  6.32s/it]"
          }
        },
        "a11cef88098945bb801d2990803d5d6b": {
          "model_module": "@jupyter-widgets/base",
          "model_name": "LayoutModel",
          "model_module_version": "1.2.0",
          "state": {
            "_model_module": "@jupyter-widgets/base",
            "_model_module_version": "1.2.0",
            "_model_name": "LayoutModel",
            "_view_count": null,
            "_view_module": "@jupyter-widgets/base",
            "_view_module_version": "1.2.0",
            "_view_name": "LayoutView",
            "align_content": null,
            "align_items": null,
            "align_self": null,
            "border": null,
            "bottom": null,
            "display": null,
            "flex": null,
            "flex_flow": null,
            "grid_area": null,
            "grid_auto_columns": null,
            "grid_auto_flow": null,
            "grid_auto_rows": null,
            "grid_column": null,
            "grid_gap": null,
            "grid_row": null,
            "grid_template_areas": null,
            "grid_template_columns": null,
            "grid_template_rows": null,
            "height": null,
            "justify_content": null,
            "justify_items": null,
            "left": null,
            "margin": null,
            "max_height": null,
            "max_width": null,
            "min_height": null,
            "min_width": null,
            "object_fit": null,
            "object_position": null,
            "order": null,
            "overflow": null,
            "overflow_x": null,
            "overflow_y": null,
            "padding": null,
            "right": null,
            "top": null,
            "visibility": null,
            "width": null
          }
        },
        "fffb6e6e517b40848945c153f7529eb8": {
          "model_module": "@jupyter-widgets/base",
          "model_name": "LayoutModel",
          "model_module_version": "1.2.0",
          "state": {
            "_model_module": "@jupyter-widgets/base",
            "_model_module_version": "1.2.0",
            "_model_name": "LayoutModel",
            "_view_count": null,
            "_view_module": "@jupyter-widgets/base",
            "_view_module_version": "1.2.0",
            "_view_name": "LayoutView",
            "align_content": null,
            "align_items": null,
            "align_self": null,
            "border": null,
            "bottom": null,
            "display": null,
            "flex": null,
            "flex_flow": null,
            "grid_area": null,
            "grid_auto_columns": null,
            "grid_auto_flow": null,
            "grid_auto_rows": null,
            "grid_column": null,
            "grid_gap": null,
            "grid_row": null,
            "grid_template_areas": null,
            "grid_template_columns": null,
            "grid_template_rows": null,
            "height": null,
            "justify_content": null,
            "justify_items": null,
            "left": null,
            "margin": null,
            "max_height": null,
            "max_width": null,
            "min_height": null,
            "min_width": null,
            "object_fit": null,
            "object_position": null,
            "order": null,
            "overflow": null,
            "overflow_x": null,
            "overflow_y": null,
            "padding": null,
            "right": null,
            "top": null,
            "visibility": null,
            "width": null
          }
        },
        "2b6a1f0ce70040d0a8d054b2d195e813": {
          "model_module": "@jupyter-widgets/controls",
          "model_name": "DescriptionStyleModel",
          "model_module_version": "1.5.0",
          "state": {
            "_model_module": "@jupyter-widgets/controls",
            "_model_module_version": "1.5.0",
            "_model_name": "DescriptionStyleModel",
            "_view_count": null,
            "_view_module": "@jupyter-widgets/base",
            "_view_module_version": "1.2.0",
            "_view_name": "StyleView",
            "description_width": ""
          }
        },
        "4c89bfc699b647929c40770e955044b2": {
          "model_module": "@jupyter-widgets/base",
          "model_name": "LayoutModel",
          "model_module_version": "1.2.0",
          "state": {
            "_model_module": "@jupyter-widgets/base",
            "_model_module_version": "1.2.0",
            "_model_name": "LayoutModel",
            "_view_count": null,
            "_view_module": "@jupyter-widgets/base",
            "_view_module_version": "1.2.0",
            "_view_name": "LayoutView",
            "align_content": null,
            "align_items": null,
            "align_self": null,
            "border": null,
            "bottom": null,
            "display": null,
            "flex": null,
            "flex_flow": null,
            "grid_area": null,
            "grid_auto_columns": null,
            "grid_auto_flow": null,
            "grid_auto_rows": null,
            "grid_column": null,
            "grid_gap": null,
            "grid_row": null,
            "grid_template_areas": null,
            "grid_template_columns": null,
            "grid_template_rows": null,
            "height": null,
            "justify_content": null,
            "justify_items": null,
            "left": null,
            "margin": null,
            "max_height": null,
            "max_width": null,
            "min_height": null,
            "min_width": null,
            "object_fit": null,
            "object_position": null,
            "order": null,
            "overflow": null,
            "overflow_x": null,
            "overflow_y": null,
            "padding": null,
            "right": null,
            "top": null,
            "visibility": null,
            "width": null
          }
        },
        "06f69d488bf343b0980c1d6112b15a69": {
          "model_module": "@jupyter-widgets/controls",
          "model_name": "ProgressStyleModel",
          "model_module_version": "1.5.0",
          "state": {
            "_model_module": "@jupyter-widgets/controls",
            "_model_module_version": "1.5.0",
            "_model_name": "ProgressStyleModel",
            "_view_count": null,
            "_view_module": "@jupyter-widgets/base",
            "_view_module_version": "1.2.0",
            "_view_name": "StyleView",
            "bar_color": null,
            "description_width": ""
          }
        },
        "73711bd2b95d42db958d22530421892f": {
          "model_module": "@jupyter-widgets/base",
          "model_name": "LayoutModel",
          "model_module_version": "1.2.0",
          "state": {
            "_model_module": "@jupyter-widgets/base",
            "_model_module_version": "1.2.0",
            "_model_name": "LayoutModel",
            "_view_count": null,
            "_view_module": "@jupyter-widgets/base",
            "_view_module_version": "1.2.0",
            "_view_name": "LayoutView",
            "align_content": null,
            "align_items": null,
            "align_self": null,
            "border": null,
            "bottom": null,
            "display": null,
            "flex": null,
            "flex_flow": null,
            "grid_area": null,
            "grid_auto_columns": null,
            "grid_auto_flow": null,
            "grid_auto_rows": null,
            "grid_column": null,
            "grid_gap": null,
            "grid_row": null,
            "grid_template_areas": null,
            "grid_template_columns": null,
            "grid_template_rows": null,
            "height": null,
            "justify_content": null,
            "justify_items": null,
            "left": null,
            "margin": null,
            "max_height": null,
            "max_width": null,
            "min_height": null,
            "min_width": null,
            "object_fit": null,
            "object_position": null,
            "order": null,
            "overflow": null,
            "overflow_x": null,
            "overflow_y": null,
            "padding": null,
            "right": null,
            "top": null,
            "visibility": null,
            "width": null
          }
        },
        "133788757a0445279ec8481d2ebde392": {
          "model_module": "@jupyter-widgets/controls",
          "model_name": "DescriptionStyleModel",
          "model_module_version": "1.5.0",
          "state": {
            "_model_module": "@jupyter-widgets/controls",
            "_model_module_version": "1.5.0",
            "_model_name": "DescriptionStyleModel",
            "_view_count": null,
            "_view_module": "@jupyter-widgets/base",
            "_view_module_version": "1.2.0",
            "_view_name": "StyleView",
            "description_width": ""
          }
        },
        "0136a2f8363646e5ac94c496caf9cc95": {
          "model_module": "@jupyter-widgets/controls",
          "model_name": "HBoxModel",
          "model_module_version": "1.5.0",
          "state": {
            "_dom_classes": [],
            "_model_module": "@jupyter-widgets/controls",
            "_model_module_version": "1.5.0",
            "_model_name": "HBoxModel",
            "_view_count": null,
            "_view_module": "@jupyter-widgets/controls",
            "_view_module_version": "1.5.0",
            "_view_name": "HBoxView",
            "box_style": "",
            "children": [
              "IPY_MODEL_e6bbe02935ef46119b4661234d6ab990",
              "IPY_MODEL_ba324084edbb4833a34bb11beec4b460",
              "IPY_MODEL_1096c8d841054682a60a97b5b64242f8"
            ],
            "layout": "IPY_MODEL_1702fb93e9ea4d38ba326f8f732a2704"
          }
        },
        "e6bbe02935ef46119b4661234d6ab990": {
          "model_module": "@jupyter-widgets/controls",
          "model_name": "HTMLModel",
          "model_module_version": "1.5.0",
          "state": {
            "_dom_classes": [],
            "_model_module": "@jupyter-widgets/controls",
            "_model_module_version": "1.5.0",
            "_model_name": "HTMLModel",
            "_view_count": null,
            "_view_module": "@jupyter-widgets/controls",
            "_view_module_version": "1.5.0",
            "_view_name": "HTMLView",
            "description": "",
            "description_tooltip": null,
            "layout": "IPY_MODEL_e9f9df35f6f04c7e929597532db48fa2",
            "placeholder": "​",
            "style": "IPY_MODEL_e0aeebaed43344f1995f554d4f915343",
            "value": "100%"
          }
        },
        "ba324084edbb4833a34bb11beec4b460": {
          "model_module": "@jupyter-widgets/controls",
          "model_name": "FloatProgressModel",
          "model_module_version": "1.5.0",
          "state": {
            "_dom_classes": [],
            "_model_module": "@jupyter-widgets/controls",
            "_model_module_version": "1.5.0",
            "_model_name": "FloatProgressModel",
            "_view_count": null,
            "_view_module": "@jupyter-widgets/controls",
            "_view_module_version": "1.5.0",
            "_view_name": "ProgressView",
            "bar_style": "success",
            "description": "",
            "description_tooltip": null,
            "layout": "IPY_MODEL_3ee59adf480b4e8681e093c9ccc99efc",
            "max": 1,
            "min": 0,
            "orientation": "horizontal",
            "style": "IPY_MODEL_7cee6f16191a46d4bce54d708b4f085a",
            "value": 1
          }
        },
        "1096c8d841054682a60a97b5b64242f8": {
          "model_module": "@jupyter-widgets/controls",
          "model_name": "HTMLModel",
          "model_module_version": "1.5.0",
          "state": {
            "_dom_classes": [],
            "_model_module": "@jupyter-widgets/controls",
            "_model_module_version": "1.5.0",
            "_model_name": "HTMLModel",
            "_view_count": null,
            "_view_module": "@jupyter-widgets/controls",
            "_view_module_version": "1.5.0",
            "_view_name": "HTMLView",
            "description": "",
            "description_tooltip": null,
            "layout": "IPY_MODEL_0fdd32ce543e4618b8d05c6f7faabd0e",
            "placeholder": "​",
            "style": "IPY_MODEL_a57d13643dc14c8a857e78bad8458551",
            "value": " 1/1 [00:00&lt;00:00, 10.91it/s]"
          }
        },
        "1702fb93e9ea4d38ba326f8f732a2704": {
          "model_module": "@jupyter-widgets/base",
          "model_name": "LayoutModel",
          "model_module_version": "1.2.0",
          "state": {
            "_model_module": "@jupyter-widgets/base",
            "_model_module_version": "1.2.0",
            "_model_name": "LayoutModel",
            "_view_count": null,
            "_view_module": "@jupyter-widgets/base",
            "_view_module_version": "1.2.0",
            "_view_name": "LayoutView",
            "align_content": null,
            "align_items": null,
            "align_self": null,
            "border": null,
            "bottom": null,
            "display": null,
            "flex": null,
            "flex_flow": null,
            "grid_area": null,
            "grid_auto_columns": null,
            "grid_auto_flow": null,
            "grid_auto_rows": null,
            "grid_column": null,
            "grid_gap": null,
            "grid_row": null,
            "grid_template_areas": null,
            "grid_template_columns": null,
            "grid_template_rows": null,
            "height": null,
            "justify_content": null,
            "justify_items": null,
            "left": null,
            "margin": null,
            "max_height": null,
            "max_width": null,
            "min_height": null,
            "min_width": null,
            "object_fit": null,
            "object_position": null,
            "order": null,
            "overflow": null,
            "overflow_x": null,
            "overflow_y": null,
            "padding": null,
            "right": null,
            "top": null,
            "visibility": null,
            "width": null
          }
        },
        "e9f9df35f6f04c7e929597532db48fa2": {
          "model_module": "@jupyter-widgets/base",
          "model_name": "LayoutModel",
          "model_module_version": "1.2.0",
          "state": {
            "_model_module": "@jupyter-widgets/base",
            "_model_module_version": "1.2.0",
            "_model_name": "LayoutModel",
            "_view_count": null,
            "_view_module": "@jupyter-widgets/base",
            "_view_module_version": "1.2.0",
            "_view_name": "LayoutView",
            "align_content": null,
            "align_items": null,
            "align_self": null,
            "border": null,
            "bottom": null,
            "display": null,
            "flex": null,
            "flex_flow": null,
            "grid_area": null,
            "grid_auto_columns": null,
            "grid_auto_flow": null,
            "grid_auto_rows": null,
            "grid_column": null,
            "grid_gap": null,
            "grid_row": null,
            "grid_template_areas": null,
            "grid_template_columns": null,
            "grid_template_rows": null,
            "height": null,
            "justify_content": null,
            "justify_items": null,
            "left": null,
            "margin": null,
            "max_height": null,
            "max_width": null,
            "min_height": null,
            "min_width": null,
            "object_fit": null,
            "object_position": null,
            "order": null,
            "overflow": null,
            "overflow_x": null,
            "overflow_y": null,
            "padding": null,
            "right": null,
            "top": null,
            "visibility": null,
            "width": null
          }
        },
        "e0aeebaed43344f1995f554d4f915343": {
          "model_module": "@jupyter-widgets/controls",
          "model_name": "DescriptionStyleModel",
          "model_module_version": "1.5.0",
          "state": {
            "_model_module": "@jupyter-widgets/controls",
            "_model_module_version": "1.5.0",
            "_model_name": "DescriptionStyleModel",
            "_view_count": null,
            "_view_module": "@jupyter-widgets/base",
            "_view_module_version": "1.2.0",
            "_view_name": "StyleView",
            "description_width": ""
          }
        },
        "3ee59adf480b4e8681e093c9ccc99efc": {
          "model_module": "@jupyter-widgets/base",
          "model_name": "LayoutModel",
          "model_module_version": "1.2.0",
          "state": {
            "_model_module": "@jupyter-widgets/base",
            "_model_module_version": "1.2.0",
            "_model_name": "LayoutModel",
            "_view_count": null,
            "_view_module": "@jupyter-widgets/base",
            "_view_module_version": "1.2.0",
            "_view_name": "LayoutView",
            "align_content": null,
            "align_items": null,
            "align_self": null,
            "border": null,
            "bottom": null,
            "display": null,
            "flex": null,
            "flex_flow": null,
            "grid_area": null,
            "grid_auto_columns": null,
            "grid_auto_flow": null,
            "grid_auto_rows": null,
            "grid_column": null,
            "grid_gap": null,
            "grid_row": null,
            "grid_template_areas": null,
            "grid_template_columns": null,
            "grid_template_rows": null,
            "height": null,
            "justify_content": null,
            "justify_items": null,
            "left": null,
            "margin": null,
            "max_height": null,
            "max_width": null,
            "min_height": null,
            "min_width": null,
            "object_fit": null,
            "object_position": null,
            "order": null,
            "overflow": null,
            "overflow_x": null,
            "overflow_y": null,
            "padding": null,
            "right": null,
            "top": null,
            "visibility": null,
            "width": null
          }
        },
        "7cee6f16191a46d4bce54d708b4f085a": {
          "model_module": "@jupyter-widgets/controls",
          "model_name": "ProgressStyleModel",
          "model_module_version": "1.5.0",
          "state": {
            "_model_module": "@jupyter-widgets/controls",
            "_model_module_version": "1.5.0",
            "_model_name": "ProgressStyleModel",
            "_view_count": null,
            "_view_module": "@jupyter-widgets/base",
            "_view_module_version": "1.2.0",
            "_view_name": "StyleView",
            "bar_color": null,
            "description_width": ""
          }
        },
        "0fdd32ce543e4618b8d05c6f7faabd0e": {
          "model_module": "@jupyter-widgets/base",
          "model_name": "LayoutModel",
          "model_module_version": "1.2.0",
          "state": {
            "_model_module": "@jupyter-widgets/base",
            "_model_module_version": "1.2.0",
            "_model_name": "LayoutModel",
            "_view_count": null,
            "_view_module": "@jupyter-widgets/base",
            "_view_module_version": "1.2.0",
            "_view_name": "LayoutView",
            "align_content": null,
            "align_items": null,
            "align_self": null,
            "border": null,
            "bottom": null,
            "display": null,
            "flex": null,
            "flex_flow": null,
            "grid_area": null,
            "grid_auto_columns": null,
            "grid_auto_flow": null,
            "grid_auto_rows": null,
            "grid_column": null,
            "grid_gap": null,
            "grid_row": null,
            "grid_template_areas": null,
            "grid_template_columns": null,
            "grid_template_rows": null,
            "height": null,
            "justify_content": null,
            "justify_items": null,
            "left": null,
            "margin": null,
            "max_height": null,
            "max_width": null,
            "min_height": null,
            "min_width": null,
            "object_fit": null,
            "object_position": null,
            "order": null,
            "overflow": null,
            "overflow_x": null,
            "overflow_y": null,
            "padding": null,
            "right": null,
            "top": null,
            "visibility": null,
            "width": null
          }
        },
        "a57d13643dc14c8a857e78bad8458551": {
          "model_module": "@jupyter-widgets/controls",
          "model_name": "DescriptionStyleModel",
          "model_module_version": "1.5.0",
          "state": {
            "_model_module": "@jupyter-widgets/controls",
            "_model_module_version": "1.5.0",
            "_model_name": "DescriptionStyleModel",
            "_view_count": null,
            "_view_module": "@jupyter-widgets/base",
            "_view_module_version": "1.2.0",
            "_view_name": "StyleView",
            "description_width": ""
          }
        },
        "d21db61933fb450dabc4a99ef321d9bd": {
          "model_module": "@jupyter-widgets/controls",
          "model_name": "HBoxModel",
          "model_module_version": "1.5.0",
          "state": {
            "_dom_classes": [],
            "_model_module": "@jupyter-widgets/controls",
            "_model_module_version": "1.5.0",
            "_model_name": "HBoxModel",
            "_view_count": null,
            "_view_module": "@jupyter-widgets/controls",
            "_view_module_version": "1.5.0",
            "_view_name": "HBoxView",
            "box_style": "",
            "children": [
              "IPY_MODEL_d0843e7437ab4d24a16628decd06816f",
              "IPY_MODEL_91a2e4c04b6d4f1e8485ae14418d4e0b",
              "IPY_MODEL_200f71ad8b0f4c4ca1b5d0193f95969b"
            ],
            "layout": "IPY_MODEL_6a65cc3171934042a353eb465b7b5a8d"
          }
        },
        "d0843e7437ab4d24a16628decd06816f": {
          "model_module": "@jupyter-widgets/controls",
          "model_name": "HTMLModel",
          "model_module_version": "1.5.0",
          "state": {
            "_dom_classes": [],
            "_model_module": "@jupyter-widgets/controls",
            "_model_module_version": "1.5.0",
            "_model_name": "HTMLModel",
            "_view_count": null,
            "_view_module": "@jupyter-widgets/controls",
            "_view_module_version": "1.5.0",
            "_view_name": "HTMLView",
            "description": "",
            "description_tooltip": null,
            "layout": "IPY_MODEL_0dd71d4cbadd4679936e461b68372b40",
            "placeholder": "​",
            "style": "IPY_MODEL_67907b85895942c8a4451fc1d7a9e63d",
            "value": "100%"
          }
        },
        "91a2e4c04b6d4f1e8485ae14418d4e0b": {
          "model_module": "@jupyter-widgets/controls",
          "model_name": "FloatProgressModel",
          "model_module_version": "1.5.0",
          "state": {
            "_dom_classes": [],
            "_model_module": "@jupyter-widgets/controls",
            "_model_module_version": "1.5.0",
            "_model_name": "FloatProgressModel",
            "_view_count": null,
            "_view_module": "@jupyter-widgets/controls",
            "_view_module_version": "1.5.0",
            "_view_name": "ProgressView",
            "bar_style": "success",
            "description": "",
            "description_tooltip": null,
            "layout": "IPY_MODEL_c889db5d83f14b4b9e9c302a96ee7fd5",
            "max": 1,
            "min": 0,
            "orientation": "horizontal",
            "style": "IPY_MODEL_508ae91a6a0d49b5b4b087e6f88f6688",
            "value": 1
          }
        },
        "200f71ad8b0f4c4ca1b5d0193f95969b": {
          "model_module": "@jupyter-widgets/controls",
          "model_name": "HTMLModel",
          "model_module_version": "1.5.0",
          "state": {
            "_dom_classes": [],
            "_model_module": "@jupyter-widgets/controls",
            "_model_module_version": "1.5.0",
            "_model_name": "HTMLModel",
            "_view_count": null,
            "_view_module": "@jupyter-widgets/controls",
            "_view_module_version": "1.5.0",
            "_view_name": "HTMLView",
            "description": "",
            "description_tooltip": null,
            "layout": "IPY_MODEL_102f80490335499b81abd5d77071d8d2",
            "placeholder": "​",
            "style": "IPY_MODEL_b9710775ca0645898ba0cd0a403d46a9",
            "value": " 1/1 [00:03&lt;00:00,  3.44s/it]"
          }
        },
        "6a65cc3171934042a353eb465b7b5a8d": {
          "model_module": "@jupyter-widgets/base",
          "model_name": "LayoutModel",
          "model_module_version": "1.2.0",
          "state": {
            "_model_module": "@jupyter-widgets/base",
            "_model_module_version": "1.2.0",
            "_model_name": "LayoutModel",
            "_view_count": null,
            "_view_module": "@jupyter-widgets/base",
            "_view_module_version": "1.2.0",
            "_view_name": "LayoutView",
            "align_content": null,
            "align_items": null,
            "align_self": null,
            "border": null,
            "bottom": null,
            "display": null,
            "flex": null,
            "flex_flow": null,
            "grid_area": null,
            "grid_auto_columns": null,
            "grid_auto_flow": null,
            "grid_auto_rows": null,
            "grid_column": null,
            "grid_gap": null,
            "grid_row": null,
            "grid_template_areas": null,
            "grid_template_columns": null,
            "grid_template_rows": null,
            "height": null,
            "justify_content": null,
            "justify_items": null,
            "left": null,
            "margin": null,
            "max_height": null,
            "max_width": null,
            "min_height": null,
            "min_width": null,
            "object_fit": null,
            "object_position": null,
            "order": null,
            "overflow": null,
            "overflow_x": null,
            "overflow_y": null,
            "padding": null,
            "right": null,
            "top": null,
            "visibility": null,
            "width": null
          }
        },
        "0dd71d4cbadd4679936e461b68372b40": {
          "model_module": "@jupyter-widgets/base",
          "model_name": "LayoutModel",
          "model_module_version": "1.2.0",
          "state": {
            "_model_module": "@jupyter-widgets/base",
            "_model_module_version": "1.2.0",
            "_model_name": "LayoutModel",
            "_view_count": null,
            "_view_module": "@jupyter-widgets/base",
            "_view_module_version": "1.2.0",
            "_view_name": "LayoutView",
            "align_content": null,
            "align_items": null,
            "align_self": null,
            "border": null,
            "bottom": null,
            "display": null,
            "flex": null,
            "flex_flow": null,
            "grid_area": null,
            "grid_auto_columns": null,
            "grid_auto_flow": null,
            "grid_auto_rows": null,
            "grid_column": null,
            "grid_gap": null,
            "grid_row": null,
            "grid_template_areas": null,
            "grid_template_columns": null,
            "grid_template_rows": null,
            "height": null,
            "justify_content": null,
            "justify_items": null,
            "left": null,
            "margin": null,
            "max_height": null,
            "max_width": null,
            "min_height": null,
            "min_width": null,
            "object_fit": null,
            "object_position": null,
            "order": null,
            "overflow": null,
            "overflow_x": null,
            "overflow_y": null,
            "padding": null,
            "right": null,
            "top": null,
            "visibility": null,
            "width": null
          }
        },
        "67907b85895942c8a4451fc1d7a9e63d": {
          "model_module": "@jupyter-widgets/controls",
          "model_name": "DescriptionStyleModel",
          "model_module_version": "1.5.0",
          "state": {
            "_model_module": "@jupyter-widgets/controls",
            "_model_module_version": "1.5.0",
            "_model_name": "DescriptionStyleModel",
            "_view_count": null,
            "_view_module": "@jupyter-widgets/base",
            "_view_module_version": "1.2.0",
            "_view_name": "StyleView",
            "description_width": ""
          }
        },
        "c889db5d83f14b4b9e9c302a96ee7fd5": {
          "model_module": "@jupyter-widgets/base",
          "model_name": "LayoutModel",
          "model_module_version": "1.2.0",
          "state": {
            "_model_module": "@jupyter-widgets/base",
            "_model_module_version": "1.2.0",
            "_model_name": "LayoutModel",
            "_view_count": null,
            "_view_module": "@jupyter-widgets/base",
            "_view_module_version": "1.2.0",
            "_view_name": "LayoutView",
            "align_content": null,
            "align_items": null,
            "align_self": null,
            "border": null,
            "bottom": null,
            "display": null,
            "flex": null,
            "flex_flow": null,
            "grid_area": null,
            "grid_auto_columns": null,
            "grid_auto_flow": null,
            "grid_auto_rows": null,
            "grid_column": null,
            "grid_gap": null,
            "grid_row": null,
            "grid_template_areas": null,
            "grid_template_columns": null,
            "grid_template_rows": null,
            "height": null,
            "justify_content": null,
            "justify_items": null,
            "left": null,
            "margin": null,
            "max_height": null,
            "max_width": null,
            "min_height": null,
            "min_width": null,
            "object_fit": null,
            "object_position": null,
            "order": null,
            "overflow": null,
            "overflow_x": null,
            "overflow_y": null,
            "padding": null,
            "right": null,
            "top": null,
            "visibility": null,
            "width": null
          }
        },
        "508ae91a6a0d49b5b4b087e6f88f6688": {
          "model_module": "@jupyter-widgets/controls",
          "model_name": "ProgressStyleModel",
          "model_module_version": "1.5.0",
          "state": {
            "_model_module": "@jupyter-widgets/controls",
            "_model_module_version": "1.5.0",
            "_model_name": "ProgressStyleModel",
            "_view_count": null,
            "_view_module": "@jupyter-widgets/base",
            "_view_module_version": "1.2.0",
            "_view_name": "StyleView",
            "bar_color": null,
            "description_width": ""
          }
        },
        "102f80490335499b81abd5d77071d8d2": {
          "model_module": "@jupyter-widgets/base",
          "model_name": "LayoutModel",
          "model_module_version": "1.2.0",
          "state": {
            "_model_module": "@jupyter-widgets/base",
            "_model_module_version": "1.2.0",
            "_model_name": "LayoutModel",
            "_view_count": null,
            "_view_module": "@jupyter-widgets/base",
            "_view_module_version": "1.2.0",
            "_view_name": "LayoutView",
            "align_content": null,
            "align_items": null,
            "align_self": null,
            "border": null,
            "bottom": null,
            "display": null,
            "flex": null,
            "flex_flow": null,
            "grid_area": null,
            "grid_auto_columns": null,
            "grid_auto_flow": null,
            "grid_auto_rows": null,
            "grid_column": null,
            "grid_gap": null,
            "grid_row": null,
            "grid_template_areas": null,
            "grid_template_columns": null,
            "grid_template_rows": null,
            "height": null,
            "justify_content": null,
            "justify_items": null,
            "left": null,
            "margin": null,
            "max_height": null,
            "max_width": null,
            "min_height": null,
            "min_width": null,
            "object_fit": null,
            "object_position": null,
            "order": null,
            "overflow": null,
            "overflow_x": null,
            "overflow_y": null,
            "padding": null,
            "right": null,
            "top": null,
            "visibility": null,
            "width": null
          }
        },
        "b9710775ca0645898ba0cd0a403d46a9": {
          "model_module": "@jupyter-widgets/controls",
          "model_name": "DescriptionStyleModel",
          "model_module_version": "1.5.0",
          "state": {
            "_model_module": "@jupyter-widgets/controls",
            "_model_module_version": "1.5.0",
            "_model_name": "DescriptionStyleModel",
            "_view_count": null,
            "_view_module": "@jupyter-widgets/base",
            "_view_module_version": "1.2.0",
            "_view_name": "StyleView",
            "description_width": ""
          }
        },
        "00cb242d2cfb43f5ab2d7641e57ef357": {
          "model_module": "@jupyter-widgets/controls",
          "model_name": "HBoxModel",
          "model_module_version": "1.5.0",
          "state": {
            "_dom_classes": [],
            "_model_module": "@jupyter-widgets/controls",
            "_model_module_version": "1.5.0",
            "_model_name": "HBoxModel",
            "_view_count": null,
            "_view_module": "@jupyter-widgets/controls",
            "_view_module_version": "1.5.0",
            "_view_name": "HBoxView",
            "box_style": "",
            "children": [
              "IPY_MODEL_25975af2114440009935a060df1fdb5e",
              "IPY_MODEL_3e86aadb927342548109ec522672f376",
              "IPY_MODEL_75e5b97f98f440cbb0d0d6cb66152f39"
            ],
            "layout": "IPY_MODEL_7c6751133dfd4eaba1fda081ca999bdd"
          }
        },
        "25975af2114440009935a060df1fdb5e": {
          "model_module": "@jupyter-widgets/controls",
          "model_name": "HTMLModel",
          "model_module_version": "1.5.0",
          "state": {
            "_dom_classes": [],
            "_model_module": "@jupyter-widgets/controls",
            "_model_module_version": "1.5.0",
            "_model_name": "HTMLModel",
            "_view_count": null,
            "_view_module": "@jupyter-widgets/controls",
            "_view_module_version": "1.5.0",
            "_view_name": "HTMLView",
            "description": "",
            "description_tooltip": null,
            "layout": "IPY_MODEL_ec7c234386f547d792e6e9f96505bd62",
            "placeholder": "​",
            "style": "IPY_MODEL_2ca167ccedb846ac87272d1f314f1d67",
            "value": "100%"
          }
        },
        "3e86aadb927342548109ec522672f376": {
          "model_module": "@jupyter-widgets/controls",
          "model_name": "FloatProgressModel",
          "model_module_version": "1.5.0",
          "state": {
            "_dom_classes": [],
            "_model_module": "@jupyter-widgets/controls",
            "_model_module_version": "1.5.0",
            "_model_name": "FloatProgressModel",
            "_view_count": null,
            "_view_module": "@jupyter-widgets/controls",
            "_view_module_version": "1.5.0",
            "_view_name": "ProgressView",
            "bar_style": "success",
            "description": "",
            "description_tooltip": null,
            "layout": "IPY_MODEL_848526f37a0643d6aa579f754e8e4ac2",
            "max": 1,
            "min": 0,
            "orientation": "horizontal",
            "style": "IPY_MODEL_ad2b0a8f9e1a43e492ddb39026482a87",
            "value": 1
          }
        },
        "75e5b97f98f440cbb0d0d6cb66152f39": {
          "model_module": "@jupyter-widgets/controls",
          "model_name": "HTMLModel",
          "model_module_version": "1.5.0",
          "state": {
            "_dom_classes": [],
            "_model_module": "@jupyter-widgets/controls",
            "_model_module_version": "1.5.0",
            "_model_name": "HTMLModel",
            "_view_count": null,
            "_view_module": "@jupyter-widgets/controls",
            "_view_module_version": "1.5.0",
            "_view_name": "HTMLView",
            "description": "",
            "description_tooltip": null,
            "layout": "IPY_MODEL_517efe4cca7a4452ba1af06f7c5b3263",
            "placeholder": "​",
            "style": "IPY_MODEL_912b8e0fee0c426f83f70f6df22a3b08",
            "value": " 1/1 [00:00&lt;00:00,  8.47it/s]"
          }
        },
        "7c6751133dfd4eaba1fda081ca999bdd": {
          "model_module": "@jupyter-widgets/base",
          "model_name": "LayoutModel",
          "model_module_version": "1.2.0",
          "state": {
            "_model_module": "@jupyter-widgets/base",
            "_model_module_version": "1.2.0",
            "_model_name": "LayoutModel",
            "_view_count": null,
            "_view_module": "@jupyter-widgets/base",
            "_view_module_version": "1.2.0",
            "_view_name": "LayoutView",
            "align_content": null,
            "align_items": null,
            "align_self": null,
            "border": null,
            "bottom": null,
            "display": null,
            "flex": null,
            "flex_flow": null,
            "grid_area": null,
            "grid_auto_columns": null,
            "grid_auto_flow": null,
            "grid_auto_rows": null,
            "grid_column": null,
            "grid_gap": null,
            "grid_row": null,
            "grid_template_areas": null,
            "grid_template_columns": null,
            "grid_template_rows": null,
            "height": null,
            "justify_content": null,
            "justify_items": null,
            "left": null,
            "margin": null,
            "max_height": null,
            "max_width": null,
            "min_height": null,
            "min_width": null,
            "object_fit": null,
            "object_position": null,
            "order": null,
            "overflow": null,
            "overflow_x": null,
            "overflow_y": null,
            "padding": null,
            "right": null,
            "top": null,
            "visibility": null,
            "width": null
          }
        },
        "ec7c234386f547d792e6e9f96505bd62": {
          "model_module": "@jupyter-widgets/base",
          "model_name": "LayoutModel",
          "model_module_version": "1.2.0",
          "state": {
            "_model_module": "@jupyter-widgets/base",
            "_model_module_version": "1.2.0",
            "_model_name": "LayoutModel",
            "_view_count": null,
            "_view_module": "@jupyter-widgets/base",
            "_view_module_version": "1.2.0",
            "_view_name": "LayoutView",
            "align_content": null,
            "align_items": null,
            "align_self": null,
            "border": null,
            "bottom": null,
            "display": null,
            "flex": null,
            "flex_flow": null,
            "grid_area": null,
            "grid_auto_columns": null,
            "grid_auto_flow": null,
            "grid_auto_rows": null,
            "grid_column": null,
            "grid_gap": null,
            "grid_row": null,
            "grid_template_areas": null,
            "grid_template_columns": null,
            "grid_template_rows": null,
            "height": null,
            "justify_content": null,
            "justify_items": null,
            "left": null,
            "margin": null,
            "max_height": null,
            "max_width": null,
            "min_height": null,
            "min_width": null,
            "object_fit": null,
            "object_position": null,
            "order": null,
            "overflow": null,
            "overflow_x": null,
            "overflow_y": null,
            "padding": null,
            "right": null,
            "top": null,
            "visibility": null,
            "width": null
          }
        },
        "2ca167ccedb846ac87272d1f314f1d67": {
          "model_module": "@jupyter-widgets/controls",
          "model_name": "DescriptionStyleModel",
          "model_module_version": "1.5.0",
          "state": {
            "_model_module": "@jupyter-widgets/controls",
            "_model_module_version": "1.5.0",
            "_model_name": "DescriptionStyleModel",
            "_view_count": null,
            "_view_module": "@jupyter-widgets/base",
            "_view_module_version": "1.2.0",
            "_view_name": "StyleView",
            "description_width": ""
          }
        },
        "848526f37a0643d6aa579f754e8e4ac2": {
          "model_module": "@jupyter-widgets/base",
          "model_name": "LayoutModel",
          "model_module_version": "1.2.0",
          "state": {
            "_model_module": "@jupyter-widgets/base",
            "_model_module_version": "1.2.0",
            "_model_name": "LayoutModel",
            "_view_count": null,
            "_view_module": "@jupyter-widgets/base",
            "_view_module_version": "1.2.0",
            "_view_name": "LayoutView",
            "align_content": null,
            "align_items": null,
            "align_self": null,
            "border": null,
            "bottom": null,
            "display": null,
            "flex": null,
            "flex_flow": null,
            "grid_area": null,
            "grid_auto_columns": null,
            "grid_auto_flow": null,
            "grid_auto_rows": null,
            "grid_column": null,
            "grid_gap": null,
            "grid_row": null,
            "grid_template_areas": null,
            "grid_template_columns": null,
            "grid_template_rows": null,
            "height": null,
            "justify_content": null,
            "justify_items": null,
            "left": null,
            "margin": null,
            "max_height": null,
            "max_width": null,
            "min_height": null,
            "min_width": null,
            "object_fit": null,
            "object_position": null,
            "order": null,
            "overflow": null,
            "overflow_x": null,
            "overflow_y": null,
            "padding": null,
            "right": null,
            "top": null,
            "visibility": null,
            "width": null
          }
        },
        "ad2b0a8f9e1a43e492ddb39026482a87": {
          "model_module": "@jupyter-widgets/controls",
          "model_name": "ProgressStyleModel",
          "model_module_version": "1.5.0",
          "state": {
            "_model_module": "@jupyter-widgets/controls",
            "_model_module_version": "1.5.0",
            "_model_name": "ProgressStyleModel",
            "_view_count": null,
            "_view_module": "@jupyter-widgets/base",
            "_view_module_version": "1.2.0",
            "_view_name": "StyleView",
            "bar_color": null,
            "description_width": ""
          }
        },
        "517efe4cca7a4452ba1af06f7c5b3263": {
          "model_module": "@jupyter-widgets/base",
          "model_name": "LayoutModel",
          "model_module_version": "1.2.0",
          "state": {
            "_model_module": "@jupyter-widgets/base",
            "_model_module_version": "1.2.0",
            "_model_name": "LayoutModel",
            "_view_count": null,
            "_view_module": "@jupyter-widgets/base",
            "_view_module_version": "1.2.0",
            "_view_name": "LayoutView",
            "align_content": null,
            "align_items": null,
            "align_self": null,
            "border": null,
            "bottom": null,
            "display": null,
            "flex": null,
            "flex_flow": null,
            "grid_area": null,
            "grid_auto_columns": null,
            "grid_auto_flow": null,
            "grid_auto_rows": null,
            "grid_column": null,
            "grid_gap": null,
            "grid_row": null,
            "grid_template_areas": null,
            "grid_template_columns": null,
            "grid_template_rows": null,
            "height": null,
            "justify_content": null,
            "justify_items": null,
            "left": null,
            "margin": null,
            "max_height": null,
            "max_width": null,
            "min_height": null,
            "min_width": null,
            "object_fit": null,
            "object_position": null,
            "order": null,
            "overflow": null,
            "overflow_x": null,
            "overflow_y": null,
            "padding": null,
            "right": null,
            "top": null,
            "visibility": null,
            "width": null
          }
        },
        "912b8e0fee0c426f83f70f6df22a3b08": {
          "model_module": "@jupyter-widgets/controls",
          "model_name": "DescriptionStyleModel",
          "model_module_version": "1.5.0",
          "state": {
            "_model_module": "@jupyter-widgets/controls",
            "_model_module_version": "1.5.0",
            "_model_name": "DescriptionStyleModel",
            "_view_count": null,
            "_view_module": "@jupyter-widgets/base",
            "_view_module_version": "1.2.0",
            "_view_name": "StyleView",
            "description_width": ""
          }
        },
        "f9ceedbfa9124299ae374945fe6535cd": {
          "model_module": "@jupyter-widgets/controls",
          "model_name": "HBoxModel",
          "model_module_version": "1.5.0",
          "state": {
            "_dom_classes": [],
            "_model_module": "@jupyter-widgets/controls",
            "_model_module_version": "1.5.0",
            "_model_name": "HBoxModel",
            "_view_count": null,
            "_view_module": "@jupyter-widgets/controls",
            "_view_module_version": "1.5.0",
            "_view_name": "HBoxView",
            "box_style": "",
            "children": [
              "IPY_MODEL_8d884e9f0034417a990cd829259d2220",
              "IPY_MODEL_f5e6b2cb9dc74d3f9ad2f1092f871098",
              "IPY_MODEL_73b603edae0348ffb96f4a6102e19e8c"
            ],
            "layout": "IPY_MODEL_96a731083767495fb24c4fa0141d2492"
          }
        },
        "8d884e9f0034417a990cd829259d2220": {
          "model_module": "@jupyter-widgets/controls",
          "model_name": "HTMLModel",
          "model_module_version": "1.5.0",
          "state": {
            "_dom_classes": [],
            "_model_module": "@jupyter-widgets/controls",
            "_model_module_version": "1.5.0",
            "_model_name": "HTMLModel",
            "_view_count": null,
            "_view_module": "@jupyter-widgets/controls",
            "_view_module_version": "1.5.0",
            "_view_name": "HTMLView",
            "description": "",
            "description_tooltip": null,
            "layout": "IPY_MODEL_17d9d10df6294081b57e5ea27d1b5ee0",
            "placeholder": "​",
            "style": "IPY_MODEL_a553108f26bb4419b26461b63707b38e",
            "value": "100%"
          }
        },
        "f5e6b2cb9dc74d3f9ad2f1092f871098": {
          "model_module": "@jupyter-widgets/controls",
          "model_name": "FloatProgressModel",
          "model_module_version": "1.5.0",
          "state": {
            "_dom_classes": [],
            "_model_module": "@jupyter-widgets/controls",
            "_model_module_version": "1.5.0",
            "_model_name": "FloatProgressModel",
            "_view_count": null,
            "_view_module": "@jupyter-widgets/controls",
            "_view_module_version": "1.5.0",
            "_view_name": "ProgressView",
            "bar_style": "success",
            "description": "",
            "description_tooltip": null,
            "layout": "IPY_MODEL_dc0a183e7c3d446fa4bf1616a0386bcb",
            "max": 1,
            "min": 0,
            "orientation": "horizontal",
            "style": "IPY_MODEL_4a296a3a50844a2b8bdca8755506f471",
            "value": 1
          }
        },
        "73b603edae0348ffb96f4a6102e19e8c": {
          "model_module": "@jupyter-widgets/controls",
          "model_name": "HTMLModel",
          "model_module_version": "1.5.0",
          "state": {
            "_dom_classes": [],
            "_model_module": "@jupyter-widgets/controls",
            "_model_module_version": "1.5.0",
            "_model_name": "HTMLModel",
            "_view_count": null,
            "_view_module": "@jupyter-widgets/controls",
            "_view_module_version": "1.5.0",
            "_view_name": "HTMLView",
            "description": "",
            "description_tooltip": null,
            "layout": "IPY_MODEL_9d58eba6857042e594be22dbf58d5a63",
            "placeholder": "​",
            "style": "IPY_MODEL_2629f6002b6e41879ab96a1a0fdd8d77",
            "value": " 1/1 [00:03&lt;00:00,  3.32s/it]"
          }
        },
        "96a731083767495fb24c4fa0141d2492": {
          "model_module": "@jupyter-widgets/base",
          "model_name": "LayoutModel",
          "model_module_version": "1.2.0",
          "state": {
            "_model_module": "@jupyter-widgets/base",
            "_model_module_version": "1.2.0",
            "_model_name": "LayoutModel",
            "_view_count": null,
            "_view_module": "@jupyter-widgets/base",
            "_view_module_version": "1.2.0",
            "_view_name": "LayoutView",
            "align_content": null,
            "align_items": null,
            "align_self": null,
            "border": null,
            "bottom": null,
            "display": null,
            "flex": null,
            "flex_flow": null,
            "grid_area": null,
            "grid_auto_columns": null,
            "grid_auto_flow": null,
            "grid_auto_rows": null,
            "grid_column": null,
            "grid_gap": null,
            "grid_row": null,
            "grid_template_areas": null,
            "grid_template_columns": null,
            "grid_template_rows": null,
            "height": null,
            "justify_content": null,
            "justify_items": null,
            "left": null,
            "margin": null,
            "max_height": null,
            "max_width": null,
            "min_height": null,
            "min_width": null,
            "object_fit": null,
            "object_position": null,
            "order": null,
            "overflow": null,
            "overflow_x": null,
            "overflow_y": null,
            "padding": null,
            "right": null,
            "top": null,
            "visibility": null,
            "width": null
          }
        },
        "17d9d10df6294081b57e5ea27d1b5ee0": {
          "model_module": "@jupyter-widgets/base",
          "model_name": "LayoutModel",
          "model_module_version": "1.2.0",
          "state": {
            "_model_module": "@jupyter-widgets/base",
            "_model_module_version": "1.2.0",
            "_model_name": "LayoutModel",
            "_view_count": null,
            "_view_module": "@jupyter-widgets/base",
            "_view_module_version": "1.2.0",
            "_view_name": "LayoutView",
            "align_content": null,
            "align_items": null,
            "align_self": null,
            "border": null,
            "bottom": null,
            "display": null,
            "flex": null,
            "flex_flow": null,
            "grid_area": null,
            "grid_auto_columns": null,
            "grid_auto_flow": null,
            "grid_auto_rows": null,
            "grid_column": null,
            "grid_gap": null,
            "grid_row": null,
            "grid_template_areas": null,
            "grid_template_columns": null,
            "grid_template_rows": null,
            "height": null,
            "justify_content": null,
            "justify_items": null,
            "left": null,
            "margin": null,
            "max_height": null,
            "max_width": null,
            "min_height": null,
            "min_width": null,
            "object_fit": null,
            "object_position": null,
            "order": null,
            "overflow": null,
            "overflow_x": null,
            "overflow_y": null,
            "padding": null,
            "right": null,
            "top": null,
            "visibility": null,
            "width": null
          }
        },
        "a553108f26bb4419b26461b63707b38e": {
          "model_module": "@jupyter-widgets/controls",
          "model_name": "DescriptionStyleModel",
          "model_module_version": "1.5.0",
          "state": {
            "_model_module": "@jupyter-widgets/controls",
            "_model_module_version": "1.5.0",
            "_model_name": "DescriptionStyleModel",
            "_view_count": null,
            "_view_module": "@jupyter-widgets/base",
            "_view_module_version": "1.2.0",
            "_view_name": "StyleView",
            "description_width": ""
          }
        },
        "dc0a183e7c3d446fa4bf1616a0386bcb": {
          "model_module": "@jupyter-widgets/base",
          "model_name": "LayoutModel",
          "model_module_version": "1.2.0",
          "state": {
            "_model_module": "@jupyter-widgets/base",
            "_model_module_version": "1.2.0",
            "_model_name": "LayoutModel",
            "_view_count": null,
            "_view_module": "@jupyter-widgets/base",
            "_view_module_version": "1.2.0",
            "_view_name": "LayoutView",
            "align_content": null,
            "align_items": null,
            "align_self": null,
            "border": null,
            "bottom": null,
            "display": null,
            "flex": null,
            "flex_flow": null,
            "grid_area": null,
            "grid_auto_columns": null,
            "grid_auto_flow": null,
            "grid_auto_rows": null,
            "grid_column": null,
            "grid_gap": null,
            "grid_row": null,
            "grid_template_areas": null,
            "grid_template_columns": null,
            "grid_template_rows": null,
            "height": null,
            "justify_content": null,
            "justify_items": null,
            "left": null,
            "margin": null,
            "max_height": null,
            "max_width": null,
            "min_height": null,
            "min_width": null,
            "object_fit": null,
            "object_position": null,
            "order": null,
            "overflow": null,
            "overflow_x": null,
            "overflow_y": null,
            "padding": null,
            "right": null,
            "top": null,
            "visibility": null,
            "width": null
          }
        },
        "4a296a3a50844a2b8bdca8755506f471": {
          "model_module": "@jupyter-widgets/controls",
          "model_name": "ProgressStyleModel",
          "model_module_version": "1.5.0",
          "state": {
            "_model_module": "@jupyter-widgets/controls",
            "_model_module_version": "1.5.0",
            "_model_name": "ProgressStyleModel",
            "_view_count": null,
            "_view_module": "@jupyter-widgets/base",
            "_view_module_version": "1.2.0",
            "_view_name": "StyleView",
            "bar_color": null,
            "description_width": ""
          }
        },
        "9d58eba6857042e594be22dbf58d5a63": {
          "model_module": "@jupyter-widgets/base",
          "model_name": "LayoutModel",
          "model_module_version": "1.2.0",
          "state": {
            "_model_module": "@jupyter-widgets/base",
            "_model_module_version": "1.2.0",
            "_model_name": "LayoutModel",
            "_view_count": null,
            "_view_module": "@jupyter-widgets/base",
            "_view_module_version": "1.2.0",
            "_view_name": "LayoutView",
            "align_content": null,
            "align_items": null,
            "align_self": null,
            "border": null,
            "bottom": null,
            "display": null,
            "flex": null,
            "flex_flow": null,
            "grid_area": null,
            "grid_auto_columns": null,
            "grid_auto_flow": null,
            "grid_auto_rows": null,
            "grid_column": null,
            "grid_gap": null,
            "grid_row": null,
            "grid_template_areas": null,
            "grid_template_columns": null,
            "grid_template_rows": null,
            "height": null,
            "justify_content": null,
            "justify_items": null,
            "left": null,
            "margin": null,
            "max_height": null,
            "max_width": null,
            "min_height": null,
            "min_width": null,
            "object_fit": null,
            "object_position": null,
            "order": null,
            "overflow": null,
            "overflow_x": null,
            "overflow_y": null,
            "padding": null,
            "right": null,
            "top": null,
            "visibility": null,
            "width": null
          }
        },
        "2629f6002b6e41879ab96a1a0fdd8d77": {
          "model_module": "@jupyter-widgets/controls",
          "model_name": "DescriptionStyleModel",
          "model_module_version": "1.5.0",
          "state": {
            "_model_module": "@jupyter-widgets/controls",
            "_model_module_version": "1.5.0",
            "_model_name": "DescriptionStyleModel",
            "_view_count": null,
            "_view_module": "@jupyter-widgets/base",
            "_view_module_version": "1.2.0",
            "_view_name": "StyleView",
            "description_width": ""
          }
        },
        "a9f00e8c63b840658581c780ee1a4532": {
          "model_module": "@jupyter-widgets/controls",
          "model_name": "HBoxModel",
          "model_module_version": "1.5.0",
          "state": {
            "_dom_classes": [],
            "_model_module": "@jupyter-widgets/controls",
            "_model_module_version": "1.5.0",
            "_model_name": "HBoxModel",
            "_view_count": null,
            "_view_module": "@jupyter-widgets/controls",
            "_view_module_version": "1.5.0",
            "_view_name": "HBoxView",
            "box_style": "",
            "children": [
              "IPY_MODEL_61d6356cc0da44e2b0feff2eb0d418dc",
              "IPY_MODEL_d39963d77c6541da974e79e28ab56163",
              "IPY_MODEL_1b0584b3fc6d4d0a8a1cfb2cac49e0bd"
            ],
            "layout": "IPY_MODEL_fef6c88dd4a94dde9c0eaf5fb86d778c"
          }
        },
        "61d6356cc0da44e2b0feff2eb0d418dc": {
          "model_module": "@jupyter-widgets/controls",
          "model_name": "HTMLModel",
          "model_module_version": "1.5.0",
          "state": {
            "_dom_classes": [],
            "_model_module": "@jupyter-widgets/controls",
            "_model_module_version": "1.5.0",
            "_model_name": "HTMLModel",
            "_view_count": null,
            "_view_module": "@jupyter-widgets/controls",
            "_view_module_version": "1.5.0",
            "_view_name": "HTMLView",
            "description": "",
            "description_tooltip": null,
            "layout": "IPY_MODEL_6a276ccd21884a408e00259a7784dbed",
            "placeholder": "​",
            "style": "IPY_MODEL_0209ad50d73441b687b1e5957814cdd4",
            "value": "100%"
          }
        },
        "d39963d77c6541da974e79e28ab56163": {
          "model_module": "@jupyter-widgets/controls",
          "model_name": "FloatProgressModel",
          "model_module_version": "1.5.0",
          "state": {
            "_dom_classes": [],
            "_model_module": "@jupyter-widgets/controls",
            "_model_module_version": "1.5.0",
            "_model_name": "FloatProgressModel",
            "_view_count": null,
            "_view_module": "@jupyter-widgets/controls",
            "_view_module_version": "1.5.0",
            "_view_name": "ProgressView",
            "bar_style": "success",
            "description": "",
            "description_tooltip": null,
            "layout": "IPY_MODEL_4aec911598f349f5b7dec975df33c3f5",
            "max": 1,
            "min": 0,
            "orientation": "horizontal",
            "style": "IPY_MODEL_d9466e2793434ec1a0155ab13e14a6da",
            "value": 1
          }
        },
        "1b0584b3fc6d4d0a8a1cfb2cac49e0bd": {
          "model_module": "@jupyter-widgets/controls",
          "model_name": "HTMLModel",
          "model_module_version": "1.5.0",
          "state": {
            "_dom_classes": [],
            "_model_module": "@jupyter-widgets/controls",
            "_model_module_version": "1.5.0",
            "_model_name": "HTMLModel",
            "_view_count": null,
            "_view_module": "@jupyter-widgets/controls",
            "_view_module_version": "1.5.0",
            "_view_name": "HTMLView",
            "description": "",
            "description_tooltip": null,
            "layout": "IPY_MODEL_0898deb518504ba4a5fd656eb238ae3b",
            "placeholder": "​",
            "style": "IPY_MODEL_dad2dbfb5cbd43cdae81244e134c8749",
            "value": " 1/1 [00:00&lt;00:00,  9.11it/s]"
          }
        },
        "fef6c88dd4a94dde9c0eaf5fb86d778c": {
          "model_module": "@jupyter-widgets/base",
          "model_name": "LayoutModel",
          "model_module_version": "1.2.0",
          "state": {
            "_model_module": "@jupyter-widgets/base",
            "_model_module_version": "1.2.0",
            "_model_name": "LayoutModel",
            "_view_count": null,
            "_view_module": "@jupyter-widgets/base",
            "_view_module_version": "1.2.0",
            "_view_name": "LayoutView",
            "align_content": null,
            "align_items": null,
            "align_self": null,
            "border": null,
            "bottom": null,
            "display": null,
            "flex": null,
            "flex_flow": null,
            "grid_area": null,
            "grid_auto_columns": null,
            "grid_auto_flow": null,
            "grid_auto_rows": null,
            "grid_column": null,
            "grid_gap": null,
            "grid_row": null,
            "grid_template_areas": null,
            "grid_template_columns": null,
            "grid_template_rows": null,
            "height": null,
            "justify_content": null,
            "justify_items": null,
            "left": null,
            "margin": null,
            "max_height": null,
            "max_width": null,
            "min_height": null,
            "min_width": null,
            "object_fit": null,
            "object_position": null,
            "order": null,
            "overflow": null,
            "overflow_x": null,
            "overflow_y": null,
            "padding": null,
            "right": null,
            "top": null,
            "visibility": null,
            "width": null
          }
        },
        "6a276ccd21884a408e00259a7784dbed": {
          "model_module": "@jupyter-widgets/base",
          "model_name": "LayoutModel",
          "model_module_version": "1.2.0",
          "state": {
            "_model_module": "@jupyter-widgets/base",
            "_model_module_version": "1.2.0",
            "_model_name": "LayoutModel",
            "_view_count": null,
            "_view_module": "@jupyter-widgets/base",
            "_view_module_version": "1.2.0",
            "_view_name": "LayoutView",
            "align_content": null,
            "align_items": null,
            "align_self": null,
            "border": null,
            "bottom": null,
            "display": null,
            "flex": null,
            "flex_flow": null,
            "grid_area": null,
            "grid_auto_columns": null,
            "grid_auto_flow": null,
            "grid_auto_rows": null,
            "grid_column": null,
            "grid_gap": null,
            "grid_row": null,
            "grid_template_areas": null,
            "grid_template_columns": null,
            "grid_template_rows": null,
            "height": null,
            "justify_content": null,
            "justify_items": null,
            "left": null,
            "margin": null,
            "max_height": null,
            "max_width": null,
            "min_height": null,
            "min_width": null,
            "object_fit": null,
            "object_position": null,
            "order": null,
            "overflow": null,
            "overflow_x": null,
            "overflow_y": null,
            "padding": null,
            "right": null,
            "top": null,
            "visibility": null,
            "width": null
          }
        },
        "0209ad50d73441b687b1e5957814cdd4": {
          "model_module": "@jupyter-widgets/controls",
          "model_name": "DescriptionStyleModel",
          "model_module_version": "1.5.0",
          "state": {
            "_model_module": "@jupyter-widgets/controls",
            "_model_module_version": "1.5.0",
            "_model_name": "DescriptionStyleModel",
            "_view_count": null,
            "_view_module": "@jupyter-widgets/base",
            "_view_module_version": "1.2.0",
            "_view_name": "StyleView",
            "description_width": ""
          }
        },
        "4aec911598f349f5b7dec975df33c3f5": {
          "model_module": "@jupyter-widgets/base",
          "model_name": "LayoutModel",
          "model_module_version": "1.2.0",
          "state": {
            "_model_module": "@jupyter-widgets/base",
            "_model_module_version": "1.2.0",
            "_model_name": "LayoutModel",
            "_view_count": null,
            "_view_module": "@jupyter-widgets/base",
            "_view_module_version": "1.2.0",
            "_view_name": "LayoutView",
            "align_content": null,
            "align_items": null,
            "align_self": null,
            "border": null,
            "bottom": null,
            "display": null,
            "flex": null,
            "flex_flow": null,
            "grid_area": null,
            "grid_auto_columns": null,
            "grid_auto_flow": null,
            "grid_auto_rows": null,
            "grid_column": null,
            "grid_gap": null,
            "grid_row": null,
            "grid_template_areas": null,
            "grid_template_columns": null,
            "grid_template_rows": null,
            "height": null,
            "justify_content": null,
            "justify_items": null,
            "left": null,
            "margin": null,
            "max_height": null,
            "max_width": null,
            "min_height": null,
            "min_width": null,
            "object_fit": null,
            "object_position": null,
            "order": null,
            "overflow": null,
            "overflow_x": null,
            "overflow_y": null,
            "padding": null,
            "right": null,
            "top": null,
            "visibility": null,
            "width": null
          }
        },
        "d9466e2793434ec1a0155ab13e14a6da": {
          "model_module": "@jupyter-widgets/controls",
          "model_name": "ProgressStyleModel",
          "model_module_version": "1.5.0",
          "state": {
            "_model_module": "@jupyter-widgets/controls",
            "_model_module_version": "1.5.0",
            "_model_name": "ProgressStyleModel",
            "_view_count": null,
            "_view_module": "@jupyter-widgets/base",
            "_view_module_version": "1.2.0",
            "_view_name": "StyleView",
            "bar_color": null,
            "description_width": ""
          }
        },
        "0898deb518504ba4a5fd656eb238ae3b": {
          "model_module": "@jupyter-widgets/base",
          "model_name": "LayoutModel",
          "model_module_version": "1.2.0",
          "state": {
            "_model_module": "@jupyter-widgets/base",
            "_model_module_version": "1.2.0",
            "_model_name": "LayoutModel",
            "_view_count": null,
            "_view_module": "@jupyter-widgets/base",
            "_view_module_version": "1.2.0",
            "_view_name": "LayoutView",
            "align_content": null,
            "align_items": null,
            "align_self": null,
            "border": null,
            "bottom": null,
            "display": null,
            "flex": null,
            "flex_flow": null,
            "grid_area": null,
            "grid_auto_columns": null,
            "grid_auto_flow": null,
            "grid_auto_rows": null,
            "grid_column": null,
            "grid_gap": null,
            "grid_row": null,
            "grid_template_areas": null,
            "grid_template_columns": null,
            "grid_template_rows": null,
            "height": null,
            "justify_content": null,
            "justify_items": null,
            "left": null,
            "margin": null,
            "max_height": null,
            "max_width": null,
            "min_height": null,
            "min_width": null,
            "object_fit": null,
            "object_position": null,
            "order": null,
            "overflow": null,
            "overflow_x": null,
            "overflow_y": null,
            "padding": null,
            "right": null,
            "top": null,
            "visibility": null,
            "width": null
          }
        },
        "dad2dbfb5cbd43cdae81244e134c8749": {
          "model_module": "@jupyter-widgets/controls",
          "model_name": "DescriptionStyleModel",
          "model_module_version": "1.5.0",
          "state": {
            "_model_module": "@jupyter-widgets/controls",
            "_model_module_version": "1.5.0",
            "_model_name": "DescriptionStyleModel",
            "_view_count": null,
            "_view_module": "@jupyter-widgets/base",
            "_view_module_version": "1.2.0",
            "_view_name": "StyleView",
            "description_width": ""
          }
        },
        "866248aa21f94f60b05160fbba6d35b9": {
          "model_module": "@jupyter-widgets/controls",
          "model_name": "HBoxModel",
          "model_module_version": "1.5.0",
          "state": {
            "_dom_classes": [],
            "_model_module": "@jupyter-widgets/controls",
            "_model_module_version": "1.5.0",
            "_model_name": "HBoxModel",
            "_view_count": null,
            "_view_module": "@jupyter-widgets/controls",
            "_view_module_version": "1.5.0",
            "_view_name": "HBoxView",
            "box_style": "",
            "children": [
              "IPY_MODEL_4900bfed30f544d68b744356b27f4fe2",
              "IPY_MODEL_b6fbc4c79bd9442598650447286f9dcf",
              "IPY_MODEL_c39e71f99c9a47b6bc39dbca5131e508"
            ],
            "layout": "IPY_MODEL_7bd2a17f454f47869cf62a207598ee76"
          }
        },
        "4900bfed30f544d68b744356b27f4fe2": {
          "model_module": "@jupyter-widgets/controls",
          "model_name": "HTMLModel",
          "model_module_version": "1.5.0",
          "state": {
            "_dom_classes": [],
            "_model_module": "@jupyter-widgets/controls",
            "_model_module_version": "1.5.0",
            "_model_name": "HTMLModel",
            "_view_count": null,
            "_view_module": "@jupyter-widgets/controls",
            "_view_module_version": "1.5.0",
            "_view_name": "HTMLView",
            "description": "",
            "description_tooltip": null,
            "layout": "IPY_MODEL_f35a215039a94711bd0676aadcf36bc2",
            "placeholder": "​",
            "style": "IPY_MODEL_9658d82d77424319b636cd529a87461b",
            "value": "100%"
          }
        },
        "b6fbc4c79bd9442598650447286f9dcf": {
          "model_module": "@jupyter-widgets/controls",
          "model_name": "FloatProgressModel",
          "model_module_version": "1.5.0",
          "state": {
            "_dom_classes": [],
            "_model_module": "@jupyter-widgets/controls",
            "_model_module_version": "1.5.0",
            "_model_name": "FloatProgressModel",
            "_view_count": null,
            "_view_module": "@jupyter-widgets/controls",
            "_view_module_version": "1.5.0",
            "_view_name": "ProgressView",
            "bar_style": "success",
            "description": "",
            "description_tooltip": null,
            "layout": "IPY_MODEL_cc822eba6d4b488bbd28d5b67ff7988a",
            "max": 1,
            "min": 0,
            "orientation": "horizontal",
            "style": "IPY_MODEL_960a03c1b53243e0ae6ab43fe9510fea",
            "value": 1
          }
        },
        "c39e71f99c9a47b6bc39dbca5131e508": {
          "model_module": "@jupyter-widgets/controls",
          "model_name": "HTMLModel",
          "model_module_version": "1.5.0",
          "state": {
            "_dom_classes": [],
            "_model_module": "@jupyter-widgets/controls",
            "_model_module_version": "1.5.0",
            "_model_name": "HTMLModel",
            "_view_count": null,
            "_view_module": "@jupyter-widgets/controls",
            "_view_module_version": "1.5.0",
            "_view_name": "HTMLView",
            "description": "",
            "description_tooltip": null,
            "layout": "IPY_MODEL_93ff88269fd24de8b1e2d400d370afcc",
            "placeholder": "​",
            "style": "IPY_MODEL_865c2e297e804edcad2c0aadbe77a746",
            "value": " 1/1 [00:03&lt;00:00,  3.40s/it]"
          }
        },
        "7bd2a17f454f47869cf62a207598ee76": {
          "model_module": "@jupyter-widgets/base",
          "model_name": "LayoutModel",
          "model_module_version": "1.2.0",
          "state": {
            "_model_module": "@jupyter-widgets/base",
            "_model_module_version": "1.2.0",
            "_model_name": "LayoutModel",
            "_view_count": null,
            "_view_module": "@jupyter-widgets/base",
            "_view_module_version": "1.2.0",
            "_view_name": "LayoutView",
            "align_content": null,
            "align_items": null,
            "align_self": null,
            "border": null,
            "bottom": null,
            "display": null,
            "flex": null,
            "flex_flow": null,
            "grid_area": null,
            "grid_auto_columns": null,
            "grid_auto_flow": null,
            "grid_auto_rows": null,
            "grid_column": null,
            "grid_gap": null,
            "grid_row": null,
            "grid_template_areas": null,
            "grid_template_columns": null,
            "grid_template_rows": null,
            "height": null,
            "justify_content": null,
            "justify_items": null,
            "left": null,
            "margin": null,
            "max_height": null,
            "max_width": null,
            "min_height": null,
            "min_width": null,
            "object_fit": null,
            "object_position": null,
            "order": null,
            "overflow": null,
            "overflow_x": null,
            "overflow_y": null,
            "padding": null,
            "right": null,
            "top": null,
            "visibility": null,
            "width": null
          }
        },
        "f35a215039a94711bd0676aadcf36bc2": {
          "model_module": "@jupyter-widgets/base",
          "model_name": "LayoutModel",
          "model_module_version": "1.2.0",
          "state": {
            "_model_module": "@jupyter-widgets/base",
            "_model_module_version": "1.2.0",
            "_model_name": "LayoutModel",
            "_view_count": null,
            "_view_module": "@jupyter-widgets/base",
            "_view_module_version": "1.2.0",
            "_view_name": "LayoutView",
            "align_content": null,
            "align_items": null,
            "align_self": null,
            "border": null,
            "bottom": null,
            "display": null,
            "flex": null,
            "flex_flow": null,
            "grid_area": null,
            "grid_auto_columns": null,
            "grid_auto_flow": null,
            "grid_auto_rows": null,
            "grid_column": null,
            "grid_gap": null,
            "grid_row": null,
            "grid_template_areas": null,
            "grid_template_columns": null,
            "grid_template_rows": null,
            "height": null,
            "justify_content": null,
            "justify_items": null,
            "left": null,
            "margin": null,
            "max_height": null,
            "max_width": null,
            "min_height": null,
            "min_width": null,
            "object_fit": null,
            "object_position": null,
            "order": null,
            "overflow": null,
            "overflow_x": null,
            "overflow_y": null,
            "padding": null,
            "right": null,
            "top": null,
            "visibility": null,
            "width": null
          }
        },
        "9658d82d77424319b636cd529a87461b": {
          "model_module": "@jupyter-widgets/controls",
          "model_name": "DescriptionStyleModel",
          "model_module_version": "1.5.0",
          "state": {
            "_model_module": "@jupyter-widgets/controls",
            "_model_module_version": "1.5.0",
            "_model_name": "DescriptionStyleModel",
            "_view_count": null,
            "_view_module": "@jupyter-widgets/base",
            "_view_module_version": "1.2.0",
            "_view_name": "StyleView",
            "description_width": ""
          }
        },
        "cc822eba6d4b488bbd28d5b67ff7988a": {
          "model_module": "@jupyter-widgets/base",
          "model_name": "LayoutModel",
          "model_module_version": "1.2.0",
          "state": {
            "_model_module": "@jupyter-widgets/base",
            "_model_module_version": "1.2.0",
            "_model_name": "LayoutModel",
            "_view_count": null,
            "_view_module": "@jupyter-widgets/base",
            "_view_module_version": "1.2.0",
            "_view_name": "LayoutView",
            "align_content": null,
            "align_items": null,
            "align_self": null,
            "border": null,
            "bottom": null,
            "display": null,
            "flex": null,
            "flex_flow": null,
            "grid_area": null,
            "grid_auto_columns": null,
            "grid_auto_flow": null,
            "grid_auto_rows": null,
            "grid_column": null,
            "grid_gap": null,
            "grid_row": null,
            "grid_template_areas": null,
            "grid_template_columns": null,
            "grid_template_rows": null,
            "height": null,
            "justify_content": null,
            "justify_items": null,
            "left": null,
            "margin": null,
            "max_height": null,
            "max_width": null,
            "min_height": null,
            "min_width": null,
            "object_fit": null,
            "object_position": null,
            "order": null,
            "overflow": null,
            "overflow_x": null,
            "overflow_y": null,
            "padding": null,
            "right": null,
            "top": null,
            "visibility": null,
            "width": null
          }
        },
        "960a03c1b53243e0ae6ab43fe9510fea": {
          "model_module": "@jupyter-widgets/controls",
          "model_name": "ProgressStyleModel",
          "model_module_version": "1.5.0",
          "state": {
            "_model_module": "@jupyter-widgets/controls",
            "_model_module_version": "1.5.0",
            "_model_name": "ProgressStyleModel",
            "_view_count": null,
            "_view_module": "@jupyter-widgets/base",
            "_view_module_version": "1.2.0",
            "_view_name": "StyleView",
            "bar_color": null,
            "description_width": ""
          }
        },
        "93ff88269fd24de8b1e2d400d370afcc": {
          "model_module": "@jupyter-widgets/base",
          "model_name": "LayoutModel",
          "model_module_version": "1.2.0",
          "state": {
            "_model_module": "@jupyter-widgets/base",
            "_model_module_version": "1.2.0",
            "_model_name": "LayoutModel",
            "_view_count": null,
            "_view_module": "@jupyter-widgets/base",
            "_view_module_version": "1.2.0",
            "_view_name": "LayoutView",
            "align_content": null,
            "align_items": null,
            "align_self": null,
            "border": null,
            "bottom": null,
            "display": null,
            "flex": null,
            "flex_flow": null,
            "grid_area": null,
            "grid_auto_columns": null,
            "grid_auto_flow": null,
            "grid_auto_rows": null,
            "grid_column": null,
            "grid_gap": null,
            "grid_row": null,
            "grid_template_areas": null,
            "grid_template_columns": null,
            "grid_template_rows": null,
            "height": null,
            "justify_content": null,
            "justify_items": null,
            "left": null,
            "margin": null,
            "max_height": null,
            "max_width": null,
            "min_height": null,
            "min_width": null,
            "object_fit": null,
            "object_position": null,
            "order": null,
            "overflow": null,
            "overflow_x": null,
            "overflow_y": null,
            "padding": null,
            "right": null,
            "top": null,
            "visibility": null,
            "width": null
          }
        },
        "865c2e297e804edcad2c0aadbe77a746": {
          "model_module": "@jupyter-widgets/controls",
          "model_name": "DescriptionStyleModel",
          "model_module_version": "1.5.0",
          "state": {
            "_model_module": "@jupyter-widgets/controls",
            "_model_module_version": "1.5.0",
            "_model_name": "DescriptionStyleModel",
            "_view_count": null,
            "_view_module": "@jupyter-widgets/base",
            "_view_module_version": "1.2.0",
            "_view_name": "StyleView",
            "description_width": ""
          }
        },
        "98942eee2d3946dcaeb9960af4fbf7c3": {
          "model_module": "@jupyter-widgets/controls",
          "model_name": "HBoxModel",
          "model_module_version": "1.5.0",
          "state": {
            "_dom_classes": [],
            "_model_module": "@jupyter-widgets/controls",
            "_model_module_version": "1.5.0",
            "_model_name": "HBoxModel",
            "_view_count": null,
            "_view_module": "@jupyter-widgets/controls",
            "_view_module_version": "1.5.0",
            "_view_name": "HBoxView",
            "box_style": "",
            "children": [
              "IPY_MODEL_2ff4e7206ef74958b817d98941fb56eb",
              "IPY_MODEL_aed670ee74c4442fbef7e0dc33fdcaa8",
              "IPY_MODEL_6659d0772cfd4725b1850da5fd5f6f07"
            ],
            "layout": "IPY_MODEL_fa8f2a4f94f34977b3ec35e54f3a8cdf"
          }
        },
        "2ff4e7206ef74958b817d98941fb56eb": {
          "model_module": "@jupyter-widgets/controls",
          "model_name": "HTMLModel",
          "model_module_version": "1.5.0",
          "state": {
            "_dom_classes": [],
            "_model_module": "@jupyter-widgets/controls",
            "_model_module_version": "1.5.0",
            "_model_name": "HTMLModel",
            "_view_count": null,
            "_view_module": "@jupyter-widgets/controls",
            "_view_module_version": "1.5.0",
            "_view_name": "HTMLView",
            "description": "",
            "description_tooltip": null,
            "layout": "IPY_MODEL_9a697e58cfd8473c81fd2fd29d02b90c",
            "placeholder": "​",
            "style": "IPY_MODEL_f4101fef0c314d7c9d146d691793078c",
            "value": "100%"
          }
        },
        "aed670ee74c4442fbef7e0dc33fdcaa8": {
          "model_module": "@jupyter-widgets/controls",
          "model_name": "FloatProgressModel",
          "model_module_version": "1.5.0",
          "state": {
            "_dom_classes": [],
            "_model_module": "@jupyter-widgets/controls",
            "_model_module_version": "1.5.0",
            "_model_name": "FloatProgressModel",
            "_view_count": null,
            "_view_module": "@jupyter-widgets/controls",
            "_view_module_version": "1.5.0",
            "_view_name": "ProgressView",
            "bar_style": "success",
            "description": "",
            "description_tooltip": null,
            "layout": "IPY_MODEL_ac1968b121f64b67999ba0dc44a1bdb7",
            "max": 1,
            "min": 0,
            "orientation": "horizontal",
            "style": "IPY_MODEL_ad7d1d1dcaec4b6b8ed4fd11b9f5555c",
            "value": 1
          }
        },
        "6659d0772cfd4725b1850da5fd5f6f07": {
          "model_module": "@jupyter-widgets/controls",
          "model_name": "HTMLModel",
          "model_module_version": "1.5.0",
          "state": {
            "_dom_classes": [],
            "_model_module": "@jupyter-widgets/controls",
            "_model_module_version": "1.5.0",
            "_model_name": "HTMLModel",
            "_view_count": null,
            "_view_module": "@jupyter-widgets/controls",
            "_view_module_version": "1.5.0",
            "_view_name": "HTMLView",
            "description": "",
            "description_tooltip": null,
            "layout": "IPY_MODEL_4a24248e68224ed8bf95ebeaa7884e1c",
            "placeholder": "​",
            "style": "IPY_MODEL_dd6171bf62714b46bbf6f0dc32449a8e",
            "value": " 1/1 [00:00&lt;00:00, 50.75it/s]"
          }
        },
        "fa8f2a4f94f34977b3ec35e54f3a8cdf": {
          "model_module": "@jupyter-widgets/base",
          "model_name": "LayoutModel",
          "model_module_version": "1.2.0",
          "state": {
            "_model_module": "@jupyter-widgets/base",
            "_model_module_version": "1.2.0",
            "_model_name": "LayoutModel",
            "_view_count": null,
            "_view_module": "@jupyter-widgets/base",
            "_view_module_version": "1.2.0",
            "_view_name": "LayoutView",
            "align_content": null,
            "align_items": null,
            "align_self": null,
            "border": null,
            "bottom": null,
            "display": null,
            "flex": null,
            "flex_flow": null,
            "grid_area": null,
            "grid_auto_columns": null,
            "grid_auto_flow": null,
            "grid_auto_rows": null,
            "grid_column": null,
            "grid_gap": null,
            "grid_row": null,
            "grid_template_areas": null,
            "grid_template_columns": null,
            "grid_template_rows": null,
            "height": null,
            "justify_content": null,
            "justify_items": null,
            "left": null,
            "margin": null,
            "max_height": null,
            "max_width": null,
            "min_height": null,
            "min_width": null,
            "object_fit": null,
            "object_position": null,
            "order": null,
            "overflow": null,
            "overflow_x": null,
            "overflow_y": null,
            "padding": null,
            "right": null,
            "top": null,
            "visibility": null,
            "width": null
          }
        },
        "9a697e58cfd8473c81fd2fd29d02b90c": {
          "model_module": "@jupyter-widgets/base",
          "model_name": "LayoutModel",
          "model_module_version": "1.2.0",
          "state": {
            "_model_module": "@jupyter-widgets/base",
            "_model_module_version": "1.2.0",
            "_model_name": "LayoutModel",
            "_view_count": null,
            "_view_module": "@jupyter-widgets/base",
            "_view_module_version": "1.2.0",
            "_view_name": "LayoutView",
            "align_content": null,
            "align_items": null,
            "align_self": null,
            "border": null,
            "bottom": null,
            "display": null,
            "flex": null,
            "flex_flow": null,
            "grid_area": null,
            "grid_auto_columns": null,
            "grid_auto_flow": null,
            "grid_auto_rows": null,
            "grid_column": null,
            "grid_gap": null,
            "grid_row": null,
            "grid_template_areas": null,
            "grid_template_columns": null,
            "grid_template_rows": null,
            "height": null,
            "justify_content": null,
            "justify_items": null,
            "left": null,
            "margin": null,
            "max_height": null,
            "max_width": null,
            "min_height": null,
            "min_width": null,
            "object_fit": null,
            "object_position": null,
            "order": null,
            "overflow": null,
            "overflow_x": null,
            "overflow_y": null,
            "padding": null,
            "right": null,
            "top": null,
            "visibility": null,
            "width": null
          }
        },
        "f4101fef0c314d7c9d146d691793078c": {
          "model_module": "@jupyter-widgets/controls",
          "model_name": "DescriptionStyleModel",
          "model_module_version": "1.5.0",
          "state": {
            "_model_module": "@jupyter-widgets/controls",
            "_model_module_version": "1.5.0",
            "_model_name": "DescriptionStyleModel",
            "_view_count": null,
            "_view_module": "@jupyter-widgets/base",
            "_view_module_version": "1.2.0",
            "_view_name": "StyleView",
            "description_width": ""
          }
        },
        "ac1968b121f64b67999ba0dc44a1bdb7": {
          "model_module": "@jupyter-widgets/base",
          "model_name": "LayoutModel",
          "model_module_version": "1.2.0",
          "state": {
            "_model_module": "@jupyter-widgets/base",
            "_model_module_version": "1.2.0",
            "_model_name": "LayoutModel",
            "_view_count": null,
            "_view_module": "@jupyter-widgets/base",
            "_view_module_version": "1.2.0",
            "_view_name": "LayoutView",
            "align_content": null,
            "align_items": null,
            "align_self": null,
            "border": null,
            "bottom": null,
            "display": null,
            "flex": null,
            "flex_flow": null,
            "grid_area": null,
            "grid_auto_columns": null,
            "grid_auto_flow": null,
            "grid_auto_rows": null,
            "grid_column": null,
            "grid_gap": null,
            "grid_row": null,
            "grid_template_areas": null,
            "grid_template_columns": null,
            "grid_template_rows": null,
            "height": null,
            "justify_content": null,
            "justify_items": null,
            "left": null,
            "margin": null,
            "max_height": null,
            "max_width": null,
            "min_height": null,
            "min_width": null,
            "object_fit": null,
            "object_position": null,
            "order": null,
            "overflow": null,
            "overflow_x": null,
            "overflow_y": null,
            "padding": null,
            "right": null,
            "top": null,
            "visibility": null,
            "width": null
          }
        },
        "ad7d1d1dcaec4b6b8ed4fd11b9f5555c": {
          "model_module": "@jupyter-widgets/controls",
          "model_name": "ProgressStyleModel",
          "model_module_version": "1.5.0",
          "state": {
            "_model_module": "@jupyter-widgets/controls",
            "_model_module_version": "1.5.0",
            "_model_name": "ProgressStyleModel",
            "_view_count": null,
            "_view_module": "@jupyter-widgets/base",
            "_view_module_version": "1.2.0",
            "_view_name": "StyleView",
            "bar_color": null,
            "description_width": ""
          }
        },
        "4a24248e68224ed8bf95ebeaa7884e1c": {
          "model_module": "@jupyter-widgets/base",
          "model_name": "LayoutModel",
          "model_module_version": "1.2.0",
          "state": {
            "_model_module": "@jupyter-widgets/base",
            "_model_module_version": "1.2.0",
            "_model_name": "LayoutModel",
            "_view_count": null,
            "_view_module": "@jupyter-widgets/base",
            "_view_module_version": "1.2.0",
            "_view_name": "LayoutView",
            "align_content": null,
            "align_items": null,
            "align_self": null,
            "border": null,
            "bottom": null,
            "display": null,
            "flex": null,
            "flex_flow": null,
            "grid_area": null,
            "grid_auto_columns": null,
            "grid_auto_flow": null,
            "grid_auto_rows": null,
            "grid_column": null,
            "grid_gap": null,
            "grid_row": null,
            "grid_template_areas": null,
            "grid_template_columns": null,
            "grid_template_rows": null,
            "height": null,
            "justify_content": null,
            "justify_items": null,
            "left": null,
            "margin": null,
            "max_height": null,
            "max_width": null,
            "min_height": null,
            "min_width": null,
            "object_fit": null,
            "object_position": null,
            "order": null,
            "overflow": null,
            "overflow_x": null,
            "overflow_y": null,
            "padding": null,
            "right": null,
            "top": null,
            "visibility": null,
            "width": null
          }
        },
        "dd6171bf62714b46bbf6f0dc32449a8e": {
          "model_module": "@jupyter-widgets/controls",
          "model_name": "DescriptionStyleModel",
          "model_module_version": "1.5.0",
          "state": {
            "_model_module": "@jupyter-widgets/controls",
            "_model_module_version": "1.5.0",
            "_model_name": "DescriptionStyleModel",
            "_view_count": null,
            "_view_module": "@jupyter-widgets/base",
            "_view_module_version": "1.2.0",
            "_view_name": "StyleView",
            "description_width": ""
          }
        }
      }
    }
  },
  "cells": [
    {
      "cell_type": "code",
      "execution_count": null,
      "metadata": {
        "colab": {
          "base_uri": "https://localhost:8080/"
        },
        "id": "v1l_-xpAewiN",
        "outputId": "034495eb-2ccc-4ddf-edf1-321e74013bc4"
      },
      "outputs": [
        {
          "output_type": "stream",
          "name": "stdout",
          "text": [
            "Looking in indexes: https://pypi.org/simple, https://us-python.pkg.dev/colab-wheels/public/simple/\n",
            "Collecting git+https://github.com/Tiiiger/bert_score\n",
            "  Cloning https://github.com/Tiiiger/bert_score to /tmp/pip-req-build-kfzdg937\n",
            "  Running command git clone --filter=blob:none --quiet https://github.com/Tiiiger/bert_score /tmp/pip-req-build-kfzdg937\n",
            "  Resolved https://github.com/Tiiiger/bert_score to commit dbcf6db37e8bd6ff68446f06b0ba5d0763b62d20\n",
            "  Preparing metadata (setup.py) ... \u001b[?25l\u001b[?25hdone\n",
            "Requirement already satisfied: torch>=1.0.0 in /usr/local/lib/python3.10/dist-packages (from bert-score==0.3.13) (2.0.0+cu118)\n",
            "Requirement already satisfied: pandas>=1.0.1 in /usr/local/lib/python3.10/dist-packages (from bert-score==0.3.13) (1.5.3)\n",
            "Collecting transformers>=3.0.0 (from bert-score==0.3.13)\n",
            "  Downloading transformers-4.29.1-py3-none-any.whl (7.1 MB)\n",
            "\u001b[2K     \u001b[90m━━━━━━━━━━━━━━━━━━━━━━━━━━━━━━━━━━━━━━━━\u001b[0m \u001b[32m7.1/7.1 MB\u001b[0m \u001b[31m97.6 MB/s\u001b[0m eta \u001b[36m0:00:00\u001b[0m\n",
            "\u001b[?25hRequirement already satisfied: numpy in /usr/local/lib/python3.10/dist-packages (from bert-score==0.3.13) (1.22.4)\n",
            "Requirement already satisfied: requests in /usr/local/lib/python3.10/dist-packages (from bert-score==0.3.13) (2.27.1)\n",
            "Requirement already satisfied: tqdm>=4.31.1 in /usr/local/lib/python3.10/dist-packages (from bert-score==0.3.13) (4.65.0)\n",
            "Requirement already satisfied: matplotlib in /usr/local/lib/python3.10/dist-packages (from bert-score==0.3.13) (3.7.1)\n",
            "Requirement already satisfied: packaging>=20.9 in /usr/local/lib/python3.10/dist-packages (from bert-score==0.3.13) (23.1)\n",
            "Requirement already satisfied: python-dateutil>=2.8.1 in /usr/local/lib/python3.10/dist-packages (from pandas>=1.0.1->bert-score==0.3.13) (2.8.2)\n",
            "Requirement already satisfied: pytz>=2020.1 in /usr/local/lib/python3.10/dist-packages (from pandas>=1.0.1->bert-score==0.3.13) (2022.7.1)\n",
            "Requirement already satisfied: filelock in /usr/local/lib/python3.10/dist-packages (from torch>=1.0.0->bert-score==0.3.13) (3.12.0)\n",
            "Requirement already satisfied: typing-extensions in /usr/local/lib/python3.10/dist-packages (from torch>=1.0.0->bert-score==0.3.13) (4.5.0)\n",
            "Requirement already satisfied: sympy in /usr/local/lib/python3.10/dist-packages (from torch>=1.0.0->bert-score==0.3.13) (1.11.1)\n",
            "Requirement already satisfied: networkx in /usr/local/lib/python3.10/dist-packages (from torch>=1.0.0->bert-score==0.3.13) (3.1)\n",
            "Requirement already satisfied: jinja2 in /usr/local/lib/python3.10/dist-packages (from torch>=1.0.0->bert-score==0.3.13) (3.1.2)\n",
            "Requirement already satisfied: triton==2.0.0 in /usr/local/lib/python3.10/dist-packages (from torch>=1.0.0->bert-score==0.3.13) (2.0.0)\n",
            "Requirement already satisfied: cmake in /usr/local/lib/python3.10/dist-packages (from triton==2.0.0->torch>=1.0.0->bert-score==0.3.13) (3.25.2)\n",
            "Requirement already satisfied: lit in /usr/local/lib/python3.10/dist-packages (from triton==2.0.0->torch>=1.0.0->bert-score==0.3.13) (16.0.3)\n",
            "Collecting huggingface-hub<1.0,>=0.14.1 (from transformers>=3.0.0->bert-score==0.3.13)\n",
            "  Downloading huggingface_hub-0.14.1-py3-none-any.whl (224 kB)\n",
            "\u001b[2K     \u001b[90m━━━━━━━━━━━━━━━━━━━━━━━━━━━━━━━━━━━━━━\u001b[0m \u001b[32m224.5/224.5 kB\u001b[0m \u001b[31m25.7 MB/s\u001b[0m eta \u001b[36m0:00:00\u001b[0m\n",
            "\u001b[?25hRequirement already satisfied: pyyaml>=5.1 in /usr/local/lib/python3.10/dist-packages (from transformers>=3.0.0->bert-score==0.3.13) (6.0)\n",
            "Requirement already satisfied: regex!=2019.12.17 in /usr/local/lib/python3.10/dist-packages (from transformers>=3.0.0->bert-score==0.3.13) (2022.10.31)\n",
            "Collecting tokenizers!=0.11.3,<0.14,>=0.11.1 (from transformers>=3.0.0->bert-score==0.3.13)\n",
            "  Downloading tokenizers-0.13.3-cp310-cp310-manylinux_2_17_x86_64.manylinux2014_x86_64.whl (7.8 MB)\n",
            "\u001b[2K     \u001b[90m━━━━━━━━━━━━━━━━━━━━━━━━━━━━━━━━━━━━━━━━\u001b[0m \u001b[32m7.8/7.8 MB\u001b[0m \u001b[31m106.5 MB/s\u001b[0m eta \u001b[36m0:00:00\u001b[0m\n",
            "\u001b[?25hRequirement already satisfied: contourpy>=1.0.1 in /usr/local/lib/python3.10/dist-packages (from matplotlib->bert-score==0.3.13) (1.0.7)\n",
            "Requirement already satisfied: cycler>=0.10 in /usr/local/lib/python3.10/dist-packages (from matplotlib->bert-score==0.3.13) (0.11.0)\n",
            "Requirement already satisfied: fonttools>=4.22.0 in /usr/local/lib/python3.10/dist-packages (from matplotlib->bert-score==0.3.13) (4.39.3)\n",
            "Requirement already satisfied: kiwisolver>=1.0.1 in /usr/local/lib/python3.10/dist-packages (from matplotlib->bert-score==0.3.13) (1.4.4)\n",
            "Requirement already satisfied: pillow>=6.2.0 in /usr/local/lib/python3.10/dist-packages (from matplotlib->bert-score==0.3.13) (8.4.0)\n",
            "Requirement already satisfied: pyparsing>=2.3.1 in /usr/local/lib/python3.10/dist-packages (from matplotlib->bert-score==0.3.13) (3.0.9)\n",
            "Requirement already satisfied: urllib3<1.27,>=1.21.1 in /usr/local/lib/python3.10/dist-packages (from requests->bert-score==0.3.13) (1.26.15)\n",
            "Requirement already satisfied: certifi>=2017.4.17 in /usr/local/lib/python3.10/dist-packages (from requests->bert-score==0.3.13) (2022.12.7)\n",
            "Requirement already satisfied: charset-normalizer~=2.0.0 in /usr/local/lib/python3.10/dist-packages (from requests->bert-score==0.3.13) (2.0.12)\n",
            "Requirement already satisfied: idna<4,>=2.5 in /usr/local/lib/python3.10/dist-packages (from requests->bert-score==0.3.13) (3.4)\n",
            "Requirement already satisfied: fsspec in /usr/local/lib/python3.10/dist-packages (from huggingface-hub<1.0,>=0.14.1->transformers>=3.0.0->bert-score==0.3.13) (2023.4.0)\n",
            "Requirement already satisfied: six>=1.5 in /usr/local/lib/python3.10/dist-packages (from python-dateutil>=2.8.1->pandas>=1.0.1->bert-score==0.3.13) (1.16.0)\n",
            "Requirement already satisfied: MarkupSafe>=2.0 in /usr/local/lib/python3.10/dist-packages (from jinja2->torch>=1.0.0->bert-score==0.3.13) (2.1.2)\n",
            "Requirement already satisfied: mpmath>=0.19 in /usr/local/lib/python3.10/dist-packages (from sympy->torch>=1.0.0->bert-score==0.3.13) (1.3.0)\n",
            "Building wheels for collected packages: bert-score\n",
            "  Building wheel for bert-score (setup.py) ... \u001b[?25l\u001b[?25hdone\n",
            "  Created wheel for bert-score: filename=bert_score-0.3.13-py3-none-any.whl size=61133 sha256=81136aad715c627b59a1bcdd1ac450edcae2fc5f3c17ec4b26bc0c26b98e754b\n",
            "  Stored in directory: /tmp/pip-ephem-wheel-cache-o6hdz2k9/wheels/25/e0/15/11e08f593e1745b2ee3f437b76b475d998600789edbee4a8e8\n",
            "Successfully built bert-score\n",
            "Installing collected packages: tokenizers, huggingface-hub, transformers, bert-score\n",
            "Successfully installed bert-score-0.3.13 huggingface-hub-0.14.1 tokenizers-0.13.3 transformers-4.29.1\n"
          ]
        }
      ],
      "source": [
        "!pip install git+https://github.com/Tiiiger/bert_score"
      ]
    },
    {
      "cell_type": "code",
      "source": [
        "pip install bert-score"
      ],
      "metadata": {
        "colab": {
          "base_uri": "https://localhost:8080/"
        },
        "id": "vVSG6dkve-Tl",
        "outputId": "2586c9cb-e222-499f-880e-336eff85a8e5"
      },
      "execution_count": null,
      "outputs": [
        {
          "output_type": "stream",
          "name": "stdout",
          "text": [
            "Looking in indexes: https://pypi.org/simple, https://us-python.pkg.dev/colab-wheels/public/simple/\n",
            "Requirement already satisfied: bert-score in /usr/local/lib/python3.10/dist-packages (0.3.13)\n",
            "Requirement already satisfied: torch>=1.0.0 in /usr/local/lib/python3.10/dist-packages (from bert-score) (2.0.0+cu118)\n",
            "Requirement already satisfied: pandas>=1.0.1 in /usr/local/lib/python3.10/dist-packages (from bert-score) (1.5.3)\n",
            "Requirement already satisfied: transformers>=3.0.0 in /usr/local/lib/python3.10/dist-packages (from bert-score) (4.29.1)\n",
            "Requirement already satisfied: numpy in /usr/local/lib/python3.10/dist-packages (from bert-score) (1.22.4)\n",
            "Requirement already satisfied: requests in /usr/local/lib/python3.10/dist-packages (from bert-score) (2.27.1)\n",
            "Requirement already satisfied: tqdm>=4.31.1 in /usr/local/lib/python3.10/dist-packages (from bert-score) (4.65.0)\n",
            "Requirement already satisfied: matplotlib in /usr/local/lib/python3.10/dist-packages (from bert-score) (3.7.1)\n",
            "Requirement already satisfied: packaging>=20.9 in /usr/local/lib/python3.10/dist-packages (from bert-score) (23.1)\n",
            "Requirement already satisfied: python-dateutil>=2.8.1 in /usr/local/lib/python3.10/dist-packages (from pandas>=1.0.1->bert-score) (2.8.2)\n",
            "Requirement already satisfied: pytz>=2020.1 in /usr/local/lib/python3.10/dist-packages (from pandas>=1.0.1->bert-score) (2022.7.1)\n",
            "Requirement already satisfied: filelock in /usr/local/lib/python3.10/dist-packages (from torch>=1.0.0->bert-score) (3.12.0)\n",
            "Requirement already satisfied: typing-extensions in /usr/local/lib/python3.10/dist-packages (from torch>=1.0.0->bert-score) (4.5.0)\n",
            "Requirement already satisfied: sympy in /usr/local/lib/python3.10/dist-packages (from torch>=1.0.0->bert-score) (1.11.1)\n",
            "Requirement already satisfied: networkx in /usr/local/lib/python3.10/dist-packages (from torch>=1.0.0->bert-score) (3.1)\n",
            "Requirement already satisfied: jinja2 in /usr/local/lib/python3.10/dist-packages (from torch>=1.0.0->bert-score) (3.1.2)\n",
            "Requirement already satisfied: triton==2.0.0 in /usr/local/lib/python3.10/dist-packages (from torch>=1.0.0->bert-score) (2.0.0)\n",
            "Requirement already satisfied: cmake in /usr/local/lib/python3.10/dist-packages (from triton==2.0.0->torch>=1.0.0->bert-score) (3.25.2)\n",
            "Requirement already satisfied: lit in /usr/local/lib/python3.10/dist-packages (from triton==2.0.0->torch>=1.0.0->bert-score) (16.0.3)\n",
            "Requirement already satisfied: huggingface-hub<1.0,>=0.14.1 in /usr/local/lib/python3.10/dist-packages (from transformers>=3.0.0->bert-score) (0.14.1)\n",
            "Requirement already satisfied: pyyaml>=5.1 in /usr/local/lib/python3.10/dist-packages (from transformers>=3.0.0->bert-score) (6.0)\n",
            "Requirement already satisfied: regex!=2019.12.17 in /usr/local/lib/python3.10/dist-packages (from transformers>=3.0.0->bert-score) (2022.10.31)\n",
            "Requirement already satisfied: tokenizers!=0.11.3,<0.14,>=0.11.1 in /usr/local/lib/python3.10/dist-packages (from transformers>=3.0.0->bert-score) (0.13.3)\n",
            "Requirement already satisfied: contourpy>=1.0.1 in /usr/local/lib/python3.10/dist-packages (from matplotlib->bert-score) (1.0.7)\n",
            "Requirement already satisfied: cycler>=0.10 in /usr/local/lib/python3.10/dist-packages (from matplotlib->bert-score) (0.11.0)\n",
            "Requirement already satisfied: fonttools>=4.22.0 in /usr/local/lib/python3.10/dist-packages (from matplotlib->bert-score) (4.39.3)\n",
            "Requirement already satisfied: kiwisolver>=1.0.1 in /usr/local/lib/python3.10/dist-packages (from matplotlib->bert-score) (1.4.4)\n",
            "Requirement already satisfied: pillow>=6.2.0 in /usr/local/lib/python3.10/dist-packages (from matplotlib->bert-score) (8.4.0)\n",
            "Requirement already satisfied: pyparsing>=2.3.1 in /usr/local/lib/python3.10/dist-packages (from matplotlib->bert-score) (3.0.9)\n",
            "Requirement already satisfied: urllib3<1.27,>=1.21.1 in /usr/local/lib/python3.10/dist-packages (from requests->bert-score) (1.26.15)\n",
            "Requirement already satisfied: certifi>=2017.4.17 in /usr/local/lib/python3.10/dist-packages (from requests->bert-score) (2022.12.7)\n",
            "Requirement already satisfied: charset-normalizer~=2.0.0 in /usr/local/lib/python3.10/dist-packages (from requests->bert-score) (2.0.12)\n",
            "Requirement already satisfied: idna<4,>=2.5 in /usr/local/lib/python3.10/dist-packages (from requests->bert-score) (3.4)\n",
            "Requirement already satisfied: fsspec in /usr/local/lib/python3.10/dist-packages (from huggingface-hub<1.0,>=0.14.1->transformers>=3.0.0->bert-score) (2023.4.0)\n",
            "Requirement already satisfied: six>=1.5 in /usr/local/lib/python3.10/dist-packages (from python-dateutil>=2.8.1->pandas>=1.0.1->bert-score) (1.16.0)\n",
            "Requirement already satisfied: MarkupSafe>=2.0 in /usr/local/lib/python3.10/dist-packages (from jinja2->torch>=1.0.0->bert-score) (2.1.2)\n",
            "Requirement already satisfied: mpmath>=0.19 in /usr/local/lib/python3.10/dist-packages (from sympy->torch>=1.0.0->bert-score) (1.3.0)\n"
          ]
        }
      ]
    },
    {
      "cell_type": "code",
      "source": [
        "!bert-score-show --lang en -r \"There are two bananas on the table.\" -c \"On the table are two apples.\" -f out.png"
      ],
      "metadata": {
        "colab": {
          "base_uri": "https://localhost:8080/"
        },
        "id": "RI4eWfoCfJ6f",
        "outputId": "c861a873-cf4a-49dc-b903-5b42ccc0deb2"
      },
      "execution_count": null,
      "outputs": [
        {
          "output_type": "stream",
          "name": "stdout",
          "text": [
            "Some weights of the model checkpoint at roberta-large were not used when initializing RobertaModel: ['lm_head.dense.bias', 'lm_head.dense.weight', 'lm_head.layer_norm.bias', 'lm_head.decoder.weight', 'lm_head.bias', 'lm_head.layer_norm.weight']\n",
            "- This IS expected if you are initializing RobertaModel from the checkpoint of a model trained on another task or with another architecture (e.g. initializing a BertForSequenceClassification model from a BertForPreTraining model).\n",
            "- This IS NOT expected if you are initializing RobertaModel from the checkpoint of a model that you expect to be exactly identical (initializing a BertForSequenceClassification model from a BertForSequenceClassification model).\n",
            "2023-05-14 09:01:22.947298: W tensorflow/compiler/tf2tensorrt/utils/py_utils.cc:38] TF-TRT Warning: Could not find TensorRT\n",
            "Saved figure to file:  out.png\n",
            "Figure(800x700)\n"
          ]
        }
      ]
    },
    {
      "cell_type": "code",
      "source": [
        "from bert_score import score"
      ],
      "metadata": {
        "id": "xJ4EPfr7hLrr"
      },
      "execution_count": null,
      "outputs": []
    },
    {
      "cell_type": "code",
      "source": [
        "sentences = [\n",
        "    # summary of paper Grampp et al by chatGPT\n",
        "    #'The paper investigates the relationship between renal cancer susceptibility and genetic variations that affect the hypoxia-inducible factor (HIF) pathway. The authors identify several single nucleotide polymorphisms (SNPs) that are associated with an increased risk of renal cancer. They then demonstrate that these SNPs affect the function of the HIF pathway, which plays a critical role in regulating cellular responses to hypoxia. Furthermore, the authors show that these SNPs are associated with differences in gene expression and protein levels of key HIF pathway components, including HIF-1α and its downstream targets. They also demonstrate that these SNPs affect the cellular response to hypoxia and the expression of HIF-1α target genes. Overall, the paper provides insights into the genetic basis of renal cancer susceptibility and sheds light on the role of the HIF pathway in this disease. The findings may have important implications for the development of new diagnostic and therapeutic approaches for renal cancer.',\n",
        "    # abstract of Grampp et al.\n",
        "             'Un-physiological activation of hypoxia inducible factor (HIF) is an early event in most renal cell cancers (RCC) following inactivation of the von Hippel-Lindau tumor suppressor. Despite intense study, how this impinges on cancer development is incompletely understood. To test for the impact of genetic signals on this pathway, we aligned human RCC-susceptibility polymorphisms with genome-wide assays of HIF-binding and observed highly significant overlap. Allele-specific assays of HIF binding, chromatin conformation and gene expression together with eQTL analyses in human tumors were applied to mechanistic analysis of one such overlapping site at chromosome 12p12.1. This defined a novel stage-specific mechanism in which the risk polymorphism, rs12814794, directly creates a new HIF-binding site that mediates HIF-1α isoform specific upregulation of its target BHLHE41. The alignment of multiple sites in the HIF cis-acting apparatus with RCC-susceptibility polymorphisms strongly supports a causal model in which minor variation in this pathway exerts significant effects on RCC development.',\n",
        "    # 9 additional papers associated with rs12814794 from dbSNP\n",
        "'Few single nucleotide polymorphisms (SNPs) associated with the risk of renal cell carcinoma (RCC) have been identified, yet genetic predisposition contributes significantly to this malignancy. We previously showed that follistatin-like 1 (FSTL1) was significantly down-regulated in clear cell RCC (ccRCC), in particular metastatic ccRCC. In the present study, we systemically investigated the associations of the 6 SNPs within FSTL1-coding genomic region with RCC risk and postoperative prognosis. Age- and gender-matched case-control study (417 vs 855) indicated that rs1259293 variant genotype CC was significantly associated with an increased risk of RCC, with an odds ratio of 2.004 (95% confidence internal [CI] = 1.190-3.375). Multivariate Cox regression analysis in 309 of 417 cases showed that rs1259293 genotype (CC vs TT + CT) independently predicted an unfavorable prognosis, with a hazard ratio of 2.531 (95% CI = 1.052-6.086). Expression of FSTL1 was significantly higher in adjacent renal tissues than in tumors, and significantly higher in the tissues with rs1259293 TT genotype than in those with rs1259293 TC+CC genotypes. rs1259293 C allele might generate a CTCF binding site that blocks trans-activation of FSTL1 expression. Our results indicate that rs1259293 is associated with an increased risk and unfavorable postoperative prognosis of RCC, possibly by down-regulating FSTL1 expression in renal tissues.',\n",
        "'The current data are still inconclusive in terms of a genetic component involved in the susceptibility to renal cell carcinoma. Our aim was to evaluate 40 selected candidate polymorphisms for potential association with clear cell renal cell carcinoma (ccRCC) based on independent group of 167 patients and 200 healthy controls. The obtained data were searched for independent effects of particular polymorphisms as well as haplotypes and genetic interactions. Association testing implied position rs4765623 in the SCARB1 gene (OR = 1.688, 95% CI: 1.104-2.582, P = 0.016) and a haplotype in VDR comprising positions rs739837, rs731236, rs7975232, and rs1544410 (P = 0.012) to be the risk factors in the studied population. The study detected several epistatic effects contributing to the genetic susceptibility to ccRCC. Variation in GNAS1 was implicated in a strong synergistic interaction with BIRC5. This effect was part of a model suggested by multifactor dimensionality reduction method including also a synergy between GNAS1 and SCARB1 (P = 0.036). Significance of GNAS1-SCARB1 interaction was further confirmed by logistic regression (P = 0.041), which also indicated involvement of SCARB1 in additional interaction with EPAS1 (P = 0.008) as well as revealing interactions between GNAS1 and EPAS1 (P = 0.016), GNAS1 and MC1R (P = 0.031), GNAS1 and VDR (P = 0.032), and MC1R and VDR (P = 0.035).',\n",
        "'Purpose: Few risk factors have been identified for renal cell carcinoma. We performed a validation study in a population with a European background to identify the most significant variants previously identified in association with renal cell carcinoma risk. Materials and methods: We performed a case-control validation study after recruiting 463 controls and 463 patients with a histologically confirmed diagnosis of clear cell renal cell carcinoma. For each patient and matched control we genotyped 8 single nucleotide polymorphisms selected from previous studies to evaluate the association between candidate single nucleotide polymorphisms and renal cell carcinoma susceptibility. Results: After adjusting for patient age, gender, smoking status and body mass index the AG + AA genotypes from rs7105934 (11q13) were associated with a decreased risk of renal cell carcinoma (OR 0.50, 95% CI 0.33-0.75, p = 0.001) and the AC + CC genotypes from rs1049380 (ITPR2) were associated with an increased risk (OR 1.66, 95% CI 1.28-2.16, p <0.001). Kidney cancer developed at an older age in patients carrying the dominant risk allele A for rs7105934 (mean age at diagnosis 73.1 vs 68.9 years, p = 0.002) and at a younger age in those carrying the dominant allele C for rs1049380 (mean 68.1 vs 70.8 years, p = 0.005). Conclusions: In what is to our knowledge the first validation study of the main 8 single nucleotide polymorphism variants associated with renal cell carcinoma susceptibility we confirmed the association of 2 single nucleotide polymorphisms with the risk of renal cell carcinoma. Each variant influenced patient age at disease diagnosis.',\n",
        "'Genome-wide association studies (GWAS) of renal cell carcinoma (RCC) in populations of European ancestry have identified four susceptibility loci. No GWAS has been conducted among African Americans (AA), who experience a higher incidence of RCC. We conducted a GWAS in which we analyzed 1,136,723 common single-nucleotide polymorphisms (SNP) among 255 cases and 375 controls of African ancestry, and further investigated 16 SNPs in a replication set (140 cases and 543 controls). The 12p11.23 variant rs10771279, located 77 kb from the European-ancestry RCC marker rs718314, was associated with RCC risk in the GWAS (P = 1.2 × 10(-7)) but did not replicate (P = 0.99). Consistent with European-ancestry findings, the A allele of rs7105934 on 11q13.3 was associated with decreased risk [OR, 0.76, 95% confidence interval (CI), 0.64-0.91; P = 0.0022]. The frequency of this allele was higher than that observed in the European-ancestry GWAS (0.56 and 0.07, respectively, among controls). The rs7105934 association was stronger for clear cell RCC (ccRCC: OR, 0.56; P = 7.4 × 10(-7)) and absent for cases of other or unknown histology (OR, 1.02; P = 0.86). Analyses of rs7105934 by subtype among European-ancestry participants from these studies yielded similar findings (ORs 0.69 and 0.92, respectively). This study provides, to our knowledge, the first evidence that rs7105934 is an RCC susceptibility locus among AAs. Our finding that the association with this SNP may be specific to clear-cell RCC is novel and requires additional investigation. Additional investigation of rs10771279 and other suggestive GWAS findings is also needed.',\n",
        "'Background: Glutathione S-transferase mu 3 (GSTM3) has been proven to be downregulated in renal cell carcinoma (RCC). We aimed to characterise the role of GSTM3 and its genetic predisposition on the occurrence and postoperative prognosis of RCC. Methods: The effect of GSTM3 on RCC aggressiveness was examined using transfection and silencing methods. Glutathione S-transferase mu 3 expression in renal tissues was examined by immunohistochemistry. The associations of rs1332018 (A-63C) and rs7483 (V224I) polymorphisms with RCC risk were examined using 400 RCC patients and 802 healthy controls. The factors contributing to postoperative disease-specific survival of RCC patients were evaluated using the Cox proportional hazard model. Results: Glutathione S-transferase mu 3 silencing increased the invasion and anchorage-independent growth of RCC cell lines. rs1332018 (AC+CC vs AA), which correlated with low expression of GSTM3 in kidney, was associated with RCC risk (odds ratio, 1.446; 95% confidence interval (CI), 1.111-1.882). rs1332018 variants and low GSTM3 expression significantly predicted unfavourable postoperative survivals of RCC patients (P<0.05). rs1332018 variants independently predicted a poor prognosis (hazard ratio, 2.119; 95% CI, 1.043-4.307). Conclusion: Glutathione S-transferase mu 3 may function as a tumour suppressor in RCC. rs1332018 genetic variants predispose the host to downregulating GSTM3 expression in kidney, facilitate carcinogenesis, and predict an unfavourable postoperative prognosis of RCC.',\n",
        "'Renal cell carcinoma (RCC) is the most lethal urologic cancer. Only two common susceptibility loci for RCC have been confirmed to date. To identify additional RCC common susceptibility loci, we conducted an independent genome-wide association study (GWAS). We analyzed 533 191 single nucleotide polymorphisms (SNPs) for association with RCC in 894 cases and 1516 controls of European descent recruited from MD Anderson Cancer Center in the primary scan, and validated the top 500 SNPs in silico in 3772 cases and 8505 controls of European descent involved in the only published GWAS of RCC. We identified two common variants in linkage disequilibrium, rs718314 and rs1049380 (r(2) = 0.64, D = 0.84), in the inositol 1,4,5-triphosphate receptor, type 2 (ITPR2) gene on 12p11.23 as novel susceptibility loci for RCC (P = 8.89 × 10(-10) and P = 6.07 × 10(-9), respectively, in meta-analysis) with an allelic odds ratio of 1.19 [95% confidence interval (CI): 1.13-1.26] for rs718314 and 1.18 (95% CI: 1.12-1.25) for rs1049380. It has been recently identified that rs718314 in ITPR2 is associated with waist-hip ratio (WHR) phenotype. To our knowledge, this is the first genetic locus associated with both cancer risk and WHR.',\n",
        "'A recent genome-wide association study of renal cell carcinoma (RCC) in European population has identified genetic variants in the regions of 2p21 (rs7579899), 11q13.3 (rs7105934) and 12q24.31 (rs4765623) conferred susceptibility to RCC. In our study, we assessed whether these polymorphisms are also associated with RCC risk in a Chinese population. We genotyped these polymorphisms using TaqMan method and assessed their associations with RCC risk in a case-control study of 710 patients with histologically confirmed RCC and 760 cancer-free controls. Normal renal tissues adjacent to tumors were used to evaluate the functional consequences of these polymorphisms. We found that rs7105934 was significantly associated with reduced RCC risk [adjusted odds ratio (OR) = 0.67, 95% confidence intervals (CIs) = 0.47-0.95, GA+AA versus GG], particularly among subgroups of normal-weight individuals (OR = 0.51, 95%CI = 0.29-0.88), never-smokers (OR = 0.53, 95%CI = 0.33-0.85) and non-drinkers (OR = 0.57, 95%CI = 0.370.87). Furthermore, the rs7105934 GA genotype was associated with lower levels of CCND1 mRNA compared with GG genotype, although this association was only marginally significant (P = 0.055). No significant association between rs7579899 or rs7105934 and RCC risk was observed. Our results suggest that rs7105934 on 11q13.3 may confer susceptibility to RCC in our population. Large population-based prospective and functional studies are required to validate the associations between these loci and RCC risk.',\n",
        "'We conducted a two-stage genome-wide association study of renal cell carcinoma (RCC) in 3,772 affected individuals (cases) and 8,505 controls of European background from 11 studies and followed up 6 SNPs in 3 replication studies of 2,198 cases and 4,918 controls. Two loci on the regions of 2p21 and 11q13.3 were associated with RCC susceptibility below genome-wide significance. Two correlated variants (r² = 0.99 in controls), rs11894252 (P = 1.8 × 10⁻⁸) and rs7579899 (P = 2.3 × 10⁻⁹), map to EPAS1 on 2p21, which encodes hypoxia-inducible-factor-2 alpha, a transcription factor previously implicated in RCC. The second locus, rs7105934, at 11q13.3, contains no characterized genes (P = 7.8 × 10⁻¹⁴). In addition, we observed a promising association on 12q24.31 for rs4765623, which maps to SCARB1, the scavenger receptor class B, member 1 gene (P = 2.6 × 10⁻⁸). Our study reports previously unidentified genomic regions associated with RCC risk that may lead to new etiological insights.',\n",
        "'Genome-wide association studies have identified prostate cancer susceptibility alleles on chromosome 11q13. As part of the Cancer Genetic Markers of Susceptibility (CGEMS) Initiative, the region flanking the most significant marker, rs10896449, was fine mapped in 10 272 cases and 9123 controls of European origin (10 studies) using 120 common single nucleotide polymorphisms (SNPs) selected by a two-staged tagging strategy using HapMap SNPs. Single-locus analysis identified 18 SNPs below genome-wide significance (P< 10(-8)) with rs10896449 the most significant (P= 7.94 × 10(-19)). Multi-locus models that included significant SNPs sequentially identified a second association at rs12793759 [odds ratio (OR) = 1.14, P= 4.76 × 10(-5), adjusted P= 0.004] that is independent of rs10896449 and remained significant after adjustment for multiple testing within the region. rs10896438, a proxy of previously reported rs12418451 (r(2)= 0.96), independent of both rs10896449 and rs12793759 was detected (OR = 1.07, P= 5.92 × 10(-3), adjusted P= 0.054). Our observation of a recombination hotspot that separates rs10896438 from rs10896449 and rs12793759, and low linkage disequilibrium (rs10896449-rs12793759, r(2)= 0.17; rs10896449-rs10896438, r(2)= 0.10; rs12793759-rs10896438, r(2)= 0.12) corroborate our finding of three independent signals. By analysis of tagged SNPs across ∼123 kb using next generation sequencing of 63 controls of European origin, 1000 Genome and HapMap data, we observed multiple surrogates for the three independent signals marked by rs10896449 (n= 31), rs10896438 (n= 24) and rs12793759 (n= 8). Our results indicate that a complex architecture underlying the common variants contributing to prostate cancer risk at 11q13. We estimate that at least 63 common variants should be considered in future studies designed to investigate the biological basis of the multiple association signals.',\n",
        "\n",
        "# movie Pulp Fiction\n",
        "'Hitmen Jules Winnfield and Vincent Vega arrive at an apartment to retrieve a briefcase for their boss, gangster Marsellus Wallace, from a business partner, Brett. After Vincent checks the contents of the briefcase, Jules shoots one of Bretts associates. He declaims a passage from the Bible, and he and Vincent kill Brett for trying to double-cross Marsellus. Another man bursts out of the bathroom and fires at them, but every shot misses; after briefly checking themselves for wounds, Jules and Vincent shoot him dead. While driving away with Bretts associate Marvin, Jules professes that their survival was a miracle, which Vincent disputes. Vincent accidentally shoots Marvin in the face, killing him, and covering Vincent, Jules, and the car interior in blood in broad daylight. They hide the car at the home of Juless friend Jimmie, who demands they deal with the problem before his wife, Bonnie, comes home. Marsellus sends a cleaner, Winston Wolfe, who directs Jules and Vincent to clean the car, hide the body in the trunk, dispose of their bloody clothes, and take the car to a junkyard.',\n",
        "\n",
        "# abstracts of philosophical papers\n",
        "'This paper addresses a puzzle with regard to the question of Kant’s understanding of the relationship between the methods of mathematics and metaphysics. In the preface to the Critique of Pure Reason, Kant indicates that metaphysics’ success depends on its adopting the method of the mathematicians; in a later section of the first Critique, Kant explicitly warns against doing so. I’ll argue that we should in fact understand Kant’s explicit warnings as qualified, and view Kant as endorsing a unified methodology for both mathematics and metaphysics. This uniformity of methodology, I’ll suggest, is determined with regard to shared features within the procedures through which mathematical and metaphysical concepts are acquired.',\n",
        "'Many philosophers consider themselves Moderates about the demands of morality.  Despite the intuitive appeal of the Moderate position, many of its proponents have been less than clear about the precise structure of the position, as they understand it.  In this paper, then, I want to consider what sort of structure a plausible Moderate view might have, and how such a view might be argued for.  I will suggest that it is important to distinguish two central components of the Moderate view, one of which consists in a view about the content of the correct moral principles, and the other of which consists in a view about the particular demands of morality in circumstances like ours.  After clarifying this distinction, I will argue that a common form of argument for the Moderate view, which begins either from general intuitions about the limits of morality’s demandingness, or from a set of intuitions about particular cases, must be rejected as problematically question-begging against more demanding views.  I will then suggest that any successful argument for the Moderate view must begin by defending a Moderate position on the content of the correct moral principles, and then attempting to establish that the relevant Moderate principles have Moderate implications regarding morality’s demands in circumstances like ours.  I conclude by suggesting some reasons to doubt that any plausible set of Moderate principles can yield the Moderate’s favored conclusion about the demands of morality in circumstances like ours.',\n",
        "'The Meno problem, which is to explain why knowledge is in some sense better than true belief, has been misunderstood by contemporary authors. I use some considerations from the Meno itself to come to a better understanding of what the problem is – or, more accurately, what the problems are – as well as how to solve them. In particular, I claim that Socrates is concerned with a deeper problem than contemporary authors, and that his solution to it is one which deserves a place in an answer to that deeper problem.',\n",
        "'In this paper I will try and understand the essential point of contrast between conciliationist and non-conciliationist views on the epistemic significance of peer disagreement by articulating what I take to be the core of one prominent conciliationist view, the Equal Weight View (EWV). I will focus on a 2 central idea that has recently  been touted as a fundamental point of departure between conciliationism and non-conciliationism: how an agent may permissibly \"downgrade\" ones interlocutor as ones epistemic peer (a restriction I call the Conciliationists Insight). I will argue that we can best articulate this insight as expressing a restriction on a certain pattern of reasoning, which gives us reason to understand the core of EWV as consisting in a particular set of rationality requirements. I draw on recent literature on the nature and normativity of rationality requirements to motivate this proposal. Not only does this way of looking at conciliationism, and EWV in particular, better cast the debate between conciliationists and non-conciliationists, but it sheds light on the problem of normative conflict, which I take to be a fundamental difficulty for conciliationism and which underpins apparently separate objections to conciliationism in the literature.',\n",
        "'How should we understand reasons-based knowledge? In “Conclusive Reasons,\" Dretske famously argued that an agent knows that P if and only if she has a conclusive reason, R, to believe that P. He went on to give an account of conclusive reasons, according to which R is conclusive for P just in case [R would not be the case unless P were the case]. I will argue that this view of reasons-based knowledge cannot succeed. I present several counterexamples to Dretskes account. I then argue that these examples show that one can believe P on the basis of in-point-of-fact conclusive reasons (reasons that satisfy the counterfactual above), while still failing to know that P. I conclude that having conclusive reasons to believe that P is not (simply) a matter of believing P for reasons that are in-point-of-fact conclusive.',\n",
        "'In his 2010, Yablo presents six problems for the ‘standard‘, static semantics given for epistemic possibility statements and thereby challenges their entitlement to the description ‗epistemic‘. I argue that, with some modification, a standard account like that of DeRose (1991) can withstand all of the objections he raises. Specifically I propose that DeRose abandon his commitment to ‘Moore‘s Principle‘, the postulation that speakers who utter ‘might‘ statements always participate in the relevant epistemic community. It has been said that without an account of how relevance in DeRose‘s account is to be constrained, it is too uninformative to provide an interesting analysis. I take a small step to answer this complaint by providing one such constraint. The resulting account provides an understanding of epistemic possibility statements in terms of shared knowledge, availability of relevant information and an epistemic community.',\n",
        "'Imprecise probabilities offer a more psychologically reasonable account of belief than does the strict Bayesian framework. One major issue with imprecise models of belief is that decision making in this framework is a fraught affair. I pinpoint this problem and show that there is a strong sense in which it is unavoidable.',\n",
        "'In this paper I will examine the accounts Frege gives of identity statements in ‘Begrisschrift’ and ‘Uber Sinn und Bedeutung. It is generally believed that Frege gives a metalinguistic account of 3 identity statements in Begrisschrift, and an object denotational account in ‘Uber Sinn und Bedeutung. However the accounts he provides and the rationale for them is very similar in both works. He certainly does not provide any refutation of the Begrisschrift account in Uber Sinn und Bedeutung. I will consider attempts at solving this puzzle provided Mike Thau & Ben Caplan, and Gilead Bar-Elli in my investigation, concluding that neither of them provide a satisfactory explanation of Freges intentions in each work. I will then offer my own explanation, drawing on Freges work between the two texts, and conclude that the traditional view of his identity statement accounts is correct, and that the mystery is easily defeated.',\n",
        "'The debate between two-aspect and two-world interpretations of the relation – contained in the first Critique1 – between the appearances and things in themselves is one which has not yet been laid to rest. This is largely due, as many debates over the interpretation of the Critique are, to Kants complex and ambiguous formulations. It is my intention in this paper to examine a line of reasoning which lends itself to a clear sense in which the appearances and things in themselves cannot be identified. This line of reasoning does not settle the matter, but allows us to arrive at a more subtle formulation of the question. Towards the end of the paper, I briefly examine a couple of consequences of my discussion for Allison’s two-aspect view. This view can potentially benefit from my reformulation of the question. Finally, I gesture at a potential understanding of the relation between the appearances and things in themselves which lines up with the points raised over the course of the paper.',\n",
        "'Organizations replace their legacy systems for technical, economic, and operational reasons. Replacement is a risky proposition, as high levels of technical and social inertia make these systems hard to withdraw. Failure to fully replace systems results in complex system architectures involving manifold hidden dependencies that carry technical debt. To understand how a process for replacing a complex legacy system unfolds and accumulates technical debt, we conducted an explanatory case study at a local manufacturing site that had struggled to replace its mission-critical legacy systems as part of the larger global company’s commercial-off-the-shelf (COTS) system implementation. We approach the replacement as a sociotechnical change and leverage the punctuated sociotechnical information system change model in combination with the design-moves framework to analyze how the site balanced creating digital options, countering social inertia, and managing (architectural) technical debt. The findings generalize to a two-level (local/global) system-dynamics model delineating how replacing a deeply entrenched mission-critical system generates positive and negative feedback loops within and between social and technical changes at local and global levels. The loops, unless addressed, accrue technical debt that hinders legacy system discontinuance and gradually locks the organization into a debt-constrained state. The model helps managers anticipate challenges that accompany replacing highly entrenched systems and formulate effective strategies to address them.',\n",
        "'Biases on online platforms pose a threat to social inclusion. We examine the influence of a novel source of bias in online philanthropic lending, namely that associated with religious differences. We first propose religion distance as a probabilistic measure of differences between pairs of individuals residing in different countries. We then incorporate this measure into a gravity model of trade to explain variation in country-to-country lending volumes. We further propose a set of contextual moderators that characterize individuals’ offline (local) and online social contexts, which we argue combine to determine the influence of religion distance on lending activity. We empirically estimate our gravity model using data from Kiva.org, reflecting all lending actions that took place between 2006 and 2017. We demonstrate the negative and significant effect of religion distance on lending activity, over and above other established factors in the literature. Further, we demonstrate the moderating role of lenders’ offline social context (diversity, social hostilities, and governmental favoritism of religion) on the aforementioned relationship to online lending behavior. Finally, we offer empirical evidence of the parallel role of online contextual factors, namely those related to community features offered by the Kiva platform (lending teams), which appear to amplify the role of religious bias. In particular, we show that religious team membership is a double-edged sword that has both favorable and unfavorable consequences, increasing lending in general but skewing said lending toward religiously similar borrowers. Our findings speak to the important frictions associated with religious differences in individual philanthropy; they point to the role of governmental policy vis-à-vis religious tolerance as a determinant of citizens’ global philanthropic behavior, and they highlight design implications for online platforms with an eye toward managing religious bias.',\n",
        "'Unstructured multimedia data (text and audio) provides unprecedented opportunities to derive actionable decision-making in the financial industry, in areas such as portfolio and risk management. However, due to formidable methodological challenges, the promise of business value from unstructured multimedia data has not materialized. In this study, we use a design science approach to develop DeepVoice, a novel nonverbal predictive analysis system for financial risk prediction, in the setting of quarterly earnings conference calls. DeepVoice forecasts financial risk by leveraging not only what managers say (verbal linguistic cues) but also how managers say it (vocal cues) during the earnings conference calls. The design of DeepVoice addresses several challenges associated with the analysis of nonverbal communication. We also propose a two-stage deep learning model to effectively integrate managers’ sequential vocal and verbal cues. Using a unique dataset of 6,047 earnings call samples (audio recordings and textual transcripts) of S&P 500 firms across four years, we show that DeepVoice yields remarkably lower risk forecast errors than that achieved by previous efforts. The improvement can also translate into nontrivial economic gains in options trading. The theoretical and practical implications of analyzing vocal cues are discussed.',\n",
        "'The growth of crowdfunding markets that include both expert and nonexpert investors will soon accelerate due to recent changes in Securities Exchange Commission (SEC) regulations. Prior work has suggested that nonexperts (1) may benefit from experts’ participation via mimicking their trades, but (2) will also face a cost, as experts crowding nonexperts out of the best opportunities will ensure that nonexperts will suffer lower returns than experts. Traditional economic theory holds that the crowding effect means that the relative importance of nonexperts in the market will decline over time until they become unimportant. Exploiting a unique period in one crowdfunding market (Prosper.com) that allowed us to directly estimate the net cost of competing with better-informed experts, we found that the net negative effects of expert participation on nonexperts are small. We used simulations to both better understand (1) the market characteristics and crowdfunding platform choices that influence experts’ and nonexperts’ returns, their return gap, and the extent to which nonexperts are better or worse off relative to a market without expert participation, and (2) the factors that may contribute to the small expert/nonexpert Prosper return gap.',\n",
        "'Emotion artificial intelligence, the algorithm that recognizes and interprets various human emotions beyond valence (positive and negative polarity), is still in its infancy but has attracted attention from industry and academia. Based on discrete emotion theory and statistical language modeling, this work proposes an algorithm to enable automatic domain-adaptive emotion lexicon construction and multidimensional emotion detection in texts. Using a large-scale dataset of China’s movie market from 2012 to 2018, we constructed and validated a domain-specific emotion lexicon and demonstrated the predictive power of eight discrete emotions (i.e., surprise, joy, anticipation, love, anxiety, sadness, anger, and disgust) in online reviews on box office sales. We found that representing overall emotions through discrete emotions yields higher prediction accuracy than valence or latent emotion variables generated by topic modeling. To understand the source of the predictive power from a theoretical perspective and to test the cross-culture generalizability of our prediction study, we further conducted an experiment in the U.S. movie market based on theories on emotion, judgment, and decision-making. We found that discrete emotions, mediated by perceived processing fluency, significantly affect the perceived review helpfulness, which further influences purchase intention. Our work shows the economic value of emotions in online reviews, generates insight into the mechanism of their effects, and has managerial implications for online review platform design, movie marketing, and cinema operations.',\n",
        "'Stereo matching is one of the widely used techniques for inferring depth from stereo images owing to its robustness and speed. It has become one of the major topics of research since it finds its applications in autonomous driving, robotic navigation, 3D reconstruction, and many other fields. Finding pixel correspondences in non-textured, occluded and reflective areas is the major challenge in stereo matching. Recent developments have shown that semantic cues from image segmentation can be used to improve the results of stereo matching. Many deep neural network architectures have been proposed to leverage the advantages of semantic segmentation in stereo matching. This paper aims to give a comparison among the state of art networks both in terms of accuracy and in terms of speed which are of higher importance in real-time applications. The recent advancements in artificial intelligence (AI) combined with the extensive amount of data generated by todays clinical systems, has led to the development of imaging AI solutions across the whole value chain of medical imaging, including image reconstruction, medical image segmentation, image-based diagnosis and treatment planning. Notwithstanding the successes and future potential of AI in medical imaging, many stakeholders are concerned of the potential risks and ethical implications of imaging AI solutions, which are perceived as complex, opaque, and difficult to comprehend, utilise, and trust in critical clinical applications. Despite these concerns and risks, there are currently no concrete guidelines and best practices for guiding future AI developments in medical imaging towards increased trust, safety and adoption. To bridge this gap, this paper introduces a careful selection of guiding principles drawn from the accumulated experiences, consensus, and best practices from five large European projects on AI in Health Imaging. These guiding principles are named FUTURE-AI and its building blocks consist of (i) Fairness, (ii) Universality, (iii) Traceability, (iv) Usability, (v) Robustness and (vi) Explainability. In a step-by-step approach, these guidelines are further translated into a framework of concrete recommendations for specifying, developing, evaluating, and deploying technically, clinically and ethically trustworthy AI solutions into clinical practice.',\n",
        "\n",
        "# abstracts of arxiv papers\n",
        "'In this paper, we proposed a novel mutual consistency network (MC-Net+) toeffectively exploit the unlabeled hard regions for semi-supervised medicalimage segmentation. The MC-Net+ model is motivated by the observation that deepmodels trained with limited annotations are prone to output highly uncertainand easily mis-classified predictions in the ambiguous regions (e.g. adhesiveedges or thin branches) for the image segmentation task. Leveraging theseregion-level challenging samples can make the semi-supervised segmentationmodel training more effective. Therefore, our proposed MC-Net+ model consistsof two new designs. First, the model contains one shared encoder and multiplesightly different decoders (i.e. using different up-sampling strategies). Thestatistical discrepancy of multiple decoders outputs is computed to denote themodels uncertainty, which indicates the unlabeled hard regions. Second, a newmutual consistency constraint is enforced between one decoders probabilityoutput and other decoders soft pseudo labels. In this way, we minimize themodels uncertainty during training and force the model to generate invariantand low-entropy results in such challenging areas of unlabeled data, in orderto learn a generalized feature representation. We compared the segmentationresults of the MC-Net+ with five state-of-the-art semi-supervised approaches onthree public medical datasets. Extension experiments with two commonsemi-supervised settings demonstrate the superior performance of our model overother existing methods, which sets a new state of the art for semi-supervisedmedical image segmentation.',\n",
        "'Consistency training has proven to be an advanced semi-supervised frameworkand achieved promising results in medical image segmentation tasks throughenforcing an invariance of the predictions over different views of the inputs.However, with the iterative updating of model parameters, the models would tendto reach a coupled state and eventually lose the ability to exploit unlabeleddata. To address the issue, we present a novel semi-supervised segmentationmodel based on parameter decoupling strategy to encourage consistentpredictions from diverse views. Specifically, we first adopt a two-branchnetwork to simultaneously produce predictions for each image. During thetraining process, we decouple the two prediction branch parameters by quadraticcosine distance to construct different views in latent space. Based on this,the feature extractor is constrained to encourage the consistency ofprobability maps generated by classifiers under diversified features. In theoverall training process, the parameters of feature extractor and classifiersare updated alternately by consistency regularization operation and decouplingoperation to gradually improve the generalization performance of the model. Ourmethod has achieved a competitive result over the state-of-the-artsemi-supervised methods on the Atrial Segmentation Challenge dataset,demonstrating the effectiveness of our framework. Code is available athttps://github.com/BX0903/PDC.',\n",
        "'To ensure safety in automated driving, the correct perception of thesituation inside the car is as important as its environment. Thus, seatoccupancy detection and classification of detected instances play an importantrole in interior sensing. By the knowledge of the seat occupancy status, it ispossible to, e.g., automate the airbag deployment control. Furthermore, thepresence of a driver, which is necessary for partially automated driving carsat the automation levels two to four can be verified. In this work, we comparedifferent statistical methods from the field of image segmentation to approachthe problem of background-foreground segmentation in camera based interiorsensing. In the recent years, several methods based on different techniqueshave been developed and applied to images or videos from differentapplications. The peculiarity of the given scenarios of interior sensing is,that the foreground instances and the background both contain static as well asdynamic elements. In data considered in this work, even the camera position isnot completely fixed. We review and benchmark three different methods ranging,i.e., Gaussian Mixture Models (GMM), Morphological Snakes and a deep neuralnetwork, namely a Mask R-CNN. In particular, the limitations of the classicalmethods, GMM and Morphological Snakes, for interior sensing are shown.Furthermore, it turns, that it is possible to overcome these limitations bydeep learning, e.g.\\ using a Mask R-CNN. Although only a small amount of groundtruth data was available for training, we enabled the Mask R-CNN to producehigh quality background-foreground masks via transfer learning. Moreover, wedemonstrate that certain augmentation as well as pre- and post-processingmethods further enhance the performance of the investigated methods.\"\"High-quality training data play a key role in image segmentation tasks.Usually, pixel-level annotations are expensive, laborious and time-consumingfor the large volume of training data. To reduce labelling cost and improvesegmentation quality, interactive segmentation methods have been proposed,which provide the result with just a few clicks. However, their performancedoes not meet the requirements of practical segmentation tasks in terms ofspeed and accuracy. In this work, we propose EdgeFlow, a novel architecturethat fully utilizes interactive information of user clicks with edge-guidedflow. Our method achieves state-of-the-art performance without anypost-processing or iterative optimization scheme. Comprehensive experiments onbenchmarks also demonstrate the superiority of our method. In addition, withthe proposed method, we develop an efficient interactive segmentation tool forpractical data annotation tasks. The source code and tool is avaliable athttps://github.com/PaddlePaddle/PaddleSeg.',\n",
        "'Semantic segmentation of fine-resolution urban scene images plays a vitalrole in extensive practical applications, such as land cover mapping, urbanchange detection, environmental protection and economic assessment. Driven byrapid developments in deep learning technologies, convolutional neural networks(CNNs) have dominated the semantic segmentation task for many years.Convolutional neural networks adopt hierarchical feature representation andhave strong local context extraction. However, the local property of theconvolution layer limits the network from capturing global information that iscrucial for improving fine-resolution image segmentation. Recently, Transformercomprise a hot topic in the computer vision domain. Vision Transformerdemonstrates the great capability of global information modelling, boostingmany vision tasks, such as image classification, object detection andespecially semantic segmentation. In this paper, we propose an efficient hybridTransformer (EHT) for semantic segmentation of urban scene images. EHT takesadvantage of CNNs and Transformer, learning global-local context to strengthenthe feature representation. Extensive experiments demonstrate that EHT hashigher efficiency with competitive accuracy compared with state-of-the-artbenchmark methods. Specifically, the proposed EHT achieves a 67.0% mIoU on theUAVid test set and outperforms other lightweight models significantly. The codewill be available soon.',\n",
        "'To mitigate the radiologists workload, computer-aided diagnosis with thecapability to review and analyze medical images is gradually deployed. Deeplearning-based region of interest segmentation is among the most exciting usecases. However, this paradigm is restricted in real-world clinical applicationsdue to poor robustness and generalization. The issue is more sinister with alack of training data. In this paper, we address the challenge from therepresentation learning point of view. We investigate that the collapsedrepresentations, as one of the main reasons which caused poor robustness andgeneralization, could be avoided through transfer learning. Therefore, wepropose a novel two-stage framework for robust generalized segmentation. Inparticular, an unsupervised Tile-wise AutoEncoder (T-AE) pretrainingarchitecture is coined to learn meaningful representation for improving thegeneralization and robustness of the downstream tasks. Furthermore, the learnedknowledge is transferred to the segmentation benchmark. Coupled with an imagereconstruction network, the representation keeps to be decoded, encouraging themodel to capture more semantic features. Experiments of lung segmentation onmulti chest X-ray datasets are conducted. Empirically, the related experimentalresults demonstrate the superior generalization capability of the proposedframework on unseen domains in terms of high performance and robustness tocorruption, especially under the scenario of the limited training data.\"\"Generalising deep models to new data from new centres (termed here domains)remains a challenge. This is largely attributed to shifts in data statistics(domain shifts) between source and unseen domains. Recently, gradient-basedmeta-learning approaches where the training data are split into meta-train andmeta-test sets to simulate and handle the domain shifts during training haveshown improved generalisation performance. However, the current fullysupervised meta-learning approaches are not scalable for medical imagesegmentation, where large effort is required to create pixel-wise annotations.Meanwhile, in a low data regime, the simulated domain shifts may notapproximate the true domain shifts well across source and unseen domains. Toaddress this problem, we propose a novel semi-supervised meta-learningframework with disentanglement. We explicitly model the representations relatedto domain shifts. Disentangling the representations and combining them toreconstruct the input image allows unlabeled data to be used to betterapproximate the true domain shifts for meta-learning. Hence, the model canachieve better generalisation performance, especially when there is a limitedamount of labeled data. Experiments show that the proposed method is robust ondifferent segmentation tasks and achieves state-of-the-art generalisationperformance on two public benchmarks.',\n",
        "'The success of deep learning methods in medical image segmentation tasksheavily depends on a large amount of labeled data to supervise the training. Onthe other hand, the annotation of biomedical images requires domain knowledgeand can be laborious. Recently, contrastive learning has demonstrated greatpotential in learning latent representation of images even without any label.Existing works have explored its application to biomedical image segmentationwhere only a small portion of data is labeled, through a pre-training phasebased on self-supervised contrastive learning without using any labels followedby a supervised fine-tuning phase on the labeled portion of data only. In thispaper, we establish that by including the limited label in formation in thepre-training phase, it is possible to boost the performance of contrastivelearning. We propose a supervised local contrastive loss that leverages limitedpixel-wise annotation to force pixels with the same label to gather around inthe embedding space. Such loss needs pixel-wise computation which can beexpensive for large images, and we further propose two strategies, downsamplingand block division, to address the issue. We evaluate our methods on two publicbiomedical image datasets of different modalities. With different amounts oflabeled data, our methods consistently outperform the state-of-the-artcontrast-based methods and other semi-supervised learning techniques.\"\"Image segmentation algorithms often depend on appearance models thatcharacterize the distribution of pixel values in different image regions. Wedescribe a new approach for estimating appearance models directly from animage, without explicit consideration of the pixels that make up each region.Our approach is based on novel algebraic expressions that relate local imagestatistics to the appearance of spatially coherent regions. We describe twoalgorithms that can use the aforementioned algebraic expressions to estimateappearance models directly from an image. The first algorithm solves a systemof linear and quadratic equations using a least squares formulation. The secondalgorithm is a spectral method based on an eigenvector computation. We presentexperimental results that demonstrate the proposed methods work well inpractice and lead to effective image segmentation algorithms.',\n",
        "'The CNN-based methods have achieved impressive results in medical imagesegmentation, but it failed to capture the long-range dependencies due to theinherent locality of convolution operation. Transformer-based methods arepopular in vision tasks recently because of its capacity of long-rangedependencies and get a promising performance. However, it lacks in modelinglocal context, although some works attempted to embed convolutional layer toovercome this problem and achieved some improvement, but it makes the featureinconsistent and fails to leverage the natural multi-scale features ofhierarchical transformer, which limit the performance of models. In this paper,taking medical image segmentation as an example, we present MISSFormer, aneffective and powerful Medical Image Segmentation tranSFormer. MISSFormer is ahierarchical encoder-decoder network and has two appealing designs: 1) A feedforward network is redesigned with the proposed Enhanced Transformer Block,which makes features aligned adaptively and enhances the long-rangedependencies and local context. 2) We proposed Enhanced Transformer ContextBridge, a context bridge with the enhanced transformer block to model thelong-range dependencies and local context of multi-scale features generated byour hierarchical transformer encoder. Driven by these two designs, theMISSFormer shows strong capacity to capture more valuable dependencies andcontext in medical image segmentation. The experiments on multi-organ andcardiac segmentation tasks demonstrate the superiority, effectiveness androbustness of our MISSFormer, the exprimental results of MISSFormer trainedfrom scratch even outperforms state-of-the-art methods pretrained on ImageNet,and the core designs can be generalized to other visual segmentation tasks. Thecode will be released in Github.',\n",
        "'Deep learning has become in recent years a cornerstone tool fueling keyinnovations in the industry, such as autonomous driving. To attain goodperformances, the neural network architecture used for a given application mustbe chosen with care. These architectures are often handcrafted and thereforeprone to human biases and sub-optimal selection. Neural Architecture Search(NAS) is a framework introduced to mitigate such risks by jointly optimizingthe network architectures and its weights. Albeit its novelty, it was appliedon complex tasks with significant results - e.g. semantic image segmentation.In this technical paper, we aim to evaluate its ability to tackle a challengingoperational task: semantic segmentation of objects of interest in satelliteimagery. Designing a NAS framework is not trivial and has strong dependenciesto hardware constraints. We therefore motivate our NAS approach selection andprovide corresponding implementation details. We also present novel ideas tocarry out other such use-case studies.',\n",
        "'Tensor networks are efficient factorisations of high dimensional tensors intoa network of lower order tensors. They have been most commonly used to modelentanglement in quantum many-body systems and more recently are witnessingincreased applications in supervised machine learning. In this work, weformulate image segmentation in a supervised setting with tensor networks. Thekey idea is to first lift the pixels in image patches to exponentially highdimensional feature spaces and using a linear decision hyper-plane to classifythe input pixels into foreground and background classes. The high dimensionallinear model itself is approximated using the matrix product state (MPS) tensornetwork. The MPS is weight-shared between the non-overlapping image patchesresulting in our strided tensor network model. The performance of the proposedmodel is evaluated on three 2D- and one 3D- biomedical imaging datasets. Theperformance of the proposed tensor network segmentation model is compared withrelevant baseline methods. In the 2D experiments, the tensor network modelyeilds competitive performance compared to the baseline methods while beingmore resource efficient.',\n",
        "'Simultaneous segmentation of multiple organs from different medical imagingmodalities is a crucial task as it can be utilized for computer-aideddiagnosis, computer-assisted surgery, and therapy planning. Thanks to therecent advances in deep learning, several deep neural networks for medicalimage segmentation have been introduced successfully for this purpose. In thispaper, we focus on learning a deep multi-organ segmentation network that labelsvoxels. In particular, we examine the critical choice of a loss function inorder to handle the notorious imbalance problem that plagues both the input andoutput of a learning model. The input imbalance refers to the class-imbalancein the input training samples (i.e., small foreground objects embedded in anabundance of background voxels, as well as organs of varying sizes). The outputimbalance refers to the imbalance between the false positives and falsenegatives of the inference model. In order to tackle both types of imbalanceduring training and inference, we introduce a new curriculum learning basedloss function. Specifically, we leverage Dice similarity coefficient to determodel parameters from being held at bad local minima and at the same timegradually learn better model parameters by penalizing for falsepositives/negatives using a cross entropy term. We evaluated the proposed lossfunction on three datasets: whole body positron emission tomography (PET) scanswith 5 target organs, magnetic resonance imaging (MRI) prostate scans, andultrasound echocardigraphy images with a single target organ i.e., leftventricular. We show that a simple network architecture with the proposedintegrative loss function can outperform state-of-the-art methods and resultsof the competing methods can be improved when our proposed loss is used.\"\"Semi-supervised learning (SSL) uses unlabeled data to compensate for thescarcity of annotated images and the lack of method generalization to unseendomains, two usual problems in medical segmentation tasks. In this work, wepropose POPCORN, a novel method combining consistency regularization andpseudo-labeling designed for image segmentation. The proposed framework useshigh-level regularization to constrain our segmentation model to use similarlatent features for images with similar segmentations. POPCORN estimates aproximity graph to select data from easiest ones to more difficult ones, inorder to ensure accurate pseudo-labeling and to limit confirmation bias.Applied to multiple sclerosis lesion segmentation, our method demonstratescompetitive results compared to other state-of-the-art SSL strategies.',\n",
        "'Modern deep neural networks struggle to transfer knowledge and generalizeacross domains when deploying to real-world applications. Domain generalization(DG) aims to learn a universal representation from multiple source domains toimprove the network generalization ability on unseen target domains. PreviousDG methods mostly focus on the data-level consistency scheme to advance thegeneralization capability of deep networks, without considering the synergisticregularization of different consistency schemes. In this paper, we present anovel Hierarchical Consistency framework for Domain Generalization (HCDG) byensembling Extrinsic Consistency and Intrinsic Consistency. Particularly, forExtrinsic Consistency, we leverage the knowledge across multiple source domainsto enforce data-level consistency. Also, we design a novel AmplitudeGaussian-mixing strategy for Fourier-based data augmentation to enhance suchconsistency. For Intrinsic Consistency, we perform task-level consistency forthe same instance under the dual-task form. We evaluate the proposed HCDGframework on two medical image segmentation tasks, i.e., optic cup/discsegmentation on fundus images and prostate MRI segmentation. Extensiveexperimental results manifest the effectiveness and versatility of our HCDGframework. Code will be available once accept.',\n",
        "'Deep neural networks have been a prevailing technique in the field of medicalimage processing. However, the most popular convolutional neural networks(CNNs) based methods for medical image segmentation are imperfect because theymodel long-range dependencies by stacking layers or enlarging filters.Transformers and the self-attention mechanism are recently proposed toeffectively learn long-range dependencies by modeling all pairs of word-to-wordattention regardless of their positions. The idea has also been extended to thecomputer vision field by creating and treating image patches as embeddings.Considering the computation complexity for whole image self-attention, currenttransformer-based models settle for a rigid partitioning scheme thatpotentially loses informative relations. Besides, current medical transformersmodel global context on full resolution images, leading to unnecessarycomputation costs. To address these issues, we developed a novel method tointegrate multi-scale attention and CNN feature extraction using a pyramidalnetwork architecture, namely Pyramid Medical Transformer (PMTrans). The PMTranscaptured multi-range relations by working on multi-resolution images. Anadaptive partitioning scheme was implemented to retain informative relationsand to access different receptive fields efficiently. Experimental results onthree medical image datasets (gland segmentation, MoNuSeg, and HECKTORdatasets) showed that PMTrans outperformed the latest CNN-based andtransformer-based models for medical image segmentation.',\n",
        "'We propose a novel neural-network-based method to perform matting of videosdepicting people that does not require additional user input such as trimaps.Our architecture achieves temporal stability of the resulting alpha mattes byusing motion-estimation-based smoothing of image-segmentation algorithmoutputs, combined with convolutional-LSTM modules on U-Net skip connections.  We also propose a fake-motion algorithm that generates training clips for thevideo-matting network given photos with ground-truth alpha mattes andbackground videos. We apply random motion to photos and their mattes tosimulate movement one would find in real videos and composite the result withthe background clips. It lets us train a deep neural network operating onvideos in an absence of a large annotated video dataset and providesground-truth training-clip foreground optical flow for use in loss functions.',\n",
        "\n",
        "# listed by chatGPT as key publicaitons for rs7105934 but rs7105934  is not mentioned in paper \n",
        "'Identifying the genetic variants that increase the risk of type 2 diabetes (T2D) in humans has been a formidable challenge. Adopting a genome-wide association strategy, we genotyped 1161 Finnish T2D cases and 1174 Finnish normal glucose-tolerant (NGT) controls with >315,000 single-nucleotide polymorphisms (SNPs) and imputed genotypes for an additional >2 million autosomal SNPs. We carried out association analysis with these SNPs to identify genetic variants that predispose to T2D, compared our T2D association results with the results of two similar studies, and genotyped 80 SNPs in an additional 1215 Finnish T2D cases and 1258 Finnish NGT controls. We identify T2D-associated variants in an intergenic region of chromosome 11p12, contribute to the identification of T2D-associated variants near the genes IGF2BP2 and CDKAL1 and the region of CDKN2A and CDKN2B, and confirm that variants near TCF7L2, SLC30A8, HHEX, FTO, PPARG, and KCNJ11 are associated with T2D risk. This brings the number of T2D loci now confidently identified to at least 10.',\n",
        "'Through meta-analysis of GWA data from432,000 samples, followed by additional large-scale follow-up, we have identified six new loci that show compelling associations with adult BMI. Four of these loci (TMEM18, GNPDA2, SH2B1 and NEGR1) also show compelling evidence of association with obesity in adults or children. In general, definitive identification of the specific mechanisms through which these loci influence BMI and obesity will require detailed fine mapping and subsequent functional characterization. With the exception of SH2B1, the genes most strongly implicated on the basis of colocalization with the association signal have limited prior candidacy. We compared our results with those obtained in another large GWAS of BMI, described in an accompanying manuscript by Thorleifsson et al.12. For the five of our six newly identified loci where a comparison was possible (those that had strongly correlated proxies on the Illumina 317K genotyping platform at TMEM18, KCTD15, SH2B1, MTCH2 and NEGR1), the data of Thorleifsson et al. also showed strong evidence of association (Table 1); for GNPDA2, no adequate proxy was available. None of the other top SNPs for which we attempted replication and which had adequate proxies showed evidence of associations in the study by Thorleifsson et al. (Supplementary Table 5; results provided by U. Thorsteinsdottir, G. Thorleifsson and K. Stefansson on behalf of Thorleifsson et al.). After the six validated loci (and SNPs in LD with them) were removed from our analysis, we no longer observed a clear excess of P values smaller than expected by chance (Fig. 1c). One might conclude from this that few detectable BMI loci remain to be found. However, we are encouraged in further pursuit because among the remaining data are two additional loci reported by Thorleifsson et al. (BDNF and ETV5); both of these loci show strong confirming evidence for association in our stage 1 meta-analysis (P values of 0.00035 and 0.00043).',\n",
        "'Blood concentrations of lipoproteins and lipids are heritable1 risk factors for cardiovascular disease2,3. Using genome-wide association data from three studies (n = 8,816 that included 2,758 individuals from the Diabetes Genetics Initiative specific to the current paper as well as 1,874 individuals from the FUSION study of type 2 diabetes and 4,184 individuals from the SardiNIA study of aging-associated variables reported in a companion paper in this issue4) and targeted replication association analyses in up to 18,554 independent participants, we show that common SNPs at 18 loci are reproducibly associated with concentrations of low-density lipoprotein (LDL) cholesterol, high-density lipoprotein (HDL) cholesterol, and/or triglycerides. Six of these loci are new (P < 5 × 10−8 for each new locus). Of the six newly identified chromosomal regions, two were associated with LDL cholesterol (1p13 near CELSR2, PSRC1 and SORT1 and 19p13 near CILP2 and PBX4), one with HDL cholesterol (1q42 in GALNT2) and five with triglycerides (7q11 near TBL2 and MLXIPL, 8q24 near TRIB1, 1q42 in GALNT2, 19p13 near CILP2 and PBX4 and 1p31 near ANGPTL3). At 1p13, the LDL-associated SNP was also strongly correlated with CELSR2, PSRC1, and SORT1 transcript levels in human liver, and a proxy for this SNP was recently shown to affect risk for coronary artery disease5. Understanding the molecular, cellular and clinical consequences of the newly identified loci may inform therapy and clinical care.'\n",
        "\n",
        "]\n",
        "\n"
      ],
      "metadata": {
        "id": "gLax08X1Vn_x"
      },
      "execution_count": null,
      "outputs": []
    },
    {
      "cell_type": "code",
      "source": [
        "print(len(sentences))"
      ],
      "metadata": {
        "colab": {
          "base_uri": "https://localhost:8080/"
        },
        "id": "zUSbtzMQbtib",
        "outputId": "c10a317c-d0be-466a-b5fd-87fdf884681f"
      },
      "execution_count": null,
      "outputs": [
        {
          "output_type": "stream",
          "name": "stdout",
          "text": [
            "42\n"
          ]
        }
      ]
    },
    {
      "cell_type": "markdown",
      "source": [
        "# SNP summary to dataset"
      ],
      "metadata": {
        "id": "J7pbizBLeEbS"
      }
    },
    {
      "cell_type": "code",
      "source": [
        "cands = ['rs7105934 is a single nucleotide polymorphism (SNP) in the human genome, which is located on chromosome 6 at position 32.3. It is also known as CYP2C19*2 and is found in the CYP2C19 gene. The CYP2C19 gene codes for a liver enzyme involved in the metabolism of many drugs, including several commonly used medications such as proton pump inhibitors, antidepressants, and antiplatelet agents. The rs7105934 SNP is a genetic variation that results in decreased enzymatic activity of the CYP2C19 protein, which can affect the way the body processes and responds to these medications. Individuals who carry two copies of the rs7105934 variant (homozygous) have significantly reduced CYP2C19 enzyme activity, whereas those with one copy (heterozygous) have intermediate enzyme activity. Carriers of the rs7105934 variant may require lower or higher doses of certain medications, or may need to avoid certain drugs altogether, to achieve optimal therapeutic outcomes and minimize the risk of adverse effects.']*len(sentences)\n",
        "refs = sentences\n",
        "P, R, F1 = score(cands, refs, lang=\"en\", verbose=True)"
      ],
      "metadata": {
        "colab": {
          "base_uri": "https://localhost:8080/",
          "height": 357,
          "referenced_widgets": [
            "aa15d9ebfde94ee6a9938a4e55442134",
            "79b2ec4d392046de95bc78da2fde6b11",
            "6c37ff0283c04dcfb0139128269498f6",
            "66aded6fef5b4754af4d83c00c45013a",
            "85c0a872c1074da0ac6b4036544574d1",
            "7a626697af514d43b55492fdac41211d",
            "ff3c875948124e09824983026b1b8778",
            "4e472bba7fcf408ead0e4ffeafa10811",
            "57a264ec17584a718509164f2614008b",
            "0a253e2040424afb80820d485340b3b5",
            "e8c6bd81895a4c6986617ac13b6d64d2",
            "96b6fe14cf7a467f94701dec37e14167",
            "cfa04ddb62ca434b90fb1fc923a1c3ee",
            "e7e753c4c4914acea21003a691c9ca21",
            "c5a5811c3e8b490b94c4291cfeb54581",
            "a91087b92aed4f4d88b7e2187fbb063d",
            "8ac243282fa14c248976f2c9e285b827",
            "a4ba5d6bec9346d786494be1c3e50ede",
            "fa86057cc5ba4bdabc469f27ce366971",
            "f3c6522b45ae415daa78a1c0c551b5cc",
            "54834e8c33e14cb798fb8badb19107bf",
            "97e2b14cae1b444f8232889dee290779",
            "3ff988da54d5497d9d1abbcaeade1f41",
            "ef0d044f297a4af9b3b49a35d9891522",
            "9af201fed9404c3fa9491942ded5decc",
            "1050761af1f74f25b37fc9e5421fdbd7",
            "e3f4c1208a0340c3b6bd6e0f8985026d",
            "0f2f7bc23caa4a24aac5010df7e71d3e",
            "f9022c3739714308b07ae50aad13bc85",
            "43107a33bb8e409dab1654e1d31a182e",
            "be1f401044144426916a02789260b8b4",
            "327305f893c241b5945c2b1d41ff1249",
            "d9d73a58f3f14e6b9710ba730d66e7a3",
            "35f47fa4dfb8454a92c0961dcef180ac",
            "b4782b6b882143738c97010b5e862b01",
            "c3fa4eba680b42abace1eecfd577c80e",
            "a9e175bc8025436b9e15ee19d6a0ee40",
            "b04a58801a0142b5acaf362abca1b4ed",
            "d2bc4dc93529407d9d4547a5614ad31c",
            "267262b42fda4a46a134e461e4ada0b2",
            "fed0fda6e2184f7ba00621002a781a8e",
            "9bb1c8197ae24245ba969b8539bb4f66",
            "0ad27987029445f19aeb5f135a2142be",
            "0c6807acaebf46339a34dbc8abbb4c6b",
            "dc3706d6048a410dbe5cf25288db27ee",
            "3ef686be8af94e4face22e25da14975a",
            "fce5665b6a944ddc84032f9f832139fb",
            "889140444de34e819510195f2827e5f1",
            "a11cef88098945bb801d2990803d5d6b",
            "fffb6e6e517b40848945c153f7529eb8",
            "2b6a1f0ce70040d0a8d054b2d195e813",
            "4c89bfc699b647929c40770e955044b2",
            "06f69d488bf343b0980c1d6112b15a69",
            "73711bd2b95d42db958d22530421892f",
            "133788757a0445279ec8481d2ebde392",
            "0136a2f8363646e5ac94c496caf9cc95",
            "e6bbe02935ef46119b4661234d6ab990",
            "ba324084edbb4833a34bb11beec4b460",
            "1096c8d841054682a60a97b5b64242f8",
            "1702fb93e9ea4d38ba326f8f732a2704",
            "e9f9df35f6f04c7e929597532db48fa2",
            "e0aeebaed43344f1995f554d4f915343",
            "3ee59adf480b4e8681e093c9ccc99efc",
            "7cee6f16191a46d4bce54d708b4f085a",
            "0fdd32ce543e4618b8d05c6f7faabd0e",
            "a57d13643dc14c8a857e78bad8458551"
          ]
        },
        "id": "QqqUJcskfUBC",
        "outputId": "eaa93f96-86fb-4de1-9aa2-6c85c97c158c"
      },
      "execution_count": null,
      "outputs": [
        {
          "output_type": "display_data",
          "data": {
            "text/plain": [
              "Downloading (…)lve/main/config.json:   0%|          | 0.00/482 [00:00<?, ?B/s]"
            ],
            "application/vnd.jupyter.widget-view+json": {
              "version_major": 2,
              "version_minor": 0,
              "model_id": "aa15d9ebfde94ee6a9938a4e55442134"
            }
          },
          "metadata": {}
        },
        {
          "output_type": "display_data",
          "data": {
            "text/plain": [
              "Downloading (…)olve/main/vocab.json:   0%|          | 0.00/899k [00:00<?, ?B/s]"
            ],
            "application/vnd.jupyter.widget-view+json": {
              "version_major": 2,
              "version_minor": 0,
              "model_id": "96b6fe14cf7a467f94701dec37e14167"
            }
          },
          "metadata": {}
        },
        {
          "output_type": "display_data",
          "data": {
            "text/plain": [
              "Downloading (…)olve/main/merges.txt:   0%|          | 0.00/456k [00:00<?, ?B/s]"
            ],
            "application/vnd.jupyter.widget-view+json": {
              "version_major": 2,
              "version_minor": 0,
              "model_id": "3ff988da54d5497d9d1abbcaeade1f41"
            }
          },
          "metadata": {}
        },
        {
          "output_type": "display_data",
          "data": {
            "text/plain": [
              "Downloading pytorch_model.bin:   0%|          | 0.00/1.43G [00:00<?, ?B/s]"
            ],
            "application/vnd.jupyter.widget-view+json": {
              "version_major": 2,
              "version_minor": 0,
              "model_id": "35f47fa4dfb8454a92c0961dcef180ac"
            }
          },
          "metadata": {}
        },
        {
          "output_type": "stream",
          "name": "stderr",
          "text": [
            "Some weights of the model checkpoint at roberta-large were not used when initializing RobertaModel: ['lm_head.dense.bias', 'lm_head.layer_norm.bias', 'lm_head.layer_norm.weight', 'lm_head.decoder.weight', 'lm_head.dense.weight', 'lm_head.bias']\n",
            "- This IS expected if you are initializing RobertaModel from the checkpoint of a model trained on another task or with another architecture (e.g. initializing a BertForSequenceClassification model from a BertForPreTraining model).\n",
            "- This IS NOT expected if you are initializing RobertaModel from the checkpoint of a model that you expect to be exactly identical (initializing a BertForSequenceClassification model from a BertForSequenceClassification model).\n"
          ]
        },
        {
          "output_type": "stream",
          "name": "stdout",
          "text": [
            "calculating scores...\n",
            "computing bert embedding.\n"
          ]
        },
        {
          "output_type": "display_data",
          "data": {
            "text/plain": [
              "  0%|          | 0/1 [00:00<?, ?it/s]"
            ],
            "application/vnd.jupyter.widget-view+json": {
              "version_major": 2,
              "version_minor": 0,
              "model_id": "dc3706d6048a410dbe5cf25288db27ee"
            }
          },
          "metadata": {}
        },
        {
          "output_type": "stream",
          "name": "stdout",
          "text": [
            "computing greedy matching.\n"
          ]
        },
        {
          "output_type": "display_data",
          "data": {
            "text/plain": [
              "  0%|          | 0/1 [00:00<?, ?it/s]"
            ],
            "application/vnd.jupyter.widget-view+json": {
              "version_major": 2,
              "version_minor": 0,
              "model_id": "0136a2f8363646e5ac94c496caf9cc95"
            }
          },
          "metadata": {}
        },
        {
          "output_type": "stream",
          "name": "stdout",
          "text": [
            "done in 6.42 seconds, 6.54 sentences/sec\n"
          ]
        }
      ]
    },
    {
      "cell_type": "code",
      "source": [
        "F1"
      ],
      "metadata": {
        "colab": {
          "base_uri": "https://localhost:8080/"
        },
        "id": "mnnepbTxhUoM",
        "outputId": "e9fd58dc-108b-4508-c633-29336f019b0b"
      },
      "execution_count": null,
      "outputs": [
        {
          "output_type": "execute_result",
          "data": {
            "text/plain": [
              "tensor([0.8106, 0.8125, 0.7957, 0.8014, 0.8018, 0.7993, 0.7993, 0.8062, 0.8002,\n",
              "        0.7908, 0.7800, 0.7916, 0.7850, 0.7936, 0.7869, 0.7832, 0.7843, 0.7881,\n",
              "        0.7805, 0.7905, 0.7875, 0.7892, 0.7950, 0.7904, 0.7953, 0.7906, 0.7841,\n",
              "        0.7776, 0.7763, 0.7832, 0.7716, 0.7769, 0.7745, 0.7898, 0.7796, 0.7754,\n",
              "        0.7825, 0.7817, 0.7791, 0.8092, 0.7904, 0.7947])"
            ]
          },
          "metadata": {},
          "execution_count": 7
        }
      ]
    },
    {
      "cell_type": "code",
      "source": [
        "import matplotlib.pyplot as plt\n",
        "plt.hist(F1, bins=42)\n",
        "plt.show()"
      ],
      "metadata": {
        "colab": {
          "base_uri": "https://localhost:8080/",
          "height": 430
        },
        "id": "xa8wu7uShZre",
        "outputId": "ab79b775-9be2-4ef2-da8f-d54c03b789be"
      },
      "execution_count": null,
      "outputs": [
        {
          "output_type": "display_data",
          "data": {
            "text/plain": [
              "<Figure size 640x480 with 1 Axes>"
            ],
            "image/png": "[encoded data removed]"
          },
          "metadata": {}
        }
      ]
    },
    {
      "cell_type": "code",
      "source": [
        "P"
      ],
      "metadata": {
        "colab": {
          "base_uri": "https://localhost:8080/"
        },
        "id": "wiju0R3yeLj1",
        "outputId": "a6aed7d7-11fb-401e-8651-afcb6348598e"
      },
      "execution_count": null,
      "outputs": [
        {
          "output_type": "execute_result",
          "data": {
            "text/plain": [
              "tensor([0.8144, 0.8212, 0.8072, 0.8135, 0.8185, 0.8101, 0.8164, 0.8191, 0.8149,\n",
              "        0.8077, 0.7692, 0.7764, 0.7783, 0.7747, 0.7819, 0.7765, 0.7769, 0.7705,\n",
              "        0.7800, 0.7788, 0.7804, 0.7811, 0.7882, 0.7822, 0.7865, 0.7891, 0.7880,\n",
              "        0.7781, 0.7783, 0.7832, 0.7755, 0.7788, 0.7760, 0.7810, 0.7816, 0.7813,\n",
              "        0.7845, 0.7806, 0.7728, 0.8110, 0.7992, 0.8068])"
            ]
          },
          "metadata": {},
          "execution_count": 13
        }
      ]
    },
    {
      "cell_type": "code",
      "source": [
        "R"
      ],
      "metadata": {
        "colab": {
          "base_uri": "https://localhost:8080/"
        },
        "id": "ZZ1qwsYyeOQK",
        "outputId": "5cb373bd-e408-4c38-e5e9-d6971cb6b599"
      },
      "execution_count": null,
      "outputs": [
        {
          "output_type": "execute_result",
          "data": {
            "text/plain": [
              "tensor([0.8069, 0.8041, 0.7845, 0.7896, 0.7857, 0.7887, 0.7829, 0.7937, 0.7860,\n",
              "        0.7746, 0.7910, 0.8074, 0.7918, 0.8133, 0.7919, 0.7900, 0.7917, 0.8065,\n",
              "        0.7810, 0.8024, 0.7946, 0.7974, 0.8019, 0.7987, 0.8044, 0.7920, 0.7804,\n",
              "        0.7772, 0.7744, 0.7832, 0.7677, 0.7751, 0.7730, 0.7988, 0.7776, 0.7697,\n",
              "        0.7805, 0.7828, 0.7854, 0.8075, 0.7818, 0.7829])"
            ]
          },
          "metadata": {},
          "execution_count": 14
        }
      ]
    },
    {
      "cell_type": "markdown",
      "source": [
        "# CHATGPT Summary"
      ],
      "metadata": {
        "id": "WYDhdomJepuT"
      }
    },
    {
      "cell_type": "code",
      "source": [
        "cand2 = [\"The study titled Grampp Multiple renal cancer susceptibility polymorphisms modulate the HIF pathway investigates the impact of genetic variations associated with renal cancer susceptibility on the hypoxia-inducible factor (HIF) pathway. The researchers focus on a set of polymorphisms known as the Grampp Multiple, which have been linked to an increased risk of renal cancer. The HIF pathway plays a crucial role in responding to low oxygen levels in cells and is frequently dysregulated in renal cancer. By analyzing the Grampp Multiple polymorphisms, the researchers aimed to understand how these genetic variations might influence HIF pathway activity and contribute to renal cancer development.The study revealed that certain variants within the Grampp Multiple are associated with altered HIF pathway function. These genetic variations can affect the stability and activity of HIF proteins, potentially leading to abnormal HIF signaling. The dysregulation of the HIF pathway due to these polymorphisms may contribute to the initiation and progression of renal cancer.Overall, the study suggests that the Grampp Multiple polymorphisms influence renal cancer susceptibility by modulating the HIF pathway. Understanding the impact of these genetic variations on HIF signaling could provide insights into the underlying mechanisms of renal cancer development and potentially aid in the development of targeted therapies or risk assessment strategies for individuals at higher risk of this disease.\"]*len(sentences)\n",
        "P1, R1, F11 = score(cand2, refs, lang=\"en\", verbose=True)"
      ],
      "metadata": {
        "colab": {
          "base_uri": "https://localhost:8080/",
          "height": 229,
          "referenced_widgets": [
            "d21db61933fb450dabc4a99ef321d9bd",
            "d0843e7437ab4d24a16628decd06816f",
            "91a2e4c04b6d4f1e8485ae14418d4e0b",
            "200f71ad8b0f4c4ca1b5d0193f95969b",
            "6a65cc3171934042a353eb465b7b5a8d",
            "0dd71d4cbadd4679936e461b68372b40",
            "67907b85895942c8a4451fc1d7a9e63d",
            "c889db5d83f14b4b9e9c302a96ee7fd5",
            "508ae91a6a0d49b5b4b087e6f88f6688",
            "102f80490335499b81abd5d77071d8d2",
            "b9710775ca0645898ba0cd0a403d46a9",
            "00cb242d2cfb43f5ab2d7641e57ef357",
            "25975af2114440009935a060df1fdb5e",
            "3e86aadb927342548109ec522672f376",
            "75e5b97f98f440cbb0d0d6cb66152f39",
            "7c6751133dfd4eaba1fda081ca999bdd",
            "ec7c234386f547d792e6e9f96505bd62",
            "2ca167ccedb846ac87272d1f314f1d67",
            "848526f37a0643d6aa579f754e8e4ac2",
            "ad2b0a8f9e1a43e492ddb39026482a87",
            "517efe4cca7a4452ba1af06f7c5b3263",
            "912b8e0fee0c426f83f70f6df22a3b08"
          ]
        },
        "id": "76OUnTubebzb",
        "outputId": "969f4904-f09d-481f-ef36-b5c663bc845a"
      },
      "execution_count": null,
      "outputs": [
        {
          "output_type": "stream",
          "name": "stderr",
          "text": [
            "Some weights of the model checkpoint at roberta-large were not used when initializing RobertaModel: ['lm_head.dense.bias', 'lm_head.layer_norm.bias', 'lm_head.layer_norm.weight', 'lm_head.decoder.weight', 'lm_head.dense.weight', 'lm_head.bias']\n",
            "- This IS expected if you are initializing RobertaModel from the checkpoint of a model trained on another task or with another architecture (e.g. initializing a BertForSequenceClassification model from a BertForPreTraining model).\n",
            "- This IS NOT expected if you are initializing RobertaModel from the checkpoint of a model that you expect to be exactly identical (initializing a BertForSequenceClassification model from a BertForSequenceClassification model).\n"
          ]
        },
        {
          "output_type": "stream",
          "name": "stdout",
          "text": [
            "calculating scores...\n",
            "computing bert embedding.\n"
          ]
        },
        {
          "output_type": "display_data",
          "data": {
            "text/plain": [
              "  0%|          | 0/1 [00:00<?, ?it/s]"
            ],
            "application/vnd.jupyter.widget-view+json": {
              "version_major": 2,
              "version_minor": 0,
              "model_id": "d21db61933fb450dabc4a99ef321d9bd"
            }
          },
          "metadata": {}
        },
        {
          "output_type": "stream",
          "name": "stdout",
          "text": [
            "computing greedy matching.\n"
          ]
        },
        {
          "output_type": "display_data",
          "data": {
            "text/plain": [
              "  0%|          | 0/1 [00:00<?, ?it/s]"
            ],
            "application/vnd.jupyter.widget-view+json": {
              "version_major": 2,
              "version_minor": 0,
              "model_id": "00cb242d2cfb43f5ab2d7641e57ef357"
            }
          },
          "metadata": {}
        },
        {
          "output_type": "stream",
          "name": "stdout",
          "text": [
            "done in 3.58 seconds, 11.72 sentences/sec\n"
          ]
        }
      ]
    },
    {
      "cell_type": "code",
      "source": [
        "P1"
      ],
      "metadata": {
        "colab": {
          "base_uri": "https://localhost:8080/"
        },
        "id": "pwU6HDf4ebjU",
        "outputId": "9704caae-c425-47c8-b7fb-f10d7b2a9bef"
      },
      "execution_count": null,
      "outputs": [
        {
          "output_type": "execute_result",
          "data": {
            "text/plain": [
              "tensor([0.8584, 0.8443, 0.8347, 0.8281, 0.8294, 0.8431, 0.8266, 0.8394, 0.8361,\n",
              "        0.8193, 0.7774, 0.7932, 0.7955, 0.7887, 0.8016, 0.7893, 0.7937, 0.7845,\n",
              "        0.7948, 0.7948, 0.8013, 0.8047, 0.8067, 0.8006, 0.8064, 0.8090, 0.8021,\n",
              "        0.7947, 0.7986, 0.7998, 0.7963, 0.7976, 0.7936, 0.7981, 0.7953, 0.7966,\n",
              "        0.8033, 0.7986, 0.7867, 0.8278, 0.8099, 0.8239])"
            ]
          },
          "metadata": {},
          "execution_count": 21
        }
      ]
    },
    {
      "cell_type": "code",
      "source": [
        "R1"
      ],
      "metadata": {
        "colab": {
          "base_uri": "https://localhost:8080/"
        },
        "id": "4Pfn7lKyebTY",
        "outputId": "bf77f1fd-783d-42fd-fcbb-34c767a5c476"
      },
      "execution_count": null,
      "outputs": [
        {
          "output_type": "execute_result",
          "data": {
            "text/plain": [
              "tensor([0.8345, 0.8100, 0.7883, 0.7979, 0.7812, 0.8018, 0.7822, 0.7937, 0.7887,\n",
              "        0.7607, 0.7923, 0.8159, 0.8017, 0.8217, 0.8055, 0.7972, 0.7999, 0.8108,\n",
              "        0.7903, 0.8095, 0.8017, 0.8090, 0.8104, 0.8024, 0.8123, 0.7987, 0.7876,\n",
              "        0.7863, 0.7864, 0.7894, 0.7764, 0.7850, 0.7821, 0.8049, 0.7865, 0.7766,\n",
              "        0.7886, 0.7925, 0.7922, 0.8068, 0.7833, 0.7838])"
            ]
          },
          "metadata": {},
          "execution_count": 22
        }
      ]
    },
    {
      "cell_type": "code",
      "source": [
        "F11"
      ],
      "metadata": {
        "colab": {
          "base_uri": "https://localhost:8080/"
        },
        "id": "Ra4D_KtVebDK",
        "outputId": "4d02bd4b-8968-487b-9d33-259a2ce43974"
      },
      "execution_count": null,
      "outputs": [
        {
          "output_type": "execute_result",
          "data": {
            "text/plain": [
              "tensor([0.8463, 0.8268, 0.8109, 0.8127, 0.8046, 0.8219, 0.8038, 0.8159, 0.8117,\n",
              "        0.7889, 0.7847, 0.8044, 0.7986, 0.8048, 0.8036, 0.7933, 0.7968, 0.7974,\n",
              "        0.7925, 0.8021, 0.8015, 0.8068, 0.8086, 0.8015, 0.8093, 0.8038, 0.7948,\n",
              "        0.7905, 0.7924, 0.7946, 0.7862, 0.7912, 0.7878, 0.8015, 0.7909, 0.7865,\n",
              "        0.7959, 0.7956, 0.7895, 0.8172, 0.7964, 0.8033])"
            ]
          },
          "metadata": {},
          "execution_count": 23
        }
      ]
    },
    {
      "cell_type": "markdown",
      "source": [
        "CHATGPT ABSRTACT"
      ],
      "metadata": {
        "id": "c5DFtSJ0fRbj"
      }
    },
    {
      "cell_type": "code",
      "source": [
        "cands3 = ['Renal cell carcinoma (RCC) is a common type of kidney cancer that is often associated with genetic predisposition. Recent studies have identified several genetic polymorphisms that are associated with an increased risk of RCC, including those in the Grampp gene. The Grampp gene encodes a protein that is involved in the regulation of the hypoxia-inducible factor (HIF) pathway, which plays a critical role in the development and progression of RCC. In this study, we investigated the functional significance of Grampp polymorphisms in modulating the HIF pathway and their potential role in RCC susceptibility. We found that several Grampp polymorphisms were associated with altered HIF pathway activity, as measured by changes in HIF target gene expression and protein levels. Furthermore, we observed that these polymorphisms were also associated with an increased risk of RCC, suggesting that they may contribute to RCC susceptibility by modulating the HIF pathway. Our findings provide new insights into the genetic basis of RCC and may have implications for the development of novel therapeutic strategies targeting the HIF pathway in RCC.']*len(sentences)\n",
        "P2, R2, F12 = score(cands3, refs, lang=\"en\", verbose=True)"
      ],
      "metadata": {
        "colab": {
          "base_uri": "https://localhost:8080/",
          "height": 229,
          "referenced_widgets": [
            "f9ceedbfa9124299ae374945fe6535cd",
            "8d884e9f0034417a990cd829259d2220",
            "f5e6b2cb9dc74d3f9ad2f1092f871098",
            "73b603edae0348ffb96f4a6102e19e8c",
            "96a731083767495fb24c4fa0141d2492",
            "17d9d10df6294081b57e5ea27d1b5ee0",
            "a553108f26bb4419b26461b63707b38e",
            "dc0a183e7c3d446fa4bf1616a0386bcb",
            "4a296a3a50844a2b8bdca8755506f471",
            "9d58eba6857042e594be22dbf58d5a63",
            "2629f6002b6e41879ab96a1a0fdd8d77",
            "a9f00e8c63b840658581c780ee1a4532",
            "61d6356cc0da44e2b0feff2eb0d418dc",
            "d39963d77c6541da974e79e28ab56163",
            "1b0584b3fc6d4d0a8a1cfb2cac49e0bd",
            "fef6c88dd4a94dde9c0eaf5fb86d778c",
            "6a276ccd21884a408e00259a7784dbed",
            "0209ad50d73441b687b1e5957814cdd4",
            "4aec911598f349f5b7dec975df33c3f5",
            "d9466e2793434ec1a0155ab13e14a6da",
            "0898deb518504ba4a5fd656eb238ae3b",
            "dad2dbfb5cbd43cdae81244e134c8749"
          ]
        },
        "id": "k5MD1F24eaRC",
        "outputId": "6f7a6594-1851-499d-cafd-6e9bb5714d0a"
      },
      "execution_count": null,
      "outputs": [
        {
          "output_type": "stream",
          "name": "stderr",
          "text": [
            "Some weights of the model checkpoint at roberta-large were not used when initializing RobertaModel: ['lm_head.dense.bias', 'lm_head.layer_norm.bias', 'lm_head.layer_norm.weight', 'lm_head.decoder.weight', 'lm_head.dense.weight', 'lm_head.bias']\n",
            "- This IS expected if you are initializing RobertaModel from the checkpoint of a model trained on another task or with another architecture (e.g. initializing a BertForSequenceClassification model from a BertForPreTraining model).\n",
            "- This IS NOT expected if you are initializing RobertaModel from the checkpoint of a model that you expect to be exactly identical (initializing a BertForSequenceClassification model from a BertForSequenceClassification model).\n"
          ]
        },
        {
          "output_type": "stream",
          "name": "stdout",
          "text": [
            "calculating scores...\n",
            "computing bert embedding.\n"
          ]
        },
        {
          "output_type": "display_data",
          "data": {
            "text/plain": [
              "  0%|          | 0/1 [00:00<?, ?it/s]"
            ],
            "application/vnd.jupyter.widget-view+json": {
              "version_major": 2,
              "version_minor": 0,
              "model_id": "f9ceedbfa9124299ae374945fe6535cd"
            }
          },
          "metadata": {}
        },
        {
          "output_type": "stream",
          "name": "stdout",
          "text": [
            "computing greedy matching.\n"
          ]
        },
        {
          "output_type": "display_data",
          "data": {
            "text/plain": [
              "  0%|          | 0/1 [00:00<?, ?it/s]"
            ],
            "application/vnd.jupyter.widget-view+json": {
              "version_major": 2,
              "version_minor": 0,
              "model_id": "a9f00e8c63b840658581c780ee1a4532"
            }
          },
          "metadata": {}
        },
        {
          "output_type": "stream",
          "name": "stdout",
          "text": [
            "done in 3.44 seconds, 12.19 sentences/sec\n"
          ]
        }
      ]
    },
    {
      "cell_type": "code",
      "source": [
        "P2"
      ],
      "metadata": {
        "colab": {
          "base_uri": "https://localhost:8080/"
        },
        "id": "0GtdfWSAeaBW",
        "outputId": "66235a7a-9322-469d-e6ef-bd06724ba01c"
      },
      "execution_count": null,
      "outputs": [
        {
          "output_type": "execute_result",
          "data": {
            "text/plain": [
              "tensor([0.8705, 0.8678, 0.8501, 0.8348, 0.8484, 0.8571, 0.8534, 0.8614, 0.8562,\n",
              "        0.8249, 0.7805, 0.7974, 0.7980, 0.7945, 0.8055, 0.7958, 0.7963, 0.7906,\n",
              "        0.7980, 0.7974, 0.8039, 0.8115, 0.8144, 0.8080, 0.8132, 0.8123, 0.8055,\n",
              "        0.7977, 0.8049, 0.8087, 0.8020, 0.8038, 0.7948, 0.8065, 0.8016, 0.8035,\n",
              "        0.8110, 0.8058, 0.7929, 0.8411, 0.8200, 0.8308])"
            ]
          },
          "metadata": {},
          "execution_count": 33
        }
      ]
    },
    {
      "cell_type": "code",
      "source": [
        "R2"
      ],
      "metadata": {
        "colab": {
          "base_uri": "https://localhost:8080/"
        },
        "id": "B837rXbEeZyn",
        "outputId": "9ce69000-8f58-4134-8e5d-651006b72c05"
      },
      "execution_count": null,
      "outputs": [
        {
          "output_type": "execute_result",
          "data": {
            "text/plain": [
              "tensor([0.8392, 0.8204, 0.7949, 0.7990, 0.7899, 0.8069, 0.7985, 0.8069, 0.7960,\n",
              "        0.7645, 0.7935, 0.8170, 0.8026, 0.8231, 0.8058, 0.7997, 0.8002, 0.8152,\n",
              "        0.7928, 0.8122, 0.8024, 0.8140, 0.8150, 0.8063, 0.8179, 0.7996, 0.7867,\n",
              "        0.7827, 0.7849, 0.7900, 0.7764, 0.7848, 0.7787, 0.8085, 0.7846, 0.7773,\n",
              "        0.7913, 0.7920, 0.7919, 0.8112, 0.7884, 0.7880])"
            ]
          },
          "metadata": {},
          "execution_count": 34
        }
      ]
    },
    {
      "cell_type": "code",
      "source": [
        "F12"
      ],
      "metadata": {
        "colab": {
          "base_uri": "https://localhost:8080/"
        },
        "id": "vbDUX04teZlK",
        "outputId": "7e525d0b-549e-44f8-9836-75c4f2e18984"
      },
      "execution_count": null,
      "outputs": [
        {
          "output_type": "execute_result",
          "data": {
            "text/plain": [
              "tensor([0.8546, 0.8434, 0.8216, 0.8165, 0.8181, 0.8312, 0.8250, 0.8333, 0.8250,\n",
              "        0.7936, 0.7870, 0.8071, 0.8003, 0.8086, 0.8057, 0.7977, 0.7982, 0.8027,\n",
              "        0.7954, 0.8047, 0.8032, 0.8127, 0.8147, 0.8071, 0.8156, 0.8059, 0.7960,\n",
              "        0.7901, 0.7948, 0.7992, 0.7890, 0.7942, 0.7867, 0.8075, 0.7930, 0.7902,\n",
              "        0.8010, 0.7988, 0.7924, 0.8259, 0.8039, 0.8088])"
            ]
          },
          "metadata": {},
          "execution_count": 35
        }
      ]
    },
    {
      "cell_type": "code",
      "source": [
        "ar = P\n",
        "ar1 = P1\n",
        "ar3 = P2\n",
        "#plt.xlim(-1.5, 1.5)\n",
        "#plt.hold(True)\n",
        "#pp.plot()\n",
        "plt.figure().set_figwidth(10)\n",
        "plt.xlim(0.6, 1)\n",
        "plt.plot(ar, len(ar) * [0], \"x\",label = 'chatgpt summary vs dataset')\n",
        "plt.plot(ar3, len(ar) * [0], \"x\",color = \"green\",label = 'chatgptAbstract vs dataset')\n",
        "plt.plot(ar1, len(ar) * [0] ,'x',color = 'red',label = 'SNP SUMMARY vs dataset')\n",
        "plt.gca().spines['bottom'].set_position(('data',0))\n",
        "plt.gca().spines['top'].set_color('none')\n",
        "plt.gca().spines['right'].set_color('none')\n",
        "plt.gca().spines['left'].set_color('none')\n",
        "plt.gca().set_yticks([])\n",
        "plt.yticks(color='w')\n",
        "plt.title(\"BERTScore PRECISION \",weight='bold')\n",
        "plt.legend()\n",
        "plt.show()\n"
      ],
      "metadata": {
        "id": "UO7uzJjeeZVO",
        "colab": {
          "base_uri": "https://localhost:8080/",
          "height": 428
        },
        "outputId": "3f32e7de-3ff6-4267-e4ea-beb7a917f896"
      },
      "execution_count": 59,
      "outputs": [
        {
          "output_type": "display_data",
          "data": {
            "text/plain": [
              "<Figure size 1000x480 with 1 Axes>"
            ],
            "image/png": "[encoded data removed]"
          },
          "metadata": {}
        }
      ]
    },
    {
      "cell_type": "code",
      "source": [
        "ar = R\n",
        "ar1 = R1\n",
        "ar3 = R2\n",
        "#plt.xlim(-1.5, 1.5)\n",
        "#plt.hold(True)\n",
        "#pp.plot()\n",
        "plt.figure().set_figwidth(10)\n",
        "plt.xlim(0.6, 1)\n",
        "plt.plot(ar, len(ar) * [0], \"x\",label = 'chatgpt summary vs dataset')\n",
        "plt.plot(ar3, len(ar) * [0], \"x\",color = \"green\",label = 'chatgptAbstract vs dataset')\n",
        "plt.plot(ar1, len(ar) * [0] ,'x',color = 'red',label = 'SNP SUMMARY vs dataset')\n",
        "plt.gca().spines['bottom'].set_position(('data',0))\n",
        "plt.gca().spines['top'].set_color('none')\n",
        "plt.gca().spines['right'].set_color('none')\n",
        "plt.gca().spines['left'].set_color('none')\n",
        "plt.gca().set_yticks([])\n",
        "plt.yticks(color='w')\n",
        "plt.title(\"BERTScore RECALL \",weight='bold')\n",
        "plt.legend()\n",
        "plt.show()"
      ],
      "metadata": {
        "id": "DRoQ3ZJ0gAG_",
        "colab": {
          "base_uri": "https://localhost:8080/",
          "height": 428
        },
        "outputId": "75cfadb3-2622-4768-e4fb-7aec98199922"
      },
      "execution_count": 60,
      "outputs": [
        {
          "output_type": "display_data",
          "data": {
            "text/plain": [
              "<Figure size 1000x480 with 1 Axes>"
            ],
            "image/png": "[encoded data removed]"
          },
          "metadata": {}
        }
      ]
    },
    {
      "cell_type": "code",
      "source": [
        "ar = F1\n",
        "ar1 = F11\n",
        "ar3 = F12\n",
        "#plt.xlim(-1.5, 1.5)\n",
        "#plt.hold(True)\n",
        "#pp.plot()\n",
        "plt.figure().set_figwidth(10)\n",
        "plt.xlim(0.75, 0.9)\n",
        "plt.plot(ar, len(ar) * [0], \"x\",label = 'chatgpt summary vs dataset')\n",
        "plt.plot(ar3, len(ar) * [0], \"x\",color = \"green\",label = 'chatgptAbstract vs dataset')\n",
        "plt.plot(ar1, len(ar) * [0] ,'x',color = 'red',label = 'SNP SUMMARY vs dataset')\n",
        "plt.gca().spines['bottom'].set_position(('data',0))\n",
        "plt.gca().spines['top'].set_color('none')\n",
        "plt.gca().spines['right'].set_color('none')\n",
        "plt.gca().spines['left'].set_color('none')\n",
        "plt.gca().set_yticks([])\n",
        "plt.yticks(color='w')\n",
        "plt.title(\"BERTScore F1 Score \",weight='bold')\n",
        "plt.legend()\n",
        "plt.show()"
      ],
      "metadata": {
        "id": "C7zz4ertf_pK",
        "colab": {
          "base_uri": "https://localhost:8080/",
          "height": 428
        },
        "outputId": "16bfd012-bcd9-4103-b7b3-84e1cd6dc5e8"
      },
      "execution_count": 64,
      "outputs": [
        {
          "output_type": "display_data",
          "data": {
            "text/plain": [
              "<Figure size 1000x480 with 1 Axes>"
            ],
            "image/png": "[encoded data removed]"
          },
          "metadata": {}
        }
      ]
    },
    {
      "cell_type": "code",
      "source": [],
      "metadata": {
        "id": "TfJFVacAf_TV"
      },
      "execution_count": null,
      "outputs": []
    },
    {
      "cell_type": "code",
      "source": [],
      "metadata": {
        "id": "qBf4s-OSf--j"
      },
      "execution_count": null,
      "outputs": []
    },
    {
      "cell_type": "code",
      "source": [],
      "metadata": {
        "id": "FAuaaRbIf-m2"
      },
      "execution_count": null,
      "outputs": []
    },
    {
      "cell_type": "markdown",
      "source": [
        "# ROUGE L"
      ],
      "metadata": {
        "id": "3gJaRYULcPyf"
      }
    },
    {
      "cell_type": "code",
      "source": [
        "pip install rouge-score"
      ],
      "metadata": {
        "colab": {
          "base_uri": "https://localhost:8080/"
        },
        "id": "JtO8e9oL0qtu",
        "outputId": "b5001242-af72-4f44-bbc7-6b5052d8ec4f"
      },
      "execution_count": null,
      "outputs": [
        {
          "output_type": "stream",
          "name": "stdout",
          "text": [
            "Looking in indexes: https://pypi.org/simple, https://us-python.pkg.dev/colab-wheels/public/simple/\n",
            "Collecting rouge-score\n",
            "  Downloading rouge_score-0.1.2.tar.gz (17 kB)\n",
            "  Preparing metadata (setup.py) ... \u001b[?25l\u001b[?25hdone\n",
            "Requirement already satisfied: absl-py in /usr/local/lib/python3.10/dist-packages (from rouge-score) (1.4.0)\n",
            "Requirement already satisfied: nltk in /usr/local/lib/python3.10/dist-packages (from rouge-score) (3.8.1)\n",
            "Requirement already satisfied: numpy in /usr/local/lib/python3.10/dist-packages (from rouge-score) (1.22.4)\n",
            "Requirement already satisfied: six>=1.14.0 in /usr/local/lib/python3.10/dist-packages (from rouge-score) (1.16.0)\n",
            "Requirement already satisfied: click in /usr/local/lib/python3.10/dist-packages (from nltk->rouge-score) (8.1.3)\n",
            "Requirement already satisfied: joblib in /usr/local/lib/python3.10/dist-packages (from nltk->rouge-score) (1.2.0)\n",
            "Requirement already satisfied: regex>=2021.8.3 in /usr/local/lib/python3.10/dist-packages (from nltk->rouge-score) (2022.10.31)\n",
            "Requirement already satisfied: tqdm in /usr/local/lib/python3.10/dist-packages (from nltk->rouge-score) (4.65.0)\n",
            "Building wheels for collected packages: rouge-score\n",
            "  Building wheel for rouge-score (setup.py) ... \u001b[?25l\u001b[?25hdone\n",
            "  Created wheel for rouge-score: filename=rouge_score-0.1.2-py3-none-any.whl size=24934 sha256=cca4d5c272a02ccf4b414912bb5b475e455df84a67eeb68537ab0e1b6bf8996d\n",
            "  Stored in directory: /root/.cache/pip/wheels/5f/dd/89/461065a73be61a532ff8599a28e9beef17985c9e9c31e541b4\n",
            "Successfully built rouge-score\n",
            "Installing collected packages: rouge-score\n",
            "Successfully installed rouge-score-0.1.2\n"
          ]
        }
      ]
    },
    {
      "cell_type": "code",
      "source": [
        "!pip install rouge"
      ],
      "metadata": {
        "colab": {
          "base_uri": "https://localhost:8080/"
        },
        "id": "7unxIG1T09rD",
        "outputId": "99c32970-76d9-46c5-95da-7f65624debf2"
      },
      "execution_count": null,
      "outputs": [
        {
          "output_type": "stream",
          "name": "stdout",
          "text": [
            "Looking in indexes: https://pypi.org/simple, https://us-python.pkg.dev/colab-wheels/public/simple/\n",
            "Collecting rouge\n",
            "  Downloading rouge-1.0.1-py3-none-any.whl (13 kB)\n",
            "Requirement already satisfied: six in /usr/local/lib/python3.10/dist-packages (from rouge) (1.16.0)\n",
            "Installing collected packages: rouge\n",
            "Successfully installed rouge-1.0.1\n"
          ]
        }
      ]
    },
    {
      "cell_type": "markdown",
      "source": [
        "# Rouge L between CHATGPTsummary and dataset "
      ],
      "metadata": {
        "id": "Tx_f7UvylmLa"
      }
    },
    {
      "cell_type": "code",
      "source": [
        "from rouge import Rouge\n",
        "\n",
        "# Define the generated summary and reference summary\n",
        "candidate = cand2[0]\n",
        "reference = refs\n",
        "s1 = []\n",
        "# Create a Rouge object\n",
        "rouge = Rouge()\n",
        "for i in range(len(refs)):\n",
        "  # Compute ROUGE-L\n",
        "  scores = rouge.get_scores(candidate, reference[i], avg=True)\n",
        "  rouge_l = scores[\"rouge-l\"][\"f\"]\n",
        "  s1.append(rouge_l)\n",
        "# Print the ROUGE-L score\n",
        "print(\"ROUGE-L score:\", s1)\n"
      ],
      "metadata": {
        "colab": {
          "base_uri": "https://localhost:8080/"
        },
        "id": "6oPcTN29lJgf",
        "outputId": "f41b30b4-93fa-4fce-d351-db27098941bb"
      },
      "execution_count": 50,
      "outputs": [
        {
          "output_type": "stream",
          "name": "stdout",
          "text": [
            "ROUGE-L score: [0.21145373950125188, 0.17499999504201405, 0.14937758840653587, 0.17813764689078676, 0.17921146477306318, 0.19827585708717316, 0.17670682238673582, 0.18039215196801242, 0.17777777278261742, 0.13793102979096328, 0.08810572188010664, 0.1505376295565963, 0.1645021595180002, 0.18604650698553282, 0.1497797306906792, 0.1538461489157135, 0.13526569549721132, 0.11999999602755568, 0.10891088612047863, 0.1268292633127902, 0.14814814320107048, 0.12949639811060523, 0.1451612853957468, 0.1125541075699483, 0.12213739972117028, 0.12461058741510678, 0.09448818407681842, 0.08510637800488938, 0.12957746053338637, 0.13223140000785483, 0.11343283143078654, 0.09302325119413717, 0.11363635878816596, 0.10810810310973158, 0.1302325531405086, 0.13017751042312958, 0.0695652124049153, 0.12648220853442504, 0.11707316575181462, 0.18181817682745371, 0.14765100207175366, 0.14671814184344317]\n"
          ]
        }
      ]
    },
    {
      "cell_type": "markdown",
      "source": [
        "# Rouge L between CHATGPTabstract and dataset "
      ],
      "metadata": {
        "id": "nsH7jvPAlyYr"
      }
    },
    {
      "cell_type": "code",
      "source": [
        "# Define the generated summary and reference summary\n",
        "candidate = cands3[0]\n",
        "reference = refs\n",
        "s2 = []\n",
        "# Create a Rouge object\n",
        "rouge = Rouge()\n",
        "for i in range(len(refs)):\n",
        "  # Compute ROUGE-L\n",
        "  scores = rouge.get_scores(candidate, reference[i], avg=True)\n",
        "  rouge_l = scores[\"rouge-l\"][\"f\"]\n",
        "  s2.append(rouge_l)\n",
        "# Print the ROUGE-L score\n",
        "print(\"ROUGE-L score:\", s2)\n"
      ],
      "metadata": {
        "id": "vngHc2K00gIr",
        "colab": {
          "base_uri": "https://localhost:8080/"
        },
        "outputId": "1fdabab4-d0b5-477c-e3df-1d571c211afe"
      },
      "execution_count": 51,
      "outputs": [
        {
          "output_type": "stream",
          "name": "stdout",
          "text": [
            "ROUGE-L score: [0.2777777728206448, 0.2620087287282852, 0.19999999510926292, 0.22033897819448445, 0.24626865207730014, 0.22624433895538595, 0.2521008354918438, 0.2786885197836604, 0.2897196212035986, 0.1720430061951929, 0.12037036541323752, 0.15999999507200013, 0.15454544960495883, 0.1863353989630031, 0.14814814319101524, 0.19565216893431014, 0.14285713785714302, 0.14388488792712606, 0.12565444526520672, 0.12371133520671718, 0.16379309856866842, 0.19475654966067707, 0.20253164071925808, 0.1818181768776861, 0.15139441755083266, 0.15483870535359012, 0.14814814333519635, 0.12499999507812519, 0.1511627866231748, 0.14718614230093155, 0.1481481439285171, 0.14482758173222368, 0.1501976237122906, 0.18957345474090892, 0.13725489696847384, 0.12844036277492557, 0.10045661605971544, 0.12396693732941758, 0.1443298919077481, 0.2020201970207123, 0.167247382262259, 0.16935483392950065]\n"
          ]
        }
      ]
    },
    {
      "cell_type": "markdown",
      "source": [
        "#Rouge L between CHATGPTSNPsummary and dataset"
      ],
      "metadata": {
        "id": "XEViYkXpmGg-"
      }
    },
    {
      "cell_type": "code",
      "source": [
        "# Define the generated summary and reference summary\n",
        "candidate = cands[0]\n",
        "reference = refs\n",
        "s3 = []\n",
        "# Create a Rouge object\n",
        "rouge = Rouge()\n",
        "for i in range(len(refs)):\n",
        "  # Compute ROUGE-L\n",
        "  scores = rouge.get_scores(candidate, reference[i], avg=True)\n",
        "  rouge_l = scores[\"rouge-l\"][\"f\"]\n",
        "  s3.append(rouge_l)\n",
        "# Print the ROUGE-L score\n",
        "print(\"ROUGE-L score:\", s3)\n"
      ],
      "metadata": {
        "colab": {
          "base_uri": "https://localhost:8080/"
        },
        "id": "GgT7evbHlhhG",
        "outputId": "f9164379-5204-47a6-f0f4-f2452e15e030"
      },
      "execution_count": 52,
      "outputs": [
        {
          "output_type": "stream",
          "name": "stdout",
          "text": [
            "ROUGE-L score: [0.18666666167861742, 0.1596638605970625, 0.14225940928065, 0.14693877059025423, 0.1877256270275907, 0.12173912545897941, 0.16194331492730596, 0.1501976235773096, 0.15246636272114877, 0.11111110644121354, 0.1066666616786175, 0.09782608208943785, 0.15720523519612534, 0.14117646592318353, 0.1066666616786175, 0.11398963236489591, 0.14634145842427143, 0.10810810410244717, 0.10999999502450022, 0.1280788127486716, 0.12448132286358726, 0.1086956474262237, 0.10569105199517508, 0.14847161074197687, 0.10769230284881678, 0.11285266011851315, 0.13492063003432872, 0.09442059589161735, 0.11331444336733316, 0.12499999505868076, 0.1021020977406237, 0.09364548035391126, 0.1068702241754562, 0.12727272227644648, 0.14084506542264558, 0.11309523375442902, 0.07894736343990491, 0.10358565247916723, 0.1477832462462085, 0.12560385974001748, 0.12837837376209843, 0.14785991731896034]\n"
          ]
        }
      ]
    },
    {
      "cell_type": "code",
      "source": [
        "ar = s1\n",
        "ar1 = s2\n",
        "ar3 = s3\n",
        "#plt.xlim(-1.5, 1.5)\n",
        "#plt.hold(True)\n",
        "#pp.plot()\n",
        "plt.figure().set_figwidth(10)\n",
        "plt.xlim(0, 0.4)\n",
        "plt.plot(ar, len(ar) * [0], \"x\",label = 'chatgpt summary vs dataset')\n",
        "plt.plot(ar3, len(ar) * [0], \"x\",color = \"green\",label = 'chatgptAbstract vs dataset')\n",
        "plt.plot(ar1, len(ar) * [0] ,'x',color = 'red',label = 'SNP SUMMARY vs dataset')\n",
        "plt.gca().spines['bottom'].set_position(('data',0))\n",
        "plt.gca().spines['top'].set_color('none')\n",
        "plt.gca().spines['right'].set_color('none')\n",
        "plt.gca().spines['left'].set_color('none')\n",
        "plt.gca().set_yticks([])\n",
        "plt.yticks(color='w')\n",
        "plt.title(\"ROUGE L scores \",weight='bold')\n",
        "plt.legend()\n",
        "plt.show()\n"
      ],
      "metadata": {
        "colab": {
          "base_uri": "https://localhost:8080/",
          "height": 428
        },
        "id": "F2DF25ualhQU",
        "outputId": "ef0d2a9c-f023-4dc0-c029-c42ff5ae6bd1"
      },
      "execution_count": 55,
      "outputs": [
        {
          "output_type": "display_data",
          "data": {
            "text/plain": [
              "<Figure size 1000x480 with 1 Axes>"
            ],
            "image/png": "[encoded data removed]"
          },
          "metadata": {}
        }
      ]
    },
    {
      "cell_type": "code",
      "source": [],
      "metadata": {
        "id": "plG9m4i4lhFT"
      },
      "execution_count": null,
      "outputs": []
    },
    {
      "cell_type": "code",
      "source": [],
      "metadata": {
        "id": "iD3NFT-dlg62"
      },
      "execution_count": null,
      "outputs": []
    },
    {
      "cell_type": "code",
      "source": [],
      "metadata": {
        "id": "C80MfNIklgvJ"
      },
      "execution_count": null,
      "outputs": []
    },
    {
      "cell_type": "code",
      "source": [
        "import bert_score\n",
        "print(bert_score.__version__)\n",
        "import logging\n",
        "import transformers\n",
        "transformers.tokenization_utils.logger.setLevel(logging.ERROR)\n",
        "transformers.configuration_utils.logger.setLevel(logging.ERROR)\n",
        "transformers.modeling_utils.logger.setLevel(logging.ERROR)\n",
        "import matplotlib.pyplot as plt\n",
        "from matplotlib import rcParams\n",
        "\n",
        "rcParams[\"xtick.major.size\"] = 0\n",
        "rcParams[\"xtick.minor.size\"] = 0\n",
        "rcParams[\"ytick.major.size\"] = 0\n",
        "rcParams[\"ytick.minor.size\"] = 0\n",
        "\n",
        "rcParams[\"axes.labelsize\"] = \"large\"\n",
        "rcParams[\"axes.axisbelow\"] = True\n",
        "rcParams[\"axes.grid\"] = True\n",
        "\n",
        "from bert_score import score\n",
        "\n",
        "# with open(\"distilbart-cnn-12-3.txt\") as f:\n",
        "#     model = \"BART\"\n",
        "# with open(\"bart_large2.txt\") as f:\n",
        "#     model = \"RoBERTa\"\n",
        "# with open(\"hyps.txt\") as f:\n",
        "#     model = \"PEGASUS-CNN\"\n",
        "# with open(\"pegasus_reddit_short.txt\") as f:\n",
        "#     model = \"PEGASUS-reddit\"\"\n",
        "\n",
        "#with open(\"/content/1.txt\") as f:\n",
        "#    model = \"BART\"\n",
        "# with open(\"pegasus_cnn_long.txt\") as f:\n",
        "#     model = \"PEGASUS-CNN\"\n",
        "# with open(\"pegasus_reddit_long.txt\") as f:\n",
        "#     model = \"PEGASUS-reddit\"\n",
        "# with open(\"roberta_cnn_long.txt\") as f:\n",
        "#     model = \"RoBERTa\"\n",
        "\n",
        "    #cands = [line.strip() for line in f]\n",
        "\n",
        "# with open(\"refs_short.txt\") as f:\n",
        "#     data = \"short\"\n",
        "\n",
        "#with open(\"/content/2.txt\") as f:\n",
        "#    data = \"long\"\n",
        "\n",
        "    #refs = [line.strip() for line in f]\n",
        "\n",
        "#print(\"{} on reddit {}\".format(model, data))\n",
        "\n",
        "cands = [line.strip() for line in cands]\n",
        "print(cands[0])\n",
        "refs = [line.strip() for line in refs]\n",
        "cands = cands[:len(refs)]\n",
        "refs = refs[:len(cands)]\n",
        "\n",
        "\n",
        "\n",
        "\n",
        "\n",
        "\n",
        "P, R, F1 = score(cands, refs, lang='en', verbose=True)\n",
        "print([i for i in F1])\n",
        "print(f\"System level F1 mean: {F1.mean():.3f}\")\n",
        "print(f\"System level F1 standard deviation: {F1.std():.3f}\")\n",
        "print(f\"System level F1 max value: {F1.max():.3f}\")\n",
        "\n",
        "\n",
        "plt.hist(F1, bins=20)\n",
        "plt.xlabel(\"score\")\n",
        "plt.ylabel(\"counts\")\n",
        "plt.show()"
      ],
      "metadata": {
        "colab": {
          "base_uri": "https://localhost:8080/",
          "height": 715,
          "referenced_widgets": [
            "866248aa21f94f60b05160fbba6d35b9",
            "4900bfed30f544d68b744356b27f4fe2",
            "b6fbc4c79bd9442598650447286f9dcf",
            "c39e71f99c9a47b6bc39dbca5131e508",
            "7bd2a17f454f47869cf62a207598ee76",
            "f35a215039a94711bd0676aadcf36bc2",
            "9658d82d77424319b636cd529a87461b",
            "cc822eba6d4b488bbd28d5b67ff7988a",
            "960a03c1b53243e0ae6ab43fe9510fea",
            "93ff88269fd24de8b1e2d400d370afcc",
            "865c2e297e804edcad2c0aadbe77a746",
            "98942eee2d3946dcaeb9960af4fbf7c3",
            "2ff4e7206ef74958b817d98941fb56eb",
            "aed670ee74c4442fbef7e0dc33fdcaa8",
            "6659d0772cfd4725b1850da5fd5f6f07",
            "fa8f2a4f94f34977b3ec35e54f3a8cdf",
            "9a697e58cfd8473c81fd2fd29d02b90c",
            "f4101fef0c314d7c9d146d691793078c",
            "ac1968b121f64b67999ba0dc44a1bdb7",
            "ad7d1d1dcaec4b6b8ed4fd11b9f5555c",
            "4a24248e68224ed8bf95ebeaa7884e1c",
            "dd6171bf62714b46bbf6f0dc32449a8e"
          ]
        },
        "id": "88wjuCGViHdV",
        "outputId": "458084c0-aaca-4fe2-a181-bfadd5303343"
      },
      "execution_count": null,
      "outputs": [
        {
          "output_type": "stream",
          "name": "stdout",
          "text": [
            "0.3.12\n",
            "The study titled \"Grampp Multiple renal cancer susceptibility polymorphisms modulate the HIF pathway\" investigates the impact of genetic variations associated with renal cancer susceptibility on the hypoxia-inducible factor (HIF) pathway. The researchers focus on a set of polymorphisms known as the Grampp Multiple, which have been linked to an increased risk of renal cancer. The HIF pathway plays a crucial role in responding to low oxygen levels in cells and is frequently dysregulated in renal cancer. By analyzing the Grampp Multiple polymorphisms, the researchers aimed to understand how these genetic variations might influence HIF pathway activity and contribute to renal cancer development.The study revealed that certain variants within the Grampp Multiple are associated with altered HIF pathway function. These genetic variations can affect the stability and activity of HIF proteins, potentially leading to abnormal HIF signaling. The dysregulation of the HIF pathway due to these polymorphisms may contribute to the initiation and progression of renal cancer.Overall, the study suggests that the Grampp Multiple polymorphisms influence renal cancer susceptibility by modulating the HIF pathway. Understanding the impact of these genetic variations on HIF signaling could provide insights into the underlying mechanisms of renal cancer development and potentially aid in the development of targeted therapies or risk assessment strategies for individuals at higher risk of this disease.\n",
            "calculating scores...\n",
            "computing bert embedding.\n"
          ]
        },
        {
          "output_type": "display_data",
          "data": {
            "text/plain": [
              "  0%|          | 0/1 [00:00<?, ?it/s]"
            ],
            "application/vnd.jupyter.widget-view+json": {
              "version_major": 2,
              "version_minor": 0,
              "model_id": "866248aa21f94f60b05160fbba6d35b9"
            }
          },
          "metadata": {}
        },
        {
          "output_type": "stream",
          "name": "stdout",
          "text": [
            "computing greedy matching.\n"
          ]
        },
        {
          "output_type": "display_data",
          "data": {
            "text/plain": [
              "  0%|          | 0/1 [00:00<?, ?it/s]"
            ],
            "application/vnd.jupyter.widget-view+json": {
              "version_major": 2,
              "version_minor": 0,
              "model_id": "98942eee2d3946dcaeb9960af4fbf7c3"
            }
          },
          "metadata": {}
        },
        {
          "output_type": "stream",
          "name": "stdout",
          "text": [
            "done in 3.42 seconds, 0.29 sentences/sec\n",
            "[tensor(0.8466)]\n",
            "System level F1 mean: 0.847\n",
            "System level F1 standard deviation: nan\n",
            "System level F1 max value: 0.847\n"
          ]
        },
        {
          "output_type": "display_data",
          "data": {
            "text/plain": [
              "<Figure size 640x480 with 1 Axes>"
            ],
            "image/png": "[encoded data removed]"
          },
          "metadata": {}
        }
      ]
    }
  ]
}